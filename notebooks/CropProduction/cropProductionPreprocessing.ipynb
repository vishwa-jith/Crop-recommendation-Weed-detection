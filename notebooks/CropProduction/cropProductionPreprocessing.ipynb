{
 "metadata": {
  "language_info": {
   "codemirror_mode": {
    "name": "ipython",
    "version": 3
   },
   "file_extension": ".py",
   "mimetype": "text/x-python",
   "name": "python",
   "nbconvert_exporter": "python",
   "pygments_lexer": "ipython3",
   "version": "3.8.7-final"
  },
  "orig_nbformat": 2,
  "kernelspec": {
   "name": "python3",
   "display_name": "Python 3.8.7 64-bit ('env')",
   "metadata": {
    "interpreter": {
     "hash": "240bdb75a46841656d3d3c56afa5b67e61fa4632d86769497d7a6fcb25115f16"
    }
   }
  }
 },
 "nbformat": 4,
 "nbformat_minor": 2,
 "cells": [
  {
   "cell_type": "code",
   "execution_count": 1,
   "metadata": {},
   "outputs": [],
   "source": [
    "# Import Libraries\n",
    "import numpy as np \n",
    "import pandas as pd"
   ]
  },
  {
   "cell_type": "code",
   "execution_count": 2,
   "metadata": {},
   "outputs": [],
   "source": [
    "# Define DataFrame\n",
    "cropProduction=pd.read_csv(\"../../data/CropProduction.csv\")\n",
    "cropRecommentationA1=pd.read_csv(\"../../data/CropRecommendationApproach1.csv\")"
   ]
  },
  {
   "cell_type": "code",
   "execution_count": 3,
   "metadata": {},
   "outputs": [
    {
     "output_type": "stream",
     "name": "stdout",
     "text": [
      "Crop Production Unique Crops:  ['rice' 'maize' 'chickpea' 'kidneybeans' 'pigeonpeas' 'mothbeans'\n 'mungbean' 'blackgram' 'lentil' 'pomegranate' 'banana' 'mango' 'grapes'\n 'watermelon' 'muskmelon' 'apple' 'orange' 'papaya' 'coconut' 'cotton'\n 'jute' 'coffee']\nCrop Recommendation Unique Crops:  ['arecanut' 'other kharif pulses' 'rice' 'banana' 'cashewnut' 'coconut '\n 'dry ginger' 'sugarcane' 'sweet potato' 'tapioca' 'black pepper'\n 'dry chillies' 'other oilseeds' 'turmeric' 'maize' 'moong(green gram)'\n 'urad' 'arhar/tur' 'groundnut' 'sunflower' 'bajra' 'castor seed'\n 'cotton(lint)' 'horse-gram' 'jowar' 'korra' 'ragi' 'tobacco' 'gram'\n 'wheat' 'masoor' 'sesamum' 'linseed' 'safflower' 'onion'\n 'other misc. pulses' 'samai' 'small millets' 'coriander' 'potato'\n 'other  rabi pulses' 'soyabean' 'beans & mutter(vegetable)' 'bhindi'\n 'brinjal' 'citrus fruit' 'cucumber' 'grapes' 'mango' 'orange'\n 'other fibres' 'other fresh fruits' 'other vegetables' 'papaya'\n 'pome fruit' 'tomato' 'rapeseed &mustard' 'mesta' 'cowpea(lobia)' 'lemon'\n 'pome granet' 'sapota' 'cabbage' 'peas  (vegetable)' 'niger seed'\n 'bottle gourd' 'sannhamp' 'varagu' 'garlic' 'ginger' 'oilseeds total'\n 'pulses total' 'jute' 'peas & beans (pulses)' 'blackgram' 'paddy'\n 'pineapple' 'barley' 'khesari' 'guar seed' 'moth'\n 'other cereals & millets' 'cond-spcs other' 'turnip' 'carrot' 'redish'\n 'arcanut (processed)' 'atcanut (raw)' 'cashewnut processed'\n 'cashewnut raw' 'cardamom' 'rubber' 'bitter gourd' 'drum stick'\n 'jack fruit' 'snak guard' 'pump kin' 'tea' 'coffee' 'cauliflower'\n 'other citrus fruit' 'water melon' 'total foodgrain' 'kapas' 'colocosia'\n 'lentil' 'bean' 'jobster' 'perilla' 'rajmash kholar' 'ricebean (nagadal)'\n 'ash gourd' 'beet root' 'lab-lab' 'ribed guard' 'yam' 'apple' 'peach'\n 'pear' 'plums' 'litchi' 'ber' 'other dry fruit' 'jute & mesta']\n"
     ]
    }
   ],
   "source": [
    "# Crop Production Unique\n",
    "cpUnique=pd.unique(cropRecommentationA1[\"label\"].str.lower())\n",
    "# Crop Recommendation Unique\n",
    "crUnique=pd.unique(cropProduction[\"Crop\"].str.lower())\n",
    "print(\"Crop Production Unique Crops: \",cpUnique)\n",
    "print(\"Crop Recommendation Unique Crops: \",crUnique)"
   ]
  },
  {
   "cell_type": "code",
   "execution_count": 4,
   "metadata": {},
   "outputs": [
    {
     "output_type": "execute_result",
     "data": {
      "text/plain": [
       "['rice',\n",
       " 'maize',\n",
       " 'blackgram',\n",
       " 'lentil',\n",
       " 'banana',\n",
       " 'mango',\n",
       " 'grapes',\n",
       " 'apple',\n",
       " 'orange',\n",
       " 'papaya',\n",
       " 'jute',\n",
       " 'coffee']"
      ]
     },
     "metadata": {},
     "execution_count": 4
    }
   ],
   "source": [
    "# Common Crops\n",
    "unique=[cpU for cpU in cpUnique if cpU in crUnique]\n",
    "unique"
   ]
  },
  {
   "cell_type": "code",
   "execution_count": 5,
   "metadata": {},
   "outputs": [
    {
     "output_type": "execute_result",
     "data": {
      "text/plain": [
       "                        State_Name District_Name  Crop_Year       Season  \\\n",
       "0      Andaman and Nicobar Islands      NICOBARS       2000  Kharif        \n",
       "1      Andaman and Nicobar Islands      NICOBARS       2000  Whole Year    \n",
       "2      Andaman and Nicobar Islands      NICOBARS       2001  Kharif        \n",
       "3      Andaman and Nicobar Islands      NICOBARS       2002  Kharif        \n",
       "4      Andaman and Nicobar Islands      NICOBARS       2002  Whole Year    \n",
       "...                            ...           ...        ...          ...   \n",
       "35199                  West Bengal       PURULIA       2014  Autumn        \n",
       "35200                  West Bengal       PURULIA       2014  Autumn        \n",
       "35201                  West Bengal       PURULIA       2014  Summer        \n",
       "35202                  West Bengal       PURULIA       2014  Summer        \n",
       "35203                  West Bengal       PURULIA       2014  Winter        \n",
       "\n",
       "         Crop      Area  Production  \n",
       "0        Rice     102.0      321.00  \n",
       "1      Banana     176.0      641.00  \n",
       "2        Rice      83.0      300.00  \n",
       "3        Rice     189.2      510.84  \n",
       "4      Banana     213.0     1278.00  \n",
       "...       ...       ...         ...  \n",
       "35199   Maize    6317.0    13337.00  \n",
       "35200    Rice     264.0      721.00  \n",
       "35201   Maize     325.0     2039.00  \n",
       "35202    Rice     306.0      801.00  \n",
       "35203    Rice  279151.0   597899.00  \n",
       "\n",
       "[35204 rows x 7 columns]"
      ],
      "text/html": "<div>\n<style scoped>\n    .dataframe tbody tr th:only-of-type {\n        vertical-align: middle;\n    }\n\n    .dataframe tbody tr th {\n        vertical-align: top;\n    }\n\n    .dataframe thead th {\n        text-align: right;\n    }\n</style>\n<table border=\"1\" class=\"dataframe\">\n  <thead>\n    <tr style=\"text-align: right;\">\n      <th></th>\n      <th>State_Name</th>\n      <th>District_Name</th>\n      <th>Crop_Year</th>\n      <th>Season</th>\n      <th>Crop</th>\n      <th>Area</th>\n      <th>Production</th>\n    </tr>\n  </thead>\n  <tbody>\n    <tr>\n      <th>0</th>\n      <td>Andaman and Nicobar Islands</td>\n      <td>NICOBARS</td>\n      <td>2000</td>\n      <td>Kharif</td>\n      <td>Rice</td>\n      <td>102.0</td>\n      <td>321.00</td>\n    </tr>\n    <tr>\n      <th>1</th>\n      <td>Andaman and Nicobar Islands</td>\n      <td>NICOBARS</td>\n      <td>2000</td>\n      <td>Whole Year</td>\n      <td>Banana</td>\n      <td>176.0</td>\n      <td>641.00</td>\n    </tr>\n    <tr>\n      <th>2</th>\n      <td>Andaman and Nicobar Islands</td>\n      <td>NICOBARS</td>\n      <td>2001</td>\n      <td>Kharif</td>\n      <td>Rice</td>\n      <td>83.0</td>\n      <td>300.00</td>\n    </tr>\n    <tr>\n      <th>3</th>\n      <td>Andaman and Nicobar Islands</td>\n      <td>NICOBARS</td>\n      <td>2002</td>\n      <td>Kharif</td>\n      <td>Rice</td>\n      <td>189.2</td>\n      <td>510.84</td>\n    </tr>\n    <tr>\n      <th>4</th>\n      <td>Andaman and Nicobar Islands</td>\n      <td>NICOBARS</td>\n      <td>2002</td>\n      <td>Whole Year</td>\n      <td>Banana</td>\n      <td>213.0</td>\n      <td>1278.00</td>\n    </tr>\n    <tr>\n      <th>...</th>\n      <td>...</td>\n      <td>...</td>\n      <td>...</td>\n      <td>...</td>\n      <td>...</td>\n      <td>...</td>\n      <td>...</td>\n    </tr>\n    <tr>\n      <th>35199</th>\n      <td>West Bengal</td>\n      <td>PURULIA</td>\n      <td>2014</td>\n      <td>Autumn</td>\n      <td>Maize</td>\n      <td>6317.0</td>\n      <td>13337.00</td>\n    </tr>\n    <tr>\n      <th>35200</th>\n      <td>West Bengal</td>\n      <td>PURULIA</td>\n      <td>2014</td>\n      <td>Autumn</td>\n      <td>Rice</td>\n      <td>264.0</td>\n      <td>721.00</td>\n    </tr>\n    <tr>\n      <th>35201</th>\n      <td>West Bengal</td>\n      <td>PURULIA</td>\n      <td>2014</td>\n      <td>Summer</td>\n      <td>Maize</td>\n      <td>325.0</td>\n      <td>2039.00</td>\n    </tr>\n    <tr>\n      <th>35202</th>\n      <td>West Bengal</td>\n      <td>PURULIA</td>\n      <td>2014</td>\n      <td>Summer</td>\n      <td>Rice</td>\n      <td>306.0</td>\n      <td>801.00</td>\n    </tr>\n    <tr>\n      <th>35203</th>\n      <td>West Bengal</td>\n      <td>PURULIA</td>\n      <td>2014</td>\n      <td>Winter</td>\n      <td>Rice</td>\n      <td>279151.0</td>\n      <td>597899.00</td>\n    </tr>\n  </tbody>\n</table>\n<p>35204 rows × 7 columns</p>\n</div>"
     },
     "metadata": {},
     "execution_count": 5
    }
   ],
   "source": [
    "# Drop unnecessary Crops\n",
    "data=cropProduction[cropProduction[\"Crop\"].str.lower().isin(unique)].reset_index(drop=True)\n",
    "# Export Preprocessed Data\n",
    "data.to_csv(\"../../data/CropProductionMinified.csv\")\n",
    "data"
   ]
  },
  {
   "cell_type": "code",
   "execution_count": 6,
   "metadata": {},
   "outputs": [],
   "source": [
    "# Drop Year\n",
    "data=data.drop(['Crop_Year'],axis=1)"
   ]
  },
  {
   "cell_type": "code",
   "execution_count": 7,
   "metadata": {},
   "outputs": [
    {
     "output_type": "execute_result",
     "data": {
      "text/plain": [
       "                        State_Name District_Name       Season    Crop  \\\n",
       "0      Andaman and Nicobar Islands      NICOBARS  Kharif         Rice   \n",
       "1      Andaman and Nicobar Islands      NICOBARS  Whole Year   Banana   \n",
       "2      Andaman and Nicobar Islands      NICOBARS  Kharif         Rice   \n",
       "3      Andaman and Nicobar Islands      NICOBARS  Kharif         Rice   \n",
       "4      Andaman and Nicobar Islands      NICOBARS  Whole Year   Banana   \n",
       "...                            ...           ...          ...     ...   \n",
       "34538                  West Bengal       PURULIA  Autumn        Maize   \n",
       "34539                  West Bengal       PURULIA  Autumn         Rice   \n",
       "34540                  West Bengal       PURULIA  Summer        Maize   \n",
       "34541                  West Bengal       PURULIA  Summer         Rice   \n",
       "34542                  West Bengal       PURULIA  Winter         Rice   \n",
       "\n",
       "           Area  Production  \n",
       "0         102.0      321.00  \n",
       "1         176.0      641.00  \n",
       "2          83.0      300.00  \n",
       "3         189.2      510.84  \n",
       "4         213.0     1278.00  \n",
       "...         ...         ...  \n",
       "34538    6317.0    13337.00  \n",
       "34539     264.0      721.00  \n",
       "34540     325.0     2039.00  \n",
       "34541     306.0      801.00  \n",
       "34542  279151.0   597899.00  \n",
       "\n",
       "[34543 rows x 6 columns]"
      ],
      "text/html": "<div>\n<style scoped>\n    .dataframe tbody tr th:only-of-type {\n        vertical-align: middle;\n    }\n\n    .dataframe tbody tr th {\n        vertical-align: top;\n    }\n\n    .dataframe thead th {\n        text-align: right;\n    }\n</style>\n<table border=\"1\" class=\"dataframe\">\n  <thead>\n    <tr style=\"text-align: right;\">\n      <th></th>\n      <th>State_Name</th>\n      <th>District_Name</th>\n      <th>Season</th>\n      <th>Crop</th>\n      <th>Area</th>\n      <th>Production</th>\n    </tr>\n  </thead>\n  <tbody>\n    <tr>\n      <th>0</th>\n      <td>Andaman and Nicobar Islands</td>\n      <td>NICOBARS</td>\n      <td>Kharif</td>\n      <td>Rice</td>\n      <td>102.0</td>\n      <td>321.00</td>\n    </tr>\n    <tr>\n      <th>1</th>\n      <td>Andaman and Nicobar Islands</td>\n      <td>NICOBARS</td>\n      <td>Whole Year</td>\n      <td>Banana</td>\n      <td>176.0</td>\n      <td>641.00</td>\n    </tr>\n    <tr>\n      <th>2</th>\n      <td>Andaman and Nicobar Islands</td>\n      <td>NICOBARS</td>\n      <td>Kharif</td>\n      <td>Rice</td>\n      <td>83.0</td>\n      <td>300.00</td>\n    </tr>\n    <tr>\n      <th>3</th>\n      <td>Andaman and Nicobar Islands</td>\n      <td>NICOBARS</td>\n      <td>Kharif</td>\n      <td>Rice</td>\n      <td>189.2</td>\n      <td>510.84</td>\n    </tr>\n    <tr>\n      <th>4</th>\n      <td>Andaman and Nicobar Islands</td>\n      <td>NICOBARS</td>\n      <td>Whole Year</td>\n      <td>Banana</td>\n      <td>213.0</td>\n      <td>1278.00</td>\n    </tr>\n    <tr>\n      <th>...</th>\n      <td>...</td>\n      <td>...</td>\n      <td>...</td>\n      <td>...</td>\n      <td>...</td>\n      <td>...</td>\n    </tr>\n    <tr>\n      <th>34538</th>\n      <td>West Bengal</td>\n      <td>PURULIA</td>\n      <td>Autumn</td>\n      <td>Maize</td>\n      <td>6317.0</td>\n      <td>13337.00</td>\n    </tr>\n    <tr>\n      <th>34539</th>\n      <td>West Bengal</td>\n      <td>PURULIA</td>\n      <td>Autumn</td>\n      <td>Rice</td>\n      <td>264.0</td>\n      <td>721.00</td>\n    </tr>\n    <tr>\n      <th>34540</th>\n      <td>West Bengal</td>\n      <td>PURULIA</td>\n      <td>Summer</td>\n      <td>Maize</td>\n      <td>325.0</td>\n      <td>2039.00</td>\n    </tr>\n    <tr>\n      <th>34541</th>\n      <td>West Bengal</td>\n      <td>PURULIA</td>\n      <td>Summer</td>\n      <td>Rice</td>\n      <td>306.0</td>\n      <td>801.00</td>\n    </tr>\n    <tr>\n      <th>34542</th>\n      <td>West Bengal</td>\n      <td>PURULIA</td>\n      <td>Winter</td>\n      <td>Rice</td>\n      <td>279151.0</td>\n      <td>597899.00</td>\n    </tr>\n  </tbody>\n</table>\n<p>34543 rows × 6 columns</p>\n</div>"
     },
     "metadata": {},
     "execution_count": 7
    }
   ],
   "source": [
    "finalData=data[data['Production']>0].reset_index(drop=True)\n",
    "finalData"
   ]
  },
  {
   "cell_type": "code",
   "execution_count": 8,
   "metadata": {},
   "outputs": [],
   "source": [
    "# Set Features as Category\n",
    "finalData['State_Name']=finalData['State_Name'].astype('category')\n",
    "finalData['District_Name']=finalData['District_Name'].astype('category')\n",
    "finalData['Season']=finalData['Season'].astype('category')\n",
    "finalData['Crop']=finalData['Crop'].astype('category')"
   ]
  },
  {
   "cell_type": "code",
   "execution_count": 9,
   "metadata": {},
   "outputs": [],
   "source": [
    "# Convert Category to codes\n",
    "finalData['State_Name']=finalData['State_Name'].cat.codes\n",
    "finalData['District_Name']=finalData['District_Name'].cat.codes\n",
    "finalData['Season']=finalData['Season'].cat.codes\n",
    "finalData['Crop']=finalData['Crop'].cat.codes"
   ]
  },
  {
   "cell_type": "code",
   "execution_count": 10,
   "metadata": {},
   "outputs": [
    {
     "output_type": "execute_result",
     "data": {
      "text/plain": [
       "State_Name       False\n",
       "District_Name    False\n",
       "Season           False\n",
       "Crop             False\n",
       "Area             False\n",
       "Production       False\n",
       "dtype: bool"
      ]
     },
     "metadata": {},
     "execution_count": 10
    }
   ],
   "source": [
    "# Check for NULL values\n",
    "finalData.isnull().any()"
   ]
  },
  {
   "cell_type": "code",
   "execution_count": 11,
   "metadata": {},
   "outputs": [
    {
     "output_type": "execute_result",
     "data": {
      "text/plain": [
       "State_Name       False\n",
       "District_Name    False\n",
       "Season           False\n",
       "Crop             False\n",
       "Area             False\n",
       "Production       False\n",
       "dtype: bool"
      ]
     },
     "metadata": {},
     "execution_count": 11
    }
   ],
   "source": [
    "# Check for na values\n",
    "finalData.isna().any()"
   ]
  },
  {
   "cell_type": "code",
   "execution_count": 12,
   "metadata": {},
   "outputs": [
    {
     "output_type": "execute_result",
     "data": {
      "text/plain": [
       "       State_Name  District_Name  Season  Crop      Area  Production\n",
       "0               0            423       1    10     102.0      321.00\n",
       "1               0            423       4     0     176.0      641.00\n",
       "2               0            423       1    10      83.0      300.00\n",
       "3               0            423       1    10     189.2      510.84\n",
       "4               0            423       4     0     213.0     1278.00\n",
       "...           ...            ...     ...   ...       ...         ...\n",
       "34538          32            467       0     6    6317.0    13337.00\n",
       "34539          32            467       0    10     264.0      721.00\n",
       "34540          32            467       3     6     325.0     2039.00\n",
       "34541          32            467       3    10     306.0      801.00\n",
       "34542          32            467       5    10  279151.0   597899.00\n",
       "\n",
       "[34543 rows x 6 columns]"
      ],
      "text/html": "<div>\n<style scoped>\n    .dataframe tbody tr th:only-of-type {\n        vertical-align: middle;\n    }\n\n    .dataframe tbody tr th {\n        vertical-align: top;\n    }\n\n    .dataframe thead th {\n        text-align: right;\n    }\n</style>\n<table border=\"1\" class=\"dataframe\">\n  <thead>\n    <tr style=\"text-align: right;\">\n      <th></th>\n      <th>State_Name</th>\n      <th>District_Name</th>\n      <th>Season</th>\n      <th>Crop</th>\n      <th>Area</th>\n      <th>Production</th>\n    </tr>\n  </thead>\n  <tbody>\n    <tr>\n      <th>0</th>\n      <td>0</td>\n      <td>423</td>\n      <td>1</td>\n      <td>10</td>\n      <td>102.0</td>\n      <td>321.00</td>\n    </tr>\n    <tr>\n      <th>1</th>\n      <td>0</td>\n      <td>423</td>\n      <td>4</td>\n      <td>0</td>\n      <td>176.0</td>\n      <td>641.00</td>\n    </tr>\n    <tr>\n      <th>2</th>\n      <td>0</td>\n      <td>423</td>\n      <td>1</td>\n      <td>10</td>\n      <td>83.0</td>\n      <td>300.00</td>\n    </tr>\n    <tr>\n      <th>3</th>\n      <td>0</td>\n      <td>423</td>\n      <td>1</td>\n      <td>10</td>\n      <td>189.2</td>\n      <td>510.84</td>\n    </tr>\n    <tr>\n      <th>4</th>\n      <td>0</td>\n      <td>423</td>\n      <td>4</td>\n      <td>0</td>\n      <td>213.0</td>\n      <td>1278.00</td>\n    </tr>\n    <tr>\n      <th>...</th>\n      <td>...</td>\n      <td>...</td>\n      <td>...</td>\n      <td>...</td>\n      <td>...</td>\n      <td>...</td>\n    </tr>\n    <tr>\n      <th>34538</th>\n      <td>32</td>\n      <td>467</td>\n      <td>0</td>\n      <td>6</td>\n      <td>6317.0</td>\n      <td>13337.00</td>\n    </tr>\n    <tr>\n      <th>34539</th>\n      <td>32</td>\n      <td>467</td>\n      <td>0</td>\n      <td>10</td>\n      <td>264.0</td>\n      <td>721.00</td>\n    </tr>\n    <tr>\n      <th>34540</th>\n      <td>32</td>\n      <td>467</td>\n      <td>3</td>\n      <td>6</td>\n      <td>325.0</td>\n      <td>2039.00</td>\n    </tr>\n    <tr>\n      <th>34541</th>\n      <td>32</td>\n      <td>467</td>\n      <td>3</td>\n      <td>10</td>\n      <td>306.0</td>\n      <td>801.00</td>\n    </tr>\n    <tr>\n      <th>34542</th>\n      <td>32</td>\n      <td>467</td>\n      <td>5</td>\n      <td>10</td>\n      <td>279151.0</td>\n      <td>597899.00</td>\n    </tr>\n  </tbody>\n</table>\n<p>34543 rows × 6 columns</p>\n</div>"
     },
     "metadata": {},
     "execution_count": 12
    }
   ],
   "source": [
    "# Display Final Data\n",
    "finalData"
   ]
  },
  {
   "cell_type": "code",
   "execution_count": 13,
   "metadata": {},
   "outputs": [],
   "source": [
    "# Export Preprocessed Data\n",
    "finalData.to_csv(\"../../preprocessedData/CropProduction.csv\")"
   ]
  }
 ]
}