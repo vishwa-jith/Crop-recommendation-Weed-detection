{
 "metadata": {
  "language_info": {
   "codemirror_mode": {
    "name": "ipython",
    "version": 3
   },
   "file_extension": ".py",
   "mimetype": "text/x-python",
   "name": "python",
   "nbconvert_exporter": "python",
   "pygments_lexer": "ipython3",
   "version": "3.8.7-final"
  },
  "orig_nbformat": 2,
  "kernelspec": {
   "name": "python3",
   "display_name": "Python 3",
   "language": "python"
  }
 },
 "nbformat": 4,
 "nbformat_minor": 2,
 "cells": [
  {
   "cell_type": "code",
   "execution_count": 19,
   "metadata": {},
   "outputs": [],
   "source": [
    "# Import Libraries\n",
    "import pickle\n",
    "import pandas as pd\n",
    "from sklearn.model_selection import train_test_split\n",
    "from sklearn.preprocessing import StandardScaler\n",
    "from sklearn.impute import KNNImputer\n",
    "# Models\n",
    "from sklearn.ensemble import GradientBoostingRegressor"
   ]
  },
  {
   "cell_type": "code",
   "execution_count": 20,
   "metadata": {},
   "outputs": [],
   "source": [
    "# Define DataFrame\n",
    "cropProduction=pd.read_csv(\"../../../preprocessedData/CropProduction.csv\")"
   ]
  },
  {
   "cell_type": "code",
   "execution_count": 21,
   "metadata": {},
   "outputs": [
    {
     "output_type": "execute_result",
     "data": {
      "text/plain": [
       "       State_Name  District_Name  Season  Crop      Area\n",
       "0               0            423       1    10     102.0\n",
       "1               0            423       4     0     176.0\n",
       "2               0            423       1    10      83.0\n",
       "3               0            423       1    10     189.2\n",
       "4               0            423       4     0     213.0\n",
       "...           ...            ...     ...   ...       ...\n",
       "34538          32            467       0     6    6317.0\n",
       "34539          32            467       0    10     264.0\n",
       "34540          32            467       3     6     325.0\n",
       "34541          32            467       3    10     306.0\n",
       "34542          32            467       5    10  279151.0\n",
       "\n",
       "[34543 rows x 5 columns]"
      ],
      "text/html": "<div>\n<style scoped>\n    .dataframe tbody tr th:only-of-type {\n        vertical-align: middle;\n    }\n\n    .dataframe tbody tr th {\n        vertical-align: top;\n    }\n\n    .dataframe thead th {\n        text-align: right;\n    }\n</style>\n<table border=\"1\" class=\"dataframe\">\n  <thead>\n    <tr style=\"text-align: right;\">\n      <th></th>\n      <th>State_Name</th>\n      <th>District_Name</th>\n      <th>Season</th>\n      <th>Crop</th>\n      <th>Area</th>\n    </tr>\n  </thead>\n  <tbody>\n    <tr>\n      <th>0</th>\n      <td>0</td>\n      <td>423</td>\n      <td>1</td>\n      <td>10</td>\n      <td>102.0</td>\n    </tr>\n    <tr>\n      <th>1</th>\n      <td>0</td>\n      <td>423</td>\n      <td>4</td>\n      <td>0</td>\n      <td>176.0</td>\n    </tr>\n    <tr>\n      <th>2</th>\n      <td>0</td>\n      <td>423</td>\n      <td>1</td>\n      <td>10</td>\n      <td>83.0</td>\n    </tr>\n    <tr>\n      <th>3</th>\n      <td>0</td>\n      <td>423</td>\n      <td>1</td>\n      <td>10</td>\n      <td>189.2</td>\n    </tr>\n    <tr>\n      <th>4</th>\n      <td>0</td>\n      <td>423</td>\n      <td>4</td>\n      <td>0</td>\n      <td>213.0</td>\n    </tr>\n    <tr>\n      <th>...</th>\n      <td>...</td>\n      <td>...</td>\n      <td>...</td>\n      <td>...</td>\n      <td>...</td>\n    </tr>\n    <tr>\n      <th>34538</th>\n      <td>32</td>\n      <td>467</td>\n      <td>0</td>\n      <td>6</td>\n      <td>6317.0</td>\n    </tr>\n    <tr>\n      <th>34539</th>\n      <td>32</td>\n      <td>467</td>\n      <td>0</td>\n      <td>10</td>\n      <td>264.0</td>\n    </tr>\n    <tr>\n      <th>34540</th>\n      <td>32</td>\n      <td>467</td>\n      <td>3</td>\n      <td>6</td>\n      <td>325.0</td>\n    </tr>\n    <tr>\n      <th>34541</th>\n      <td>32</td>\n      <td>467</td>\n      <td>3</td>\n      <td>10</td>\n      <td>306.0</td>\n    </tr>\n    <tr>\n      <th>34542</th>\n      <td>32</td>\n      <td>467</td>\n      <td>5</td>\n      <td>10</td>\n      <td>279151.0</td>\n    </tr>\n  </tbody>\n</table>\n<p>34543 rows × 5 columns</p>\n</div>"
     },
     "metadata": {},
     "execution_count": 21
    }
   ],
   "source": [
    "features=cropProduction[[\"State_Name\",\"District_Name\",\"Season\",\"Crop\",\"Area\"]]\n",
    "target=cropProduction[\"Production\"]\n",
    "features"
   ]
  },
  {
   "cell_type": "code",
   "execution_count": 22,
   "metadata": {},
   "outputs": [],
   "source": [
    "# Standardization\n",
    "scaler=StandardScaler()\n",
    "scaler.fit(features)\n",
    "pickle.dump(scaler, open(\"../../../pickledFiles/cropProductionScaler.sav\", 'wb'))\n",
    "features=scaler.transform(features)"
   ]
  },
  {
   "cell_type": "code",
   "execution_count": 23,
   "metadata": {},
   "outputs": [],
   "source": [
    "X_train,X_test,Y_train,Y_test=train_test_split(features,target,test_size=0.001,random_state=2)"
   ]
  },
  {
   "cell_type": "code",
   "execution_count": 15,
   "metadata": {},
   "outputs": [
    {
     "output_type": "execute_result",
     "data": {
      "text/plain": [
       "GradientBoostingRegressor(random_state=0)"
      ]
     },
     "metadata": {},
     "execution_count": 15
    }
   ],
   "source": [
    "# Training\n",
    "GradientBoosting=GradientBoostingRegressor(random_state=0)\n",
    "GradientBoosting.fit(X_train,Y_train)"
   ]
  },
  {
   "cell_type": "code",
   "execution_count": 16,
   "metadata": {},
   "outputs": [
    {
     "output_type": "execute_result",
     "data": {
      "text/plain": [
       "array([627531.92221206,  -2785.4873686 , -13710.61294328,  -4395.72289967,\n",
       "        36394.95233514,  60760.18121198,  20795.22622946,   5787.50216461,\n",
       "        -5367.64701456, 368282.67893501,  13727.23766526,  14875.03446922,\n",
       "        99822.24609408,   1647.22595241,  -1219.07929677,  65351.18915688,\n",
       "        -1305.78971516,  -4306.80360706,  32602.30123806,  15724.31918814,\n",
       "         1694.18600335, 338903.66568267, 673443.88172327,  23134.16746854,\n",
       "        30600.66128415,   6822.50616689,  19395.02155471,   1724.57457638,\n",
       "        29376.3652307 ,  -3352.79522022,  57830.41354412, 154572.39135999,\n",
       "        63567.00800419,  28044.88189537,  16150.60263298])"
      ]
     },
     "metadata": {},
     "execution_count": 16
    }
   ],
   "source": [
    "# Testing\n",
    "GradientBoosting.predict(X_test)"
   ]
  },
  {
   "cell_type": "code",
   "execution_count": 17,
   "metadata": {},
   "outputs": [
    {
     "output_type": "execute_result",
     "data": {
      "text/plain": [
       "896      836157.00\n",
       "23013      1163.40\n",
       "15808      1092.54\n",
       "31661      1725.00\n",
       "8821      22215.00\n",
       "6400     101380.00\n",
       "16504     14833.00\n",
       "33122       254.00\n",
       "30969       558.00\n",
       "28022    397083.00\n",
       "14524     18323.00\n",
       "27165      7898.00\n",
       "8580      83737.00\n",
       "15135      8391.00\n",
       "5472       1996.00\n",
       "26391     67134.00\n",
       "12742       154.00\n",
       "29775       479.00\n",
       "11521     37660.00\n",
       "19321     16500.00\n",
       "30020      6500.00\n",
       "29806    271902.00\n",
       "9672     626563.00\n",
       "29549     27172.00\n",
       "4957      44456.00\n",
       "10071       900.00\n",
       "194        4000.00\n",
       "11145      1937.00\n",
       "20937     24250.00\n",
       "29694       180.00\n",
       "6901      28004.00\n",
       "7653     191087.00\n",
       "22570     58000.00\n",
       "17784      5403.00\n",
       "30678       473.00\n",
       "Name: Production, dtype: float64"
      ]
     },
     "metadata": {},
     "execution_count": 17
    }
   ],
   "source": [
    "Y_test"
   ]
  },
  {
   "cell_type": "code",
   "execution_count": 18,
   "metadata": {},
   "outputs": [],
   "source": [
    "import pickle\n",
    "pickle.dump(GradientBoosting, open(\"../../../pickledFiles/cropProduction.pkl\", \"wb\"))"
   ]
  }
 ]
}