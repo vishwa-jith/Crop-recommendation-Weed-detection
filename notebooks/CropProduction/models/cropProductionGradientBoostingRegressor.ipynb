{
 "metadata": {
  "language_info": {
   "codemirror_mode": {
    "name": "ipython",
    "version": 3
   },
   "file_extension": ".py",
   "mimetype": "text/x-python",
   "name": "python",
   "nbconvert_exporter": "python",
   "pygments_lexer": "ipython3",
   "version": "3.8.7-final"
  },
  "orig_nbformat": 2,
  "kernelspec": {
   "name": "python3",
   "display_name": "Python 3",
   "language": "python"
  }
 },
 "nbformat": 4,
 "nbformat_minor": 2,
 "cells": [
  {
   "cell_type": "code",
   "execution_count": 1,
   "metadata": {},
   "outputs": [],
   "source": [
    "# Import Libraries\n",
    "import pandas as pd\n",
    "from sklearn.model_selection import train_test_split\n",
    "from sklearn.preprocessing import StandardScaler\n",
    "from sklearn.impute import KNNImputer\n",
    "# Models\n",
    "from sklearn.ensemble import GradientBoostingRegressor"
   ]
  },
  {
   "cell_type": "code",
   "execution_count": 2,
   "metadata": {},
   "outputs": [],
   "source": [
    "# Define DataFrame\n",
    "cropProduction=pd.read_csv(\"../../../preprocessedData/CropProduction.csv\")"
   ]
  },
  {
   "cell_type": "code",
   "execution_count": 3,
   "metadata": {},
   "outputs": [],
   "source": [
    "# Imputer\n",
    "imputer=KNNImputer(n_neighbors=5)\n",
    "cropProduction=imputer.fit_transform(cropProduction)"
   ]
  },
  {
   "cell_type": "code",
   "execution_count": 4,
   "metadata": {},
   "outputs": [],
   "source": [
    "features=cropProduction[:,1:-1]\n",
    "target=cropProduction[:,-1]"
   ]
  },
  {
   "cell_type": "code",
   "execution_count": 5,
   "metadata": {},
   "outputs": [],
   "source": [
    "X_train,X_test,Y_train,Y_test=train_test_split(features,target,test_size=0.001,random_state=2)"
   ]
  },
  {
   "cell_type": "code",
   "execution_count": 6,
   "metadata": {},
   "outputs": [
    {
     "output_type": "execute_result",
     "data": {
      "text/plain": [
       "GradientBoostingRegressor(random_state=0)"
      ]
     },
     "metadata": {},
     "execution_count": 6
    }
   ],
   "source": [
    "# Training\n",
    "GradientBoosting=GradientBoostingRegressor(random_state=0)\n",
    "GradientBoosting.fit(X_train,Y_train)"
   ]
  },
  {
   "cell_type": "code",
   "execution_count": 7,
   "metadata": {},
   "outputs": [
    {
     "output_type": "execute_result",
     "data": {
      "text/plain": [
       "array([ 3.35269103e+04,  9.85256503e+04,  4.10302949e+03,  9.22566913e+03,\n",
       "       -2.19985907e+03,  1.08442147e+04,  6.96878331e+04,  1.73492629e+04,\n",
       "       -4.05216647e+03,  7.78622936e+05,  4.18548525e+05, -5.76510887e+02,\n",
       "        8.98905004e+04, -4.81886278e+02,  1.57305655e+04,  2.25253798e+04,\n",
       "       -2.19985907e+03,  1.77699077e+04,  4.11640474e+04,  4.03834540e+04,\n",
       "        3.54923719e+03,  2.21376397e+04,  1.12401011e+04,  3.26627620e+03,\n",
       "        6.64713731e+04, -2.78828968e+03,  3.17151946e+05, -3.54119276e+03,\n",
       "       -1.15586577e+03,  1.15217302e+05,  3.36068024e+04,  1.65895731e+05,\n",
       "       -1.74795864e+03,  2.37531056e+04,  6.85035003e+04,  1.96848611e+04])"
      ]
     },
     "metadata": {},
     "execution_count": 7
    }
   ],
   "source": [
    "# Testing\n",
    "GradientBoosting.predict(X_test)"
   ]
  }
 ]
}