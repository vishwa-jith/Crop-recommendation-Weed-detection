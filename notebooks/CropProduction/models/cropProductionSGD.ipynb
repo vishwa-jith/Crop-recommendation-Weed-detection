{
 "metadata": {
  "language_info": {
   "codemirror_mode": {
    "name": "ipython",
    "version": 3
   },
   "file_extension": ".py",
   "mimetype": "text/x-python",
   "name": "python",
   "nbconvert_exporter": "python",
   "pygments_lexer": "ipython3",
   "version": "3.8.7-final"
  },
  "orig_nbformat": 2,
  "kernelspec": {
   "name": "python3",
   "display_name": "Python 3",
   "language": "python"
  }
 },
 "nbformat": 4,
 "nbformat_minor": 2,
 "cells": [
  {
   "cell_type": "code",
   "execution_count": 1,
   "metadata": {},
   "outputs": [],
   "source": [
    "# Import Libraries\n",
    "import pandas as pd\n",
    "from sklearn.model_selection import train_test_split\n",
    "from sklearn.preprocessing import StandardScaler\n",
    "from sklearn.impute import KNNImputer\n",
    "# Models\n",
    "from sklearn.linear_model import SGDRegressor"
   ]
  },
  {
   "cell_type": "code",
   "execution_count": 2,
   "metadata": {},
   "outputs": [],
   "source": [
    "# Define DataFrame\n",
    "cropProduction=pd.read_csv(\"../../../preprocessedData/CropProduction.csv\")"
   ]
  },
  {
   "cell_type": "code",
   "execution_count": 3,
   "metadata": {},
   "outputs": [
    {
     "output_type": "execute_result",
     "data": {
      "text/plain": [
       "       State_Name  District_Name  Season  Crop      Area\n",
       "0               0            423       1    10     102.0\n",
       "1               0            423       4     0     176.0\n",
       "2               0            423       1    10      83.0\n",
       "3               0            423       1    10     189.2\n",
       "4               0            423       4     0     213.0\n",
       "...           ...            ...     ...   ...       ...\n",
       "34538          32            467       0     6    6317.0\n",
       "34539          32            467       0    10     264.0\n",
       "34540          32            467       3     6     325.0\n",
       "34541          32            467       3    10     306.0\n",
       "34542          32            467       5    10  279151.0\n",
       "\n",
       "[34543 rows x 5 columns]"
      ],
      "text/html": "<div>\n<style scoped>\n    .dataframe tbody tr th:only-of-type {\n        vertical-align: middle;\n    }\n\n    .dataframe tbody tr th {\n        vertical-align: top;\n    }\n\n    .dataframe thead th {\n        text-align: right;\n    }\n</style>\n<table border=\"1\" class=\"dataframe\">\n  <thead>\n    <tr style=\"text-align: right;\">\n      <th></th>\n      <th>State_Name</th>\n      <th>District_Name</th>\n      <th>Season</th>\n      <th>Crop</th>\n      <th>Area</th>\n    </tr>\n  </thead>\n  <tbody>\n    <tr>\n      <th>0</th>\n      <td>0</td>\n      <td>423</td>\n      <td>1</td>\n      <td>10</td>\n      <td>102.0</td>\n    </tr>\n    <tr>\n      <th>1</th>\n      <td>0</td>\n      <td>423</td>\n      <td>4</td>\n      <td>0</td>\n      <td>176.0</td>\n    </tr>\n    <tr>\n      <th>2</th>\n      <td>0</td>\n      <td>423</td>\n      <td>1</td>\n      <td>10</td>\n      <td>83.0</td>\n    </tr>\n    <tr>\n      <th>3</th>\n      <td>0</td>\n      <td>423</td>\n      <td>1</td>\n      <td>10</td>\n      <td>189.2</td>\n    </tr>\n    <tr>\n      <th>4</th>\n      <td>0</td>\n      <td>423</td>\n      <td>4</td>\n      <td>0</td>\n      <td>213.0</td>\n    </tr>\n    <tr>\n      <th>...</th>\n      <td>...</td>\n      <td>...</td>\n      <td>...</td>\n      <td>...</td>\n      <td>...</td>\n    </tr>\n    <tr>\n      <th>34538</th>\n      <td>32</td>\n      <td>467</td>\n      <td>0</td>\n      <td>6</td>\n      <td>6317.0</td>\n    </tr>\n    <tr>\n      <th>34539</th>\n      <td>32</td>\n      <td>467</td>\n      <td>0</td>\n      <td>10</td>\n      <td>264.0</td>\n    </tr>\n    <tr>\n      <th>34540</th>\n      <td>32</td>\n      <td>467</td>\n      <td>3</td>\n      <td>6</td>\n      <td>325.0</td>\n    </tr>\n    <tr>\n      <th>34541</th>\n      <td>32</td>\n      <td>467</td>\n      <td>3</td>\n      <td>10</td>\n      <td>306.0</td>\n    </tr>\n    <tr>\n      <th>34542</th>\n      <td>32</td>\n      <td>467</td>\n      <td>5</td>\n      <td>10</td>\n      <td>279151.0</td>\n    </tr>\n  </tbody>\n</table>\n<p>34543 rows × 5 columns</p>\n</div>"
     },
     "metadata": {},
     "execution_count": 3
    }
   ],
   "source": [
    "features=cropProduction[[\"State_Name\",\"District_Name\",\"Season\",\"Crop\",\"Area\"]]\n",
    "target=cropProduction[\"Production\"]\n",
    "features"
   ]
  },
  {
   "cell_type": "code",
   "execution_count": 4,
   "metadata": {},
   "outputs": [],
   "source": [
    "# Standardization\n",
    "scaler=StandardScaler()\n",
    "scaler.fit(features)\n",
    "features=scaler.transform(features)"
   ]
  },
  {
   "cell_type": "code",
   "execution_count": 5,
   "metadata": {},
   "outputs": [],
   "source": [
    "X_train,X_test,Y_train,Y_test=train_test_split(features,target,test_size=0.001,random_state=2)"
   ]
  },
  {
   "cell_type": "code",
   "execution_count": 6,
   "metadata": {},
   "outputs": [
    {
     "output_type": "execute_result",
     "data": {
      "text/plain": [
       "SGDRegressor(penalty=None)"
      ]
     },
     "metadata": {},
     "execution_count": 6
    }
   ],
   "source": [
    "# Training\n",
    "SGD=SGDRegressor(loss=\"squared_loss\",penalty=None)\n",
    "SGD.fit(X_train,Y_train)"
   ]
  },
  {
   "cell_type": "code",
   "execution_count": 7,
   "metadata": {},
   "outputs": [
    {
     "output_type": "execute_result",
     "data": {
      "text/plain": [
       "array([ 4.19767897e+05,  2.88017610e+04, -2.11885929e+04,  3.38529042e+04,\n",
       "        4.82465323e+04,  5.63497362e+04,  4.03355344e+04,  2.86235519e+04,\n",
       "        3.13178512e+04,  3.42695863e+05,  2.59900450e+04,  2.87592900e+04,\n",
       "        1.32500446e+05, -1.24318475e+04,  8.25546516e+03,  4.23205536e+04,\n",
       "       -1.02460817e+04, -2.63668862e+03,  4.74438537e+04,  3.66757234e+04,\n",
       "        3.48073207e+04,  3.35125445e+05,  1.12850174e+06,  5.47258769e+04,\n",
       "        2.04769470e+04,  1.49806543e+04, -3.05803937e+01, -9.85054019e+03,\n",
       "        3.24000602e+04,  2.00614152e+04,  8.06631046e+04,  2.04658060e+05,\n",
       "        6.98371817e+04,  2.98948060e+04,  5.21105993e+04])"
      ]
     },
     "metadata": {},
     "execution_count": 7
    }
   ],
   "source": [
    "# Testing\n",
    "SGD.predict(X_test)"
   ]
  },
  {
   "cell_type": "code",
   "execution_count": 8,
   "metadata": {},
   "outputs": [
    {
     "output_type": "execute_result",
     "data": {
      "text/plain": [
       "896      836157.00\n",
       "23013      1163.40\n",
       "15808      1092.54\n",
       "31661      1725.00\n",
       "8821      22215.00\n",
       "6400     101380.00\n",
       "16504     14833.00\n",
       "33122       254.00\n",
       "30969       558.00\n",
       "28022    397083.00\n",
       "14524     18323.00\n",
       "27165      7898.00\n",
       "8580      83737.00\n",
       "15135      8391.00\n",
       "5472       1996.00\n",
       "26391     67134.00\n",
       "12742       154.00\n",
       "29775       479.00\n",
       "11521     37660.00\n",
       "19321     16500.00\n",
       "30020      6500.00\n",
       "29806    271902.00\n",
       "9672     626563.00\n",
       "29549     27172.00\n",
       "4957      44456.00\n",
       "10071       900.00\n",
       "194        4000.00\n",
       "11145      1937.00\n",
       "20937     24250.00\n",
       "29694       180.00\n",
       "6901      28004.00\n",
       "7653     191087.00\n",
       "22570     58000.00\n",
       "17784      5403.00\n",
       "30678       473.00\n",
       "Name: Production, dtype: float64"
      ]
     },
     "metadata": {},
     "execution_count": 8
    }
   ],
   "source": [
    "Y_test"
   ]
  },
  {
   "cell_type": "code",
   "execution_count": 9,
   "metadata": {},
   "outputs": [],
   "source": [
    "import pickle\n",
    "pickle.dump(SGD, open(\"../../../pickledFiles/cropProduction.pkl\", \"wb\"))"
   ]
  }
 ]
}