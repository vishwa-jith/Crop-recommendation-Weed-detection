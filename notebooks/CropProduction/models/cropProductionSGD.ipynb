{
 "metadata": {
  "language_info": {
   "codemirror_mode": {
    "name": "ipython",
    "version": 3
   },
   "file_extension": ".py",
   "mimetype": "text/x-python",
   "name": "python",
   "nbconvert_exporter": "python",
   "pygments_lexer": "ipython3",
   "version": "3.8.7-final"
  },
  "orig_nbformat": 2,
  "kernelspec": {
   "name": "python3",
   "display_name": "Python 3",
   "language": "python"
  }
 },
 "nbformat": 4,
 "nbformat_minor": 2,
 "cells": [
  {
   "cell_type": "code",
   "execution_count": 1,
   "metadata": {},
   "outputs": [],
   "source": [
    "# Import Libraries\n",
    "import pandas as pd\n",
    "from sklearn.model_selection import train_test_split\n",
    "from sklearn.preprocessing import StandardScaler\n",
    "from sklearn.impute import KNNImputer\n",
    "# Models\n",
    "from sklearn.linear_model import SGDRegressor"
   ]
  },
  {
   "cell_type": "code",
   "execution_count": 2,
   "metadata": {},
   "outputs": [],
   "source": [
    "# Define DataFrame\n",
    "cropProduction=pd.read_csv(\"../../../preprocessedData/CropProduction.csv\")\n",
    "imputer=KNNImputer(n_neighbors=5)\n",
    "cropProduction=imputer.fit_transform(cropProduction)"
   ]
  },
  {
   "cell_type": "code",
   "execution_count": 3,
   "metadata": {},
   "outputs": [],
   "source": [
    "features=cropProduction[:,1:-1]\n",
    "target=cropProduction[:,-1]"
   ]
  },
  {
   "cell_type": "code",
   "execution_count": 4,
   "metadata": {},
   "outputs": [],
   "source": [
    "# Standardization\n",
    "scaler=StandardScaler()\n",
    "scaler.fit(features)\n",
    "features=scaler.transform(features)"
   ]
  },
  {
   "cell_type": "code",
   "execution_count": 5,
   "metadata": {},
   "outputs": [],
   "source": [
    "X_train,X_test,Y_train,Y_test=train_test_split(features,target,test_size=0.001,random_state=2)"
   ]
  },
  {
   "cell_type": "code",
   "execution_count": 6,
   "metadata": {},
   "outputs": [
    {
     "output_type": "execute_result",
     "data": {
      "text/plain": [
       "SGDRegressor(penalty=None)"
      ]
     },
     "metadata": {},
     "execution_count": 6
    }
   ],
   "source": [
    "# Training\n",
    "SGD=SGDRegressor(loss=\"squared_loss\",penalty=None)\n",
    "SGD.fit(X_train,Y_train)"
   ]
  },
  {
   "cell_type": "code",
   "execution_count": 7,
   "metadata": {},
   "outputs": [
    {
     "output_type": "execute_result",
     "data": {
      "text/plain": [
       "array([ 43949.68530592, 133683.42480853,  49002.89330292,   9652.21885139,\n",
       "        23700.53247248,  11092.22074739,  85137.78562365,  11426.90414048,\n",
       "         2438.02846978, 188543.68368286, 767896.11207174,  34794.52016845,\n",
       "       105306.29232367,  14712.75091769,  19638.47144572,  23575.07201051,\n",
       "        19180.40673868,  14703.65512264,  51146.6133317 ,  28908.64027675,\n",
       "         3990.29188299,   1184.91917018,  20939.77077204,  16866.03734399,\n",
       "        85576.27470254,  13272.0706639 ,  86392.34528441,  31115.08510027,\n",
       "        -3860.76795041, 125679.30494949,  12946.76272344, 206787.60137751,\n",
       "        35313.0591142 ,  27307.39396049,  56176.85819582,  46661.33986889])"
      ]
     },
     "metadata": {},
     "execution_count": 7
    }
   ],
   "source": [
    "# Testing\n",
    "SGD.predict(X_test)"
   ]
  }
 ]
}