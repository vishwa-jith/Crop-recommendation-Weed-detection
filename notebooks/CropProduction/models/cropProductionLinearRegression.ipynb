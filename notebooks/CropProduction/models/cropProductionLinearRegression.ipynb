{
 "metadata": {
  "language_info": {
   "codemirror_mode": {
    "name": "ipython",
    "version": 3
   },
   "file_extension": ".py",
   "mimetype": "text/x-python",
   "name": "python",
   "nbconvert_exporter": "python",
   "pygments_lexer": "ipython3",
   "version": "3.8.7-final"
  },
  "orig_nbformat": 2,
  "kernelspec": {
   "name": "python3",
   "display_name": "Python 3",
   "language": "python"
  }
 },
 "nbformat": 4,
 "nbformat_minor": 2,
 "cells": [
  {
   "cell_type": "code",
   "execution_count": 1,
   "metadata": {},
   "outputs": [],
   "source": [
    "# Import Libraries\n",
    "import pandas as pd\n",
    "from sklearn.model_selection import train_test_split\n",
    "from sklearn.preprocessing import StandardScaler\n",
    "from sklearn.impute import KNNImputer\n",
    "# Models\n",
    "from sklearn.linear_model import LinearRegression"
   ]
  },
  {
   "cell_type": "code",
   "execution_count": 2,
   "metadata": {},
   "outputs": [],
   "source": [
    "# Define DataFrame\n",
    "cropProduction=pd.read_csv(\"../../../preprocessedData/CropProduction.csv\")"
   ]
  },
  {
   "cell_type": "code",
   "execution_count": 3,
   "metadata": {},
   "outputs": [],
   "source": [
    "# Imputer\n",
    "imputer=KNNImputer(n_neighbors=5)\n",
    "cropProduction=imputer.fit_transform(cropProduction)"
   ]
  },
  {
   "cell_type": "code",
   "execution_count": 4,
   "metadata": {},
   "outputs": [],
   "source": [
    "features=cropProduction[:,1:-1]\n",
    "target=cropProduction[:,-1]"
   ]
  },
  {
   "cell_type": "code",
   "execution_count": 5,
   "metadata": {},
   "outputs": [],
   "source": [
    "X_train,X_test,Y_train,Y_test=train_test_split(features,target,test_size=0.001,random_state=2)"
   ]
  },
  {
   "cell_type": "code",
   "execution_count": 6,
   "metadata": {},
   "outputs": [
    {
     "output_type": "execute_result",
     "data": {
      "text/plain": [
       "LinearRegression()"
      ]
     },
     "metadata": {},
     "execution_count": 6
    }
   ],
   "source": [
    "# Training\n",
    "LinearReg=LinearRegression()\n",
    "LinearReg.fit(X_train,Y_train)"
   ]
  },
  {
   "cell_type": "code",
   "execution_count": 7,
   "metadata": {},
   "outputs": [
    {
     "output_type": "execute_result",
     "data": {
      "text/plain": [
       "array([ 45155.03898818, 126698.89506091,  39749.9263709 ,  10169.63852781,\n",
       "        19861.2471176 ,  12686.42891687,  81686.89186759,  13986.60678037,\n",
       "         1554.44296043, 174280.5224371 , 725004.22176498,  29508.06283133,\n",
       "        99779.21001025,  12965.1870913 ,  22598.76879456,  23428.2969232 ,\n",
       "        17441.67497825,  18216.35158089,  42989.67054045,  29441.23514286,\n",
       "         6121.98528084,   5356.03168355,  21086.30201947,  15374.60257714,\n",
       "        81660.59544794,  11896.18960299,  72331.93599625,  26980.11111796,\n",
       "        -1108.6919784 , 123806.60346995,  12816.5816316 , 199003.99964127,\n",
       "        30222.16556063,  27978.164236  ,  48897.51705863,  39302.68941475])"
      ]
     },
     "metadata": {},
     "execution_count": 7
    }
   ],
   "source": [
    "# Testing\n",
    "LinearReg.predict(X_test)"
   ]
  }
 ]
}