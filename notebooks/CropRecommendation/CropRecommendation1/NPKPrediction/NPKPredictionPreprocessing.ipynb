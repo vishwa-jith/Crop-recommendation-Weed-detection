{
 "metadata": {
  "language_info": {
   "codemirror_mode": {
    "name": "ipython",
    "version": 3
   },
   "file_extension": ".py",
   "mimetype": "text/x-python",
   "name": "python",
   "nbconvert_exporter": "python",
   "pygments_lexer": "ipython3",
   "version": "3.8.7-final"
  },
  "orig_nbformat": 2,
  "kernelspec": {
   "name": "python3",
   "display_name": "Python 3",
   "language": "python"
  }
 },
 "nbformat": 4,
 "nbformat_minor": 2,
 "cells": [
  {
   "cell_type": "code",
   "execution_count": 13,
   "metadata": {},
   "outputs": [],
   "source": [
    "# Import Libraries\n",
    "import numpy as np \n",
    "import pandas as pd"
   ]
  },
  {
   "cell_type": "code",
   "execution_count": 14,
   "metadata": {},
   "outputs": [],
   "source": [
    "# Define DataFrame\n",
    "cropProductionMinified=pd.read_csv(\"../../../../data/CropProductionMinified.csv\")\n",
    "NPKPrediction=pd.read_csv(\"../../../../data/CropRecommendationApproach2.csv\")"
   ]
  },
  {
   "cell_type": "code",
   "execution_count": 15,
   "metadata": {},
   "outputs": [
    {
     "output_type": "stream",
     "name": "stdout",
     "text": [
      "Crop Production Unique Crops:  ['rice' 'banana' 'maize' 'grapes' 'mango' 'orange' 'papaya' 'jute'\n 'blackgram' 'coffee' 'lentil' 'apple']\nNPK Prediction Unique Crops:  ['rice' 'maize' 'chickpea' 'kidneybeans' 'pigeonpeas' 'mothbeans'\n 'mungbean' 'blackgram' 'lentil' 'pomegranate' 'banana' 'mango' 'grapes'\n 'watermelon' 'muskmelon' 'apple' 'orange' 'papaya' 'coconut' 'cotton'\n 'jute' 'coffee']\n"
     ]
    }
   ],
   "source": [
    "# Crop Production Unique\n",
    "cpUnique=pd.unique(cropProductionMinified[\"Crop\"].str.lower())\n",
    "# Crop Recommendation Unique\n",
    "crUnique=pd.unique(NPKPrediction[\"label\"].str.lower())\n",
    "print(\"Crop Production Unique Crops: \",cpUnique)\n",
    "print(\"NPK Prediction Unique Crops: \",crUnique)"
   ]
  },
  {
   "cell_type": "code",
   "execution_count": 16,
   "metadata": {},
   "outputs": [],
   "source": [
    "NPKPrediction=NPKPrediction[NPKPrediction['label'].isin(cpUnique)].reset_index(drop=True)"
   ]
  },
  {
   "cell_type": "code",
   "execution_count": 17,
   "metadata": {},
   "outputs": [],
   "source": [
    "# Drop ph\n",
    "NPKPrediction=NPKPrediction.drop(columns=['ph'])"
   ]
  },
  {
   "cell_type": "code",
   "execution_count": 18,
   "metadata": {},
   "outputs": [],
   "source": [
    "NPKPrediction=NPKPrediction[NPKPrediction['N']>0 & NPKPrediction['P'] & NPKPrediction['K']].reset_index(drop=True)"
   ]
  },
  {
   "cell_type": "code",
   "execution_count": 19,
   "metadata": {},
   "outputs": [],
   "source": [
    "# Set Features as Category\n",
    "NPKPrediction['label']=NPKPrediction['label'].astype('category')"
   ]
  },
  {
   "cell_type": "code",
   "execution_count": 20,
   "metadata": {},
   "outputs": [],
   "source": [
    "# Convert Category to codes\n",
    "NPKPrediction['label']=NPKPrediction['label'].cat.codes"
   ]
  },
  {
   "cell_type": "code",
   "execution_count": 21,
   "metadata": {},
   "outputs": [
    {
     "output_type": "execute_result",
     "data": {
      "text/plain": [
       "N              False\n",
       "P              False\n",
       "K              False\n",
       "temperature    False\n",
       "humidity       False\n",
       "rainfall       False\n",
       "label          False\n",
       "dtype: bool"
      ]
     },
     "metadata": {},
     "execution_count": 21
    }
   ],
   "source": [
    "# Check for NULL values\n",
    "NPKPrediction.isnull().any()"
   ]
  },
  {
   "cell_type": "code",
   "execution_count": 22,
   "metadata": {},
   "outputs": [
    {
     "output_type": "execute_result",
     "data": {
      "text/plain": [
       "N              False\n",
       "P              False\n",
       "K              False\n",
       "temperature    False\n",
       "humidity       False\n",
       "rainfall       False\n",
       "label          False\n",
       "dtype: bool"
      ]
     },
     "metadata": {},
     "execution_count": 22
    }
   ],
   "source": [
    "# Check for na values\n",
    "NPKPrediction.isna().any()"
   ]
  },
  {
   "cell_type": "code",
   "execution_count": 23,
   "metadata": {},
   "outputs": [
    {
     "output_type": "execute_result",
     "data": {
      "text/plain": [
       "        N   P   K  temperature   humidity    rainfall  label\n",
       "0      90  42  43    20.879744  82.002744  202.935536     11\n",
       "1      85  58  41    21.770462  80.319644  226.655537     11\n",
       "2      60  55  44    23.004459  82.320763  263.964248     11\n",
       "3      74  35  40    26.491096  80.158363  242.864034     11\n",
       "4      78  42  42    20.130175  81.604873  262.717340     11\n",
       "...   ...  ..  ..          ...        ...         ...    ...\n",
       "1180  107  34  32    26.774637  66.413269  177.774507      3\n",
       "1181   99  15  27    27.417112  56.636362  127.924610      3\n",
       "1182  118  33  30    24.131797  67.225123  173.322839      3\n",
       "1183  117  32  34    26.272418  52.127394  127.175293      3\n",
       "1184  104  18  30    23.603016  60.396475  140.937041      3\n",
       "\n",
       "[1185 rows x 7 columns]"
      ],
      "text/html": "<div>\n<style scoped>\n    .dataframe tbody tr th:only-of-type {\n        vertical-align: middle;\n    }\n\n    .dataframe tbody tr th {\n        vertical-align: top;\n    }\n\n    .dataframe thead th {\n        text-align: right;\n    }\n</style>\n<table border=\"1\" class=\"dataframe\">\n  <thead>\n    <tr style=\"text-align: right;\">\n      <th></th>\n      <th>N</th>\n      <th>P</th>\n      <th>K</th>\n      <th>temperature</th>\n      <th>humidity</th>\n      <th>rainfall</th>\n      <th>label</th>\n    </tr>\n  </thead>\n  <tbody>\n    <tr>\n      <th>0</th>\n      <td>90</td>\n      <td>42</td>\n      <td>43</td>\n      <td>20.879744</td>\n      <td>82.002744</td>\n      <td>202.935536</td>\n      <td>11</td>\n    </tr>\n    <tr>\n      <th>1</th>\n      <td>85</td>\n      <td>58</td>\n      <td>41</td>\n      <td>21.770462</td>\n      <td>80.319644</td>\n      <td>226.655537</td>\n      <td>11</td>\n    </tr>\n    <tr>\n      <th>2</th>\n      <td>60</td>\n      <td>55</td>\n      <td>44</td>\n      <td>23.004459</td>\n      <td>82.320763</td>\n      <td>263.964248</td>\n      <td>11</td>\n    </tr>\n    <tr>\n      <th>3</th>\n      <td>74</td>\n      <td>35</td>\n      <td>40</td>\n      <td>26.491096</td>\n      <td>80.158363</td>\n      <td>242.864034</td>\n      <td>11</td>\n    </tr>\n    <tr>\n      <th>4</th>\n      <td>78</td>\n      <td>42</td>\n      <td>42</td>\n      <td>20.130175</td>\n      <td>81.604873</td>\n      <td>262.717340</td>\n      <td>11</td>\n    </tr>\n    <tr>\n      <th>...</th>\n      <td>...</td>\n      <td>...</td>\n      <td>...</td>\n      <td>...</td>\n      <td>...</td>\n      <td>...</td>\n      <td>...</td>\n    </tr>\n    <tr>\n      <th>1180</th>\n      <td>107</td>\n      <td>34</td>\n      <td>32</td>\n      <td>26.774637</td>\n      <td>66.413269</td>\n      <td>177.774507</td>\n      <td>3</td>\n    </tr>\n    <tr>\n      <th>1181</th>\n      <td>99</td>\n      <td>15</td>\n      <td>27</td>\n      <td>27.417112</td>\n      <td>56.636362</td>\n      <td>127.924610</td>\n      <td>3</td>\n    </tr>\n    <tr>\n      <th>1182</th>\n      <td>118</td>\n      <td>33</td>\n      <td>30</td>\n      <td>24.131797</td>\n      <td>67.225123</td>\n      <td>173.322839</td>\n      <td>3</td>\n    </tr>\n    <tr>\n      <th>1183</th>\n      <td>117</td>\n      <td>32</td>\n      <td>34</td>\n      <td>26.272418</td>\n      <td>52.127394</td>\n      <td>127.175293</td>\n      <td>3</td>\n    </tr>\n    <tr>\n      <th>1184</th>\n      <td>104</td>\n      <td>18</td>\n      <td>30</td>\n      <td>23.603016</td>\n      <td>60.396475</td>\n      <td>140.937041</td>\n      <td>3</td>\n    </tr>\n  </tbody>\n</table>\n<p>1185 rows × 7 columns</p>\n</div>"
     },
     "metadata": {},
     "execution_count": 23
    }
   ],
   "source": [
    "# Display Final Data\n",
    "NPKPrediction"
   ]
  },
  {
   "cell_type": "code",
   "execution_count": 24,
   "metadata": {},
   "outputs": [],
   "source": [
    "# Export Preprocessed Data\n",
    "NPKPrediction.to_csv(\"../../../../preprocessedData/NPKPrediction.csv\")"
   ]
  }
 ]
}