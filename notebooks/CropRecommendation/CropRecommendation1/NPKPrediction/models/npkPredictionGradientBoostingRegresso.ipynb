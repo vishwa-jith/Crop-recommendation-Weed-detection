{
 "metadata": {
  "language_info": {
   "codemirror_mode": {
    "name": "ipython",
    "version": 3
   },
   "file_extension": ".py",
   "mimetype": "text/x-python",
   "name": "python",
   "nbconvert_exporter": "python",
   "pygments_lexer": "ipython3",
   "version": "3.8.7-final"
  },
  "orig_nbformat": 2,
  "kernelspec": {
   "name": "python3",
   "display_name": "Python 3",
   "language": "python"
  }
 },
 "nbformat": 4,
 "nbformat_minor": 2,
 "cells": [
  {
   "cell_type": "code",
   "execution_count": 54,
   "metadata": {},
   "outputs": [],
   "source": [
    "# Import Libraries\n",
    "import pandas as pd\n",
    "from sklearn.model_selection import train_test_split\n",
    "from sklearn.preprocessing import StandardScaler\n",
    "from sklearn.impute import KNNImputer\n",
    "import pickle\n",
    "# Models\n",
    "from sklearn.ensemble import GradientBoostingRegressor"
   ]
  },
  {
   "cell_type": "code",
   "execution_count": 55,
   "metadata": {},
   "outputs": [],
   "source": [
    "# Define DataFrame\n",
    "NPKPrediction=pd.read_csv(\"../../../../../preprocessedData/NPKPrediction.csv\")"
   ]
  },
  {
   "cell_type": "code",
   "execution_count": 56,
   "metadata": {},
   "outputs": [],
   "source": [
    "# Drop Columns\n",
    "NPKPrediction=NPKPrediction.drop(columns=[\"Unnamed: 0\"])\n",
    "# Imputer\n",
    "imputer=KNNImputer(n_neighbors=5)\n",
    "NPKPrediction=imputer.fit_transform(NPKPrediction)"
   ]
  },
  {
   "cell_type": "code",
   "execution_count": 57,
   "metadata": {},
   "outputs": [],
   "source": [
    "features=NPKPrediction[:,3:]\n",
    "targetN=NPKPrediction[:,0]\n",
    "targetP=NPKPrediction[:,1]\n",
    "targetK=NPKPrediction[:,2]"
   ]
  },
  {
   "cell_type": "code",
   "execution_count": 58,
   "metadata": {},
   "outputs": [],
   "source": [
    "# Standardization\n",
    "scaler=StandardScaler()\n",
    "scaler.fit(features)\n",
    "features=scaler.transform(features)"
   ]
  },
  {
   "cell_type": "code",
   "execution_count": 59,
   "metadata": {},
   "outputs": [],
   "source": [
    "X_train,X_test,Y_train,Y_test=train_test_split(features,targetN,test_size=0.01,random_state=2)"
   ]
  },
  {
   "cell_type": "code",
   "execution_count": 60,
   "metadata": {},
   "outputs": [
    {
     "output_type": "execute_result",
     "data": {
      "text/plain": [
       "GradientBoostingRegressor(random_state=0)"
      ]
     },
     "metadata": {},
     "execution_count": 60
    }
   ],
   "source": [
    "# Training\n",
    "GradientBoosting=GradientBoostingRegressor(random_state=0)\n",
    "GradientBoosting.fit(X_train,Y_train)"
   ]
  },
  {
   "cell_type": "code",
   "execution_count": 61,
   "metadata": {},
   "outputs": [
    {
     "output_type": "execute_result",
     "data": {
      "text/plain": [
       "array([ 77.791687  ,  16.29354511,  20.34082406,  23.90282546,\n",
       "        25.2726178 ,  76.04809878, 104.2344841 ,  75.1182675 ,\n",
       "        19.99230442,  18.5494449 ,  26.20898909,  22.70721306])"
      ]
     },
     "metadata": {},
     "execution_count": 61
    }
   ],
   "source": [
    "# Testing\n",
    "GradientBoosting.predict(X_test)"
   ]
  },
  {
   "cell_type": "code",
   "execution_count": 62,
   "metadata": {},
   "outputs": [
    {
     "output_type": "execute_result",
     "data": {
      "text/plain": [
       "array([72., 37., 37.,  6., 12., 83., 99., 74., 10.,  9., 22.,  2.])"
      ]
     },
     "metadata": {},
     "execution_count": 62
    }
   ],
   "source": [
    "Y_test"
   ]
  },
  {
   "cell_type": "code",
   "execution_count": 63,
   "metadata": {},
   "outputs": [],
   "source": [
    "pickle.dump(GradientBoosting, open(\"../../../../../pickledFiles/predictNitrogen.pkl\", \"wb\"))"
   ]
  },
  {
   "cell_type": "code",
   "execution_count": 64,
   "metadata": {},
   "outputs": [],
   "source": [
    "X_train,X_test,Y_train,Y_test=train_test_split(features,targetP,test_size=0.01,random_state=2)"
   ]
  },
  {
   "cell_type": "code",
   "execution_count": 65,
   "metadata": {},
   "outputs": [
    {
     "output_type": "execute_result",
     "data": {
      "text/plain": [
       "GradientBoostingRegressor(random_state=0)"
      ]
     },
     "metadata": {},
     "execution_count": 65
    }
   ],
   "source": [
    "# Training\n",
    "GradientBoosting=GradientBoostingRegressor(random_state=0)\n",
    "GradientBoosting.fit(X_train,Y_train)"
   ]
  },
  {
   "cell_type": "code",
   "execution_count": 66,
   "metadata": {},
   "outputs": [
    {
     "output_type": "execute_result",
     "data": {
      "text/plain": [
       "array([ 45.12132421,  16.91803067,  27.38447834,  66.20890061,\n",
       "        18.43247121,  49.78337071,  34.44370626,  47.58733697,\n",
       "        68.20787558,  19.59460822,  27.37172853, 138.18834426])"
      ]
     },
     "metadata": {},
     "execution_count": 66
    }
   ],
   "source": [
    "# Testing\n",
    "GradientBoosting.predict(X_test)"
   ]
  },
  {
   "cell_type": "code",
   "execution_count": 67,
   "metadata": {},
   "outputs": [
    {
     "output_type": "execute_result",
     "data": {
      "text/plain": [
       "array([ 42.,  18.,  38.,  72.,  20.,  58.,  40.,  39.,  70.,  10.,  38.,\n",
       "       140.])"
      ]
     },
     "metadata": {},
     "execution_count": 67
    }
   ],
   "source": [
    "Y_test"
   ]
  },
  {
   "cell_type": "code",
   "execution_count": 68,
   "metadata": {},
   "outputs": [],
   "source": [
    "pickle.dump(GradientBoosting, open(\"../../../../../pickledFiles/predictPhosphorus.pkl\", \"wb\"))"
   ]
  },
  {
   "cell_type": "code",
   "execution_count": 69,
   "metadata": {},
   "outputs": [],
   "source": [
    "X_train,X_test,Y_train,Y_test=train_test_split(features,targetK,test_size=0.01,random_state=2)"
   ]
  },
  {
   "cell_type": "code",
   "execution_count": 70,
   "metadata": {},
   "outputs": [
    {
     "output_type": "execute_result",
     "data": {
      "text/plain": [
       "GradientBoostingRegressor(random_state=0)"
      ]
     },
     "metadata": {},
     "execution_count": 70
    }
   ],
   "source": [
    "# Training\n",
    "GradientBoosting=GradientBoostingRegressor(random_state=0)\n",
    "GradientBoosting.fit(X_train,Y_train)"
   ]
  },
  {
   "cell_type": "code",
   "execution_count": 71,
   "metadata": {},
   "outputs": [
    {
     "output_type": "execute_result",
     "data": {
      "text/plain": [
       "array([ 41.9510474 ,   8.84288802,  28.64979113,  19.1758526 ,\n",
       "        10.83417201,  40.28675674,  29.94256374,  40.19510628,\n",
       "        19.02976846,  10.79987733,  29.23108089, 198.45917961])"
      ]
     },
     "metadata": {},
     "execution_count": 71
    }
   ],
   "source": [
    "# Testing\n",
    "GradientBoosting.predict(X_test)"
   ]
  },
  {
   "cell_type": "code",
   "execution_count": 72,
   "metadata": {},
   "outputs": [
    {
     "output_type": "execute_result",
     "data": {
      "text/plain": [
       "array([ 43.,  12.,  32.,  15.,  10.,  45.,  32.,  38.,  19.,  10.,  31.,\n",
       "       197.])"
      ]
     },
     "metadata": {},
     "execution_count": 72
    }
   ],
   "source": [
    "Y_test"
   ]
  },
  {
   "cell_type": "code",
   "execution_count": 73,
   "metadata": {},
   "outputs": [],
   "source": [
    "pickle.dump(GradientBoosting, open(\"../../../../../pickledFiles/predictPotassium.pkl\", \"wb\"))"
   ]
  }
 ]
}