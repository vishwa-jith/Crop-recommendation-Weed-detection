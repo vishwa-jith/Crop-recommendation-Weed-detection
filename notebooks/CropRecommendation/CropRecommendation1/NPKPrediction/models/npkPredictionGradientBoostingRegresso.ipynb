{
 "metadata": {
  "language_info": {
   "codemirror_mode": {
    "name": "ipython",
    "version": 3
   },
   "file_extension": ".py",
   "mimetype": "text/x-python",
   "name": "python",
   "nbconvert_exporter": "python",
   "pygments_lexer": "ipython3",
   "version": "3.8.7-final"
  },
  "orig_nbformat": 2,
  "kernelspec": {
   "name": "python3",
   "display_name": "Python 3.8.7 64-bit ('env')",
   "metadata": {
    "interpreter": {
     "hash": "bd7982e890bff92990aabf12591972b4bca5c3dc464f9644cf2024b4a8f216ff"
    }
   }
  }
 },
 "nbformat": 4,
 "nbformat_minor": 2,
 "cells": [
  {
   "cell_type": "code",
   "execution_count": 1,
   "metadata": {},
   "outputs": [],
   "source": [
    "import pandas as pd\n",
    "import numpy as np"
   ]
  },
  {
   "cell_type": "code",
   "execution_count": 3,
   "metadata": {},
   "outputs": [
    {
     "output_type": "execute_result",
     "data": {
      "text/plain": [
       "      Unnamed: 0    N   P   K  temperature   humidity    rainfall  label\n",
       "0              0   90  42  43    20.879744  82.002744  202.935536     11\n",
       "1              1   85  58  41    21.770462  80.319644  226.655537     11\n",
       "2              2   60  55  44    23.004459  82.320763  263.964248     11\n",
       "3              3   74  35  40    26.491096  80.158363  242.864034     11\n",
       "4              4   78  42  42    20.130175  81.604873  262.717340     11\n",
       "...          ...  ...  ..  ..          ...        ...         ...    ...\n",
       "1180        1180  107  34  32    26.774637  66.413269  177.774507      3\n",
       "1181        1181   99  15  27    27.417112  56.636362  127.924610      3\n",
       "1182        1182  118  33  30    24.131797  67.225123  173.322839      3\n",
       "1183        1183  117  32  34    26.272418  52.127394  127.175293      3\n",
       "1184        1184  104  18  30    23.603016  60.396475  140.937041      3\n",
       "\n",
       "[1185 rows x 8 columns]"
      ],
      "text/html": "<div>\n<style scoped>\n    .dataframe tbody tr th:only-of-type {\n        vertical-align: middle;\n    }\n\n    .dataframe tbody tr th {\n        vertical-align: top;\n    }\n\n    .dataframe thead th {\n        text-align: right;\n    }\n</style>\n<table border=\"1\" class=\"dataframe\">\n  <thead>\n    <tr style=\"text-align: right;\">\n      <th></th>\n      <th>Unnamed: 0</th>\n      <th>N</th>\n      <th>P</th>\n      <th>K</th>\n      <th>temperature</th>\n      <th>humidity</th>\n      <th>rainfall</th>\n      <th>label</th>\n    </tr>\n  </thead>\n  <tbody>\n    <tr>\n      <th>0</th>\n      <td>0</td>\n      <td>90</td>\n      <td>42</td>\n      <td>43</td>\n      <td>20.879744</td>\n      <td>82.002744</td>\n      <td>202.935536</td>\n      <td>11</td>\n    </tr>\n    <tr>\n      <th>1</th>\n      <td>1</td>\n      <td>85</td>\n      <td>58</td>\n      <td>41</td>\n      <td>21.770462</td>\n      <td>80.319644</td>\n      <td>226.655537</td>\n      <td>11</td>\n    </tr>\n    <tr>\n      <th>2</th>\n      <td>2</td>\n      <td>60</td>\n      <td>55</td>\n      <td>44</td>\n      <td>23.004459</td>\n      <td>82.320763</td>\n      <td>263.964248</td>\n      <td>11</td>\n    </tr>\n    <tr>\n      <th>3</th>\n      <td>3</td>\n      <td>74</td>\n      <td>35</td>\n      <td>40</td>\n      <td>26.491096</td>\n      <td>80.158363</td>\n      <td>242.864034</td>\n      <td>11</td>\n    </tr>\n    <tr>\n      <th>4</th>\n      <td>4</td>\n      <td>78</td>\n      <td>42</td>\n      <td>42</td>\n      <td>20.130175</td>\n      <td>81.604873</td>\n      <td>262.717340</td>\n      <td>11</td>\n    </tr>\n    <tr>\n      <th>...</th>\n      <td>...</td>\n      <td>...</td>\n      <td>...</td>\n      <td>...</td>\n      <td>...</td>\n      <td>...</td>\n      <td>...</td>\n      <td>...</td>\n    </tr>\n    <tr>\n      <th>1180</th>\n      <td>1180</td>\n      <td>107</td>\n      <td>34</td>\n      <td>32</td>\n      <td>26.774637</td>\n      <td>66.413269</td>\n      <td>177.774507</td>\n      <td>3</td>\n    </tr>\n    <tr>\n      <th>1181</th>\n      <td>1181</td>\n      <td>99</td>\n      <td>15</td>\n      <td>27</td>\n      <td>27.417112</td>\n      <td>56.636362</td>\n      <td>127.924610</td>\n      <td>3</td>\n    </tr>\n    <tr>\n      <th>1182</th>\n      <td>1182</td>\n      <td>118</td>\n      <td>33</td>\n      <td>30</td>\n      <td>24.131797</td>\n      <td>67.225123</td>\n      <td>173.322839</td>\n      <td>3</td>\n    </tr>\n    <tr>\n      <th>1183</th>\n      <td>1183</td>\n      <td>117</td>\n      <td>32</td>\n      <td>34</td>\n      <td>26.272418</td>\n      <td>52.127394</td>\n      <td>127.175293</td>\n      <td>3</td>\n    </tr>\n    <tr>\n      <th>1184</th>\n      <td>1184</td>\n      <td>104</td>\n      <td>18</td>\n      <td>30</td>\n      <td>23.603016</td>\n      <td>60.396475</td>\n      <td>140.937041</td>\n      <td>3</td>\n    </tr>\n  </tbody>\n</table>\n<p>1185 rows × 8 columns</p>\n</div>"
     },
     "metadata": {},
     "execution_count": 3
    }
   ],
   "source": [
    "NPKPrediction=pd.read_csv(\"../../../../../preprocessedData/NPKPrediction.csv\")\n",
    "NPKPrediction"
   ]
  },
  {
   "cell_type": "code",
   "execution_count": 4,
   "metadata": {},
   "outputs": [
    {
     "output_type": "execute_result",
     "data": {
      "text/plain": [
       "        N   P   K  temperature   humidity    rainfall  label\n",
       "0      90  42  43    20.879744  82.002744  202.935536     11\n",
       "1      85  58  41    21.770462  80.319644  226.655537     11\n",
       "2      60  55  44    23.004459  82.320763  263.964248     11\n",
       "3      74  35  40    26.491096  80.158363  242.864034     11\n",
       "4      78  42  42    20.130175  81.604873  262.717340     11\n",
       "...   ...  ..  ..          ...        ...         ...    ...\n",
       "1180  107  34  32    26.774637  66.413269  177.774507      3\n",
       "1181   99  15  27    27.417112  56.636362  127.924610      3\n",
       "1182  118  33  30    24.131797  67.225123  173.322839      3\n",
       "1183  117  32  34    26.272418  52.127394  127.175293      3\n",
       "1184  104  18  30    23.603016  60.396475  140.937041      3\n",
       "\n",
       "[1185 rows x 7 columns]"
      ],
      "text/html": "<div>\n<style scoped>\n    .dataframe tbody tr th:only-of-type {\n        vertical-align: middle;\n    }\n\n    .dataframe tbody tr th {\n        vertical-align: top;\n    }\n\n    .dataframe thead th {\n        text-align: right;\n    }\n</style>\n<table border=\"1\" class=\"dataframe\">\n  <thead>\n    <tr style=\"text-align: right;\">\n      <th></th>\n      <th>N</th>\n      <th>P</th>\n      <th>K</th>\n      <th>temperature</th>\n      <th>humidity</th>\n      <th>rainfall</th>\n      <th>label</th>\n    </tr>\n  </thead>\n  <tbody>\n    <tr>\n      <th>0</th>\n      <td>90</td>\n      <td>42</td>\n      <td>43</td>\n      <td>20.879744</td>\n      <td>82.002744</td>\n      <td>202.935536</td>\n      <td>11</td>\n    </tr>\n    <tr>\n      <th>1</th>\n      <td>85</td>\n      <td>58</td>\n      <td>41</td>\n      <td>21.770462</td>\n      <td>80.319644</td>\n      <td>226.655537</td>\n      <td>11</td>\n    </tr>\n    <tr>\n      <th>2</th>\n      <td>60</td>\n      <td>55</td>\n      <td>44</td>\n      <td>23.004459</td>\n      <td>82.320763</td>\n      <td>263.964248</td>\n      <td>11</td>\n    </tr>\n    <tr>\n      <th>3</th>\n      <td>74</td>\n      <td>35</td>\n      <td>40</td>\n      <td>26.491096</td>\n      <td>80.158363</td>\n      <td>242.864034</td>\n      <td>11</td>\n    </tr>\n    <tr>\n      <th>4</th>\n      <td>78</td>\n      <td>42</td>\n      <td>42</td>\n      <td>20.130175</td>\n      <td>81.604873</td>\n      <td>262.717340</td>\n      <td>11</td>\n    </tr>\n    <tr>\n      <th>...</th>\n      <td>...</td>\n      <td>...</td>\n      <td>...</td>\n      <td>...</td>\n      <td>...</td>\n      <td>...</td>\n      <td>...</td>\n    </tr>\n    <tr>\n      <th>1180</th>\n      <td>107</td>\n      <td>34</td>\n      <td>32</td>\n      <td>26.774637</td>\n      <td>66.413269</td>\n      <td>177.774507</td>\n      <td>3</td>\n    </tr>\n    <tr>\n      <th>1181</th>\n      <td>99</td>\n      <td>15</td>\n      <td>27</td>\n      <td>27.417112</td>\n      <td>56.636362</td>\n      <td>127.924610</td>\n      <td>3</td>\n    </tr>\n    <tr>\n      <th>1182</th>\n      <td>118</td>\n      <td>33</td>\n      <td>30</td>\n      <td>24.131797</td>\n      <td>67.225123</td>\n      <td>173.322839</td>\n      <td>3</td>\n    </tr>\n    <tr>\n      <th>1183</th>\n      <td>117</td>\n      <td>32</td>\n      <td>34</td>\n      <td>26.272418</td>\n      <td>52.127394</td>\n      <td>127.175293</td>\n      <td>3</td>\n    </tr>\n    <tr>\n      <th>1184</th>\n      <td>104</td>\n      <td>18</td>\n      <td>30</td>\n      <td>23.603016</td>\n      <td>60.396475</td>\n      <td>140.937041</td>\n      <td>3</td>\n    </tr>\n  </tbody>\n</table>\n<p>1185 rows × 7 columns</p>\n</div>"
     },
     "metadata": {},
     "execution_count": 4
    }
   ],
   "source": [
    "NPKPrediction=NPKPrediction.drop(columns=[\"Unnamed: 0\"])\n",
    "NPKPrediction"
   ]
  },
  {
   "cell_type": "code",
   "execution_count": 6,
   "metadata": {},
   "outputs": [
    {
     "output_type": "execute_result",
     "data": {
      "text/plain": [
       "        N   P   K  temperature   humidity    rainfall\n",
       "0      90  42  43    20.879744  82.002744  202.935536\n",
       "1      85  58  41    21.770462  80.319644  226.655537\n",
       "2      60  55  44    23.004459  82.320763  263.964248\n",
       "3      74  35  40    26.491096  80.158363  242.864034\n",
       "4      78  42  42    20.130175  81.604873  262.717340\n",
       "...   ...  ..  ..          ...        ...         ...\n",
       "1180  107  34  32    26.774637  66.413269  177.774507\n",
       "1181   99  15  27    27.417112  56.636362  127.924610\n",
       "1182  118  33  30    24.131797  67.225123  173.322839\n",
       "1183  117  32  34    26.272418  52.127394  127.175293\n",
       "1184  104  18  30    23.603016  60.396475  140.937041\n",
       "\n",
       "[1185 rows x 6 columns]"
      ],
      "text/html": "<div>\n<style scoped>\n    .dataframe tbody tr th:only-of-type {\n        vertical-align: middle;\n    }\n\n    .dataframe tbody tr th {\n        vertical-align: top;\n    }\n\n    .dataframe thead th {\n        text-align: right;\n    }\n</style>\n<table border=\"1\" class=\"dataframe\">\n  <thead>\n    <tr style=\"text-align: right;\">\n      <th></th>\n      <th>N</th>\n      <th>P</th>\n      <th>K</th>\n      <th>temperature</th>\n      <th>humidity</th>\n      <th>rainfall</th>\n    </tr>\n  </thead>\n  <tbody>\n    <tr>\n      <th>0</th>\n      <td>90</td>\n      <td>42</td>\n      <td>43</td>\n      <td>20.879744</td>\n      <td>82.002744</td>\n      <td>202.935536</td>\n    </tr>\n    <tr>\n      <th>1</th>\n      <td>85</td>\n      <td>58</td>\n      <td>41</td>\n      <td>21.770462</td>\n      <td>80.319644</td>\n      <td>226.655537</td>\n    </tr>\n    <tr>\n      <th>2</th>\n      <td>60</td>\n      <td>55</td>\n      <td>44</td>\n      <td>23.004459</td>\n      <td>82.320763</td>\n      <td>263.964248</td>\n    </tr>\n    <tr>\n      <th>3</th>\n      <td>74</td>\n      <td>35</td>\n      <td>40</td>\n      <td>26.491096</td>\n      <td>80.158363</td>\n      <td>242.864034</td>\n    </tr>\n    <tr>\n      <th>4</th>\n      <td>78</td>\n      <td>42</td>\n      <td>42</td>\n      <td>20.130175</td>\n      <td>81.604873</td>\n      <td>262.717340</td>\n    </tr>\n    <tr>\n      <th>...</th>\n      <td>...</td>\n      <td>...</td>\n      <td>...</td>\n      <td>...</td>\n      <td>...</td>\n      <td>...</td>\n    </tr>\n    <tr>\n      <th>1180</th>\n      <td>107</td>\n      <td>34</td>\n      <td>32</td>\n      <td>26.774637</td>\n      <td>66.413269</td>\n      <td>177.774507</td>\n    </tr>\n    <tr>\n      <th>1181</th>\n      <td>99</td>\n      <td>15</td>\n      <td>27</td>\n      <td>27.417112</td>\n      <td>56.636362</td>\n      <td>127.924610</td>\n    </tr>\n    <tr>\n      <th>1182</th>\n      <td>118</td>\n      <td>33</td>\n      <td>30</td>\n      <td>24.131797</td>\n      <td>67.225123</td>\n      <td>173.322839</td>\n    </tr>\n    <tr>\n      <th>1183</th>\n      <td>117</td>\n      <td>32</td>\n      <td>34</td>\n      <td>26.272418</td>\n      <td>52.127394</td>\n      <td>127.175293</td>\n    </tr>\n    <tr>\n      <th>1184</th>\n      <td>104</td>\n      <td>18</td>\n      <td>30</td>\n      <td>23.603016</td>\n      <td>60.396475</td>\n      <td>140.937041</td>\n    </tr>\n  </tbody>\n</table>\n<p>1185 rows × 6 columns</p>\n</div>"
     },
     "metadata": {},
     "execution_count": 6
    }
   ],
   "source": [
    "from sklearn.model_selection import train_test_split\n",
    "X=NPKPrediction.drop(columns=[\"label\"])\n",
    "y=NPKPrediction[\"label\"]\n",
    "X"
   ]
  },
  {
   "cell_type": "code",
   "execution_count": 7,
   "metadata": {},
   "outputs": [
    {
     "output_type": "execute_result",
     "data": {
      "text/plain": [
       "0       11\n",
       "1       11\n",
       "2       11\n",
       "3       11\n",
       "4       11\n",
       "        ..\n",
       "1180     3\n",
       "1181     3\n",
       "1182     3\n",
       "1183     3\n",
       "1184     3\n",
       "Name: label, Length: 1185, dtype: int64"
      ]
     },
     "metadata": {},
     "execution_count": 7
    }
   ],
   "source": [
    "y"
   ]
  },
  {
   "cell_type": "code",
   "execution_count": 8,
   "metadata": {},
   "outputs": [],
   "source": [
    "X_Train,X_Test,y_Train,y_Test=train_test_split(X,y,test_size=0.1,random_state=2)"
   ]
  },
  {
   "cell_type": "code",
   "execution_count": 9,
   "metadata": {},
   "outputs": [],
   "source": [
    "from sklearn.ensemble import GradientBoostingRegressor\n",
    "model=GradientBoostingRegressor()"
   ]
  },
  {
   "cell_type": "code",
   "execution_count": 10,
   "metadata": {},
   "outputs": [
    {
     "output_type": "execute_result",
     "data": {
      "text/plain": [
       "GradientBoostingRegressor()"
      ]
     },
     "metadata": {},
     "execution_count": 10
    }
   ],
   "source": [
    "model.fit(X_Train,y_Train)"
   ]
  },
  {
   "cell_type": "code",
   "execution_count": 12,
   "metadata": {},
   "outputs": [],
   "source": [
    "prediction=model.predict(X_Test)"
   ]
  },
  {
   "cell_type": "code",
   "execution_count": 13,
   "metadata": {},
   "outputs": [
    {
     "output_type": "execute_result",
     "data": {
      "text/plain": [
       "array([ 7.655962  ,  9.14420478,  7.87066383,  5.99925213,  9.00692976,\n",
       "       10.95801612,  3.53595928, 10.39018471,  6.05720077,  8.86695409,\n",
       "        7.65452719,  0.09787795,  1.21007203,  9.41225845,  1.03349109,\n",
       "        2.47829574,  6.97677773,  7.84478405,  9.07669982,  4.53197429,\n",
       "        0.07864694,  5.32179715,  8.96125011, 10.65528966,  3.05829195,\n",
       "        8.0077948 ,  0.33051196,  6.08835553,  1.11823964,  7.30708144,\n",
       "        2.12956306, 10.6692772 ,  0.03806138,  9.04602544,  3.5387346 ,\n",
       "        8.6107677 , 10.45982857,  5.42793224,  8.79347822,  6.44919409,\n",
       "        6.18236965,  5.28990284,  2.53765089,  2.71963576,  6.01085102,\n",
       "        7.96373291,  6.15779576,  7.78609509, 10.10663843,  3.68122731,\n",
       "        8.64228556,  1.12552649,  1.4804584 ,  7.96373291,  5.29449512,\n",
       "        8.42260484,  7.78609509,  5.96380962,  0.10700334,  5.26639111,\n",
       "        2.91369811,  1.61361767,  5.98509679, 10.65762633,  0.95782605,\n",
       "        5.95973751,  0.08012437, 10.9790681 ,  3.0962351 ,  6.95344067,\n",
       "        9.73936777,  1.12552649,  8.48018225,  4.03534262,  5.23942216,\n",
       "        4.51177782,  6.07757084,  8.39043542,  8.00223172, 10.13201514,\n",
       "        7.96373291, 10.23537877,  8.9761897 ,  2.28991253,  4.02266398,\n",
       "        9.76276057,  8.88391129, 10.45601967, 11.15594461,  7.69302601,\n",
       "        8.70719886,  5.95449484,  7.62816583,  2.75210812,  5.38474855,\n",
       "        1.17720685,  6.72398453,  0.98055841,  2.61698153,  5.3087136 ,\n",
       "        9.11268692,  6.4072292 ,  4.62271703,  5.61681823,  4.27933941,\n",
       "        6.39712704,  9.17058217,  5.90486316, 10.97381301, 10.3914508 ,\n",
       "       10.51729533,  1.1115033 , 11.19753653,  1.03349109,  5.61753081,\n",
       "        8.00223172,  2.43985209,  7.78609509,  6.36797167])"
      ]
     },
     "metadata": {},
     "execution_count": 13
    }
   ],
   "source": [
    "prediction"
   ]
  },
  {
   "cell_type": "code",
   "execution_count": 14,
   "metadata": {},
   "outputs": [
    {
     "output_type": "execute_result",
     "data": {
      "text/plain": [
       "1041    5\n",
       "862     9\n",
       "511     8\n",
       "327     6\n",
       "842     9\n",
       "       ..\n",
       "998     5\n",
       "508     8\n",
       "263     2\n",
       "525     8\n",
       "182     7\n",
       "Name: label, Length: 119, dtype: int64"
      ]
     },
     "metadata": {},
     "execution_count": 14
    }
   ],
   "source": [
    "y_Test"
   ]
  }
 ]
}