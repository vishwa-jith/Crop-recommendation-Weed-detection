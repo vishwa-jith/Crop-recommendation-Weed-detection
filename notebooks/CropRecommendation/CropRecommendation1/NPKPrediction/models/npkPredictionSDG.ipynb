{
 "metadata": {
  "language_info": {
   "codemirror_mode": {
    "name": "ipython",
    "version": 3
   },
   "file_extension": ".py",
   "mimetype": "text/x-python",
   "name": "python",
   "nbconvert_exporter": "python",
   "pygments_lexer": "ipython3",
   "version": "3.8.7-final"
  },
  "orig_nbformat": 2,
  "kernelspec": {
   "name": "python3",
   "display_name": "Python 3.8.7 64-bit ('env')",
   "metadata": {
    "interpreter": {
     "hash": "bd7982e890bff92990aabf12591972b4bca5c3dc464f9644cf2024b4a8f216ff"
    }
   }
  }
 },
 "nbformat": 4,
 "nbformat_minor": 2,
 "cells": [
  {
   "cell_type": "code",
   "execution_count": 90,
   "metadata": {},
   "outputs": [],
   "source": [
    "import pandas as pd\n",
    "import numpy as np"
   ]
  },
  {
   "cell_type": "code",
   "execution_count": 91,
   "metadata": {},
   "outputs": [
    {
     "output_type": "execute_result",
     "data": {
      "text/plain": [
       "      Unnamed: 0    N   P   K  temperature   humidity    rainfall  label\n",
       "0              0   90  42  43    20.879744  82.002744  202.935536     11\n",
       "1              1   85  58  41    21.770462  80.319644  226.655537     11\n",
       "2              2   60  55  44    23.004459  82.320763  263.964248     11\n",
       "3              3   74  35  40    26.491096  80.158363  242.864034     11\n",
       "4              4   78  42  42    20.130175  81.604873  262.717340     11\n",
       "...          ...  ...  ..  ..          ...        ...         ...    ...\n",
       "1180        1180  107  34  32    26.774637  66.413269  177.774507      3\n",
       "1181        1181   99  15  27    27.417112  56.636362  127.924610      3\n",
       "1182        1182  118  33  30    24.131797  67.225123  173.322839      3\n",
       "1183        1183  117  32  34    26.272418  52.127394  127.175293      3\n",
       "1184        1184  104  18  30    23.603016  60.396475  140.937041      3\n",
       "\n",
       "[1185 rows x 8 columns]"
      ],
      "text/html": "<div>\n<style scoped>\n    .dataframe tbody tr th:only-of-type {\n        vertical-align: middle;\n    }\n\n    .dataframe tbody tr th {\n        vertical-align: top;\n    }\n\n    .dataframe thead th {\n        text-align: right;\n    }\n</style>\n<table border=\"1\" class=\"dataframe\">\n  <thead>\n    <tr style=\"text-align: right;\">\n      <th></th>\n      <th>Unnamed: 0</th>\n      <th>N</th>\n      <th>P</th>\n      <th>K</th>\n      <th>temperature</th>\n      <th>humidity</th>\n      <th>rainfall</th>\n      <th>label</th>\n    </tr>\n  </thead>\n  <tbody>\n    <tr>\n      <th>0</th>\n      <td>0</td>\n      <td>90</td>\n      <td>42</td>\n      <td>43</td>\n      <td>20.879744</td>\n      <td>82.002744</td>\n      <td>202.935536</td>\n      <td>11</td>\n    </tr>\n    <tr>\n      <th>1</th>\n      <td>1</td>\n      <td>85</td>\n      <td>58</td>\n      <td>41</td>\n      <td>21.770462</td>\n      <td>80.319644</td>\n      <td>226.655537</td>\n      <td>11</td>\n    </tr>\n    <tr>\n      <th>2</th>\n      <td>2</td>\n      <td>60</td>\n      <td>55</td>\n      <td>44</td>\n      <td>23.004459</td>\n      <td>82.320763</td>\n      <td>263.964248</td>\n      <td>11</td>\n    </tr>\n    <tr>\n      <th>3</th>\n      <td>3</td>\n      <td>74</td>\n      <td>35</td>\n      <td>40</td>\n      <td>26.491096</td>\n      <td>80.158363</td>\n      <td>242.864034</td>\n      <td>11</td>\n    </tr>\n    <tr>\n      <th>4</th>\n      <td>4</td>\n      <td>78</td>\n      <td>42</td>\n      <td>42</td>\n      <td>20.130175</td>\n      <td>81.604873</td>\n      <td>262.717340</td>\n      <td>11</td>\n    </tr>\n    <tr>\n      <th>...</th>\n      <td>...</td>\n      <td>...</td>\n      <td>...</td>\n      <td>...</td>\n      <td>...</td>\n      <td>...</td>\n      <td>...</td>\n      <td>...</td>\n    </tr>\n    <tr>\n      <th>1180</th>\n      <td>1180</td>\n      <td>107</td>\n      <td>34</td>\n      <td>32</td>\n      <td>26.774637</td>\n      <td>66.413269</td>\n      <td>177.774507</td>\n      <td>3</td>\n    </tr>\n    <tr>\n      <th>1181</th>\n      <td>1181</td>\n      <td>99</td>\n      <td>15</td>\n      <td>27</td>\n      <td>27.417112</td>\n      <td>56.636362</td>\n      <td>127.924610</td>\n      <td>3</td>\n    </tr>\n    <tr>\n      <th>1182</th>\n      <td>1182</td>\n      <td>118</td>\n      <td>33</td>\n      <td>30</td>\n      <td>24.131797</td>\n      <td>67.225123</td>\n      <td>173.322839</td>\n      <td>3</td>\n    </tr>\n    <tr>\n      <th>1183</th>\n      <td>1183</td>\n      <td>117</td>\n      <td>32</td>\n      <td>34</td>\n      <td>26.272418</td>\n      <td>52.127394</td>\n      <td>127.175293</td>\n      <td>3</td>\n    </tr>\n    <tr>\n      <th>1184</th>\n      <td>1184</td>\n      <td>104</td>\n      <td>18</td>\n      <td>30</td>\n      <td>23.603016</td>\n      <td>60.396475</td>\n      <td>140.937041</td>\n      <td>3</td>\n    </tr>\n  </tbody>\n</table>\n<p>1185 rows × 8 columns</p>\n</div>"
     },
     "metadata": {},
     "execution_count": 91
    }
   ],
   "source": [
    "NPKPrediction=pd.read_csv(\"../../../../../preprocessedData/NPKPrediction.csv\")\n",
    "NPKPrediction"
   ]
  },
  {
   "cell_type": "code",
   "execution_count": 92,
   "metadata": {},
   "outputs": [
    {
     "output_type": "execute_result",
     "data": {
      "text/plain": [
       "        N   P   K  temperature   humidity    rainfall  label\n",
       "0      90  42  43    20.879744  82.002744  202.935536     11\n",
       "1      85  58  41    21.770462  80.319644  226.655537     11\n",
       "2      60  55  44    23.004459  82.320763  263.964248     11\n",
       "3      74  35  40    26.491096  80.158363  242.864034     11\n",
       "4      78  42  42    20.130175  81.604873  262.717340     11\n",
       "...   ...  ..  ..          ...        ...         ...    ...\n",
       "1180  107  34  32    26.774637  66.413269  177.774507      3\n",
       "1181   99  15  27    27.417112  56.636362  127.924610      3\n",
       "1182  118  33  30    24.131797  67.225123  173.322839      3\n",
       "1183  117  32  34    26.272418  52.127394  127.175293      3\n",
       "1184  104  18  30    23.603016  60.396475  140.937041      3\n",
       "\n",
       "[1185 rows x 7 columns]"
      ],
      "text/html": "<div>\n<style scoped>\n    .dataframe tbody tr th:only-of-type {\n        vertical-align: middle;\n    }\n\n    .dataframe tbody tr th {\n        vertical-align: top;\n    }\n\n    .dataframe thead th {\n        text-align: right;\n    }\n</style>\n<table border=\"1\" class=\"dataframe\">\n  <thead>\n    <tr style=\"text-align: right;\">\n      <th></th>\n      <th>N</th>\n      <th>P</th>\n      <th>K</th>\n      <th>temperature</th>\n      <th>humidity</th>\n      <th>rainfall</th>\n      <th>label</th>\n    </tr>\n  </thead>\n  <tbody>\n    <tr>\n      <th>0</th>\n      <td>90</td>\n      <td>42</td>\n      <td>43</td>\n      <td>20.879744</td>\n      <td>82.002744</td>\n      <td>202.935536</td>\n      <td>11</td>\n    </tr>\n    <tr>\n      <th>1</th>\n      <td>85</td>\n      <td>58</td>\n      <td>41</td>\n      <td>21.770462</td>\n      <td>80.319644</td>\n      <td>226.655537</td>\n      <td>11</td>\n    </tr>\n    <tr>\n      <th>2</th>\n      <td>60</td>\n      <td>55</td>\n      <td>44</td>\n      <td>23.004459</td>\n      <td>82.320763</td>\n      <td>263.964248</td>\n      <td>11</td>\n    </tr>\n    <tr>\n      <th>3</th>\n      <td>74</td>\n      <td>35</td>\n      <td>40</td>\n      <td>26.491096</td>\n      <td>80.158363</td>\n      <td>242.864034</td>\n      <td>11</td>\n    </tr>\n    <tr>\n      <th>4</th>\n      <td>78</td>\n      <td>42</td>\n      <td>42</td>\n      <td>20.130175</td>\n      <td>81.604873</td>\n      <td>262.717340</td>\n      <td>11</td>\n    </tr>\n    <tr>\n      <th>...</th>\n      <td>...</td>\n      <td>...</td>\n      <td>...</td>\n      <td>...</td>\n      <td>...</td>\n      <td>...</td>\n      <td>...</td>\n    </tr>\n    <tr>\n      <th>1180</th>\n      <td>107</td>\n      <td>34</td>\n      <td>32</td>\n      <td>26.774637</td>\n      <td>66.413269</td>\n      <td>177.774507</td>\n      <td>3</td>\n    </tr>\n    <tr>\n      <th>1181</th>\n      <td>99</td>\n      <td>15</td>\n      <td>27</td>\n      <td>27.417112</td>\n      <td>56.636362</td>\n      <td>127.924610</td>\n      <td>3</td>\n    </tr>\n    <tr>\n      <th>1182</th>\n      <td>118</td>\n      <td>33</td>\n      <td>30</td>\n      <td>24.131797</td>\n      <td>67.225123</td>\n      <td>173.322839</td>\n      <td>3</td>\n    </tr>\n    <tr>\n      <th>1183</th>\n      <td>117</td>\n      <td>32</td>\n      <td>34</td>\n      <td>26.272418</td>\n      <td>52.127394</td>\n      <td>127.175293</td>\n      <td>3</td>\n    </tr>\n    <tr>\n      <th>1184</th>\n      <td>104</td>\n      <td>18</td>\n      <td>30</td>\n      <td>23.603016</td>\n      <td>60.396475</td>\n      <td>140.937041</td>\n      <td>3</td>\n    </tr>\n  </tbody>\n</table>\n<p>1185 rows × 7 columns</p>\n</div>"
     },
     "metadata": {},
     "execution_count": 92
    }
   ],
   "source": [
    "NPKPrediction=NPKPrediction.drop(columns=[\"Unnamed: 0\"])\n",
    "NPKPrediction"
   ]
  },
  {
   "cell_type": "code",
   "execution_count": 93,
   "metadata": {},
   "outputs": [
    {
     "output_type": "execute_result",
     "data": {
      "text/plain": [
       "        N   P   K  temperature   humidity    rainfall\n",
       "0      90  42  43    20.879744  82.002744  202.935536\n",
       "1      85  58  41    21.770462  80.319644  226.655537\n",
       "2      60  55  44    23.004459  82.320763  263.964248\n",
       "3      74  35  40    26.491096  80.158363  242.864034\n",
       "4      78  42  42    20.130175  81.604873  262.717340\n",
       "...   ...  ..  ..          ...        ...         ...\n",
       "1180  107  34  32    26.774637  66.413269  177.774507\n",
       "1181   99  15  27    27.417112  56.636362  127.924610\n",
       "1182  118  33  30    24.131797  67.225123  173.322839\n",
       "1183  117  32  34    26.272418  52.127394  127.175293\n",
       "1184  104  18  30    23.603016  60.396475  140.937041\n",
       "\n",
       "[1185 rows x 6 columns]"
      ],
      "text/html": "<div>\n<style scoped>\n    .dataframe tbody tr th:only-of-type {\n        vertical-align: middle;\n    }\n\n    .dataframe tbody tr th {\n        vertical-align: top;\n    }\n\n    .dataframe thead th {\n        text-align: right;\n    }\n</style>\n<table border=\"1\" class=\"dataframe\">\n  <thead>\n    <tr style=\"text-align: right;\">\n      <th></th>\n      <th>N</th>\n      <th>P</th>\n      <th>K</th>\n      <th>temperature</th>\n      <th>humidity</th>\n      <th>rainfall</th>\n    </tr>\n  </thead>\n  <tbody>\n    <tr>\n      <th>0</th>\n      <td>90</td>\n      <td>42</td>\n      <td>43</td>\n      <td>20.879744</td>\n      <td>82.002744</td>\n      <td>202.935536</td>\n    </tr>\n    <tr>\n      <th>1</th>\n      <td>85</td>\n      <td>58</td>\n      <td>41</td>\n      <td>21.770462</td>\n      <td>80.319644</td>\n      <td>226.655537</td>\n    </tr>\n    <tr>\n      <th>2</th>\n      <td>60</td>\n      <td>55</td>\n      <td>44</td>\n      <td>23.004459</td>\n      <td>82.320763</td>\n      <td>263.964248</td>\n    </tr>\n    <tr>\n      <th>3</th>\n      <td>74</td>\n      <td>35</td>\n      <td>40</td>\n      <td>26.491096</td>\n      <td>80.158363</td>\n      <td>242.864034</td>\n    </tr>\n    <tr>\n      <th>4</th>\n      <td>78</td>\n      <td>42</td>\n      <td>42</td>\n      <td>20.130175</td>\n      <td>81.604873</td>\n      <td>262.717340</td>\n    </tr>\n    <tr>\n      <th>...</th>\n      <td>...</td>\n      <td>...</td>\n      <td>...</td>\n      <td>...</td>\n      <td>...</td>\n      <td>...</td>\n    </tr>\n    <tr>\n      <th>1180</th>\n      <td>107</td>\n      <td>34</td>\n      <td>32</td>\n      <td>26.774637</td>\n      <td>66.413269</td>\n      <td>177.774507</td>\n    </tr>\n    <tr>\n      <th>1181</th>\n      <td>99</td>\n      <td>15</td>\n      <td>27</td>\n      <td>27.417112</td>\n      <td>56.636362</td>\n      <td>127.924610</td>\n    </tr>\n    <tr>\n      <th>1182</th>\n      <td>118</td>\n      <td>33</td>\n      <td>30</td>\n      <td>24.131797</td>\n      <td>67.225123</td>\n      <td>173.322839</td>\n    </tr>\n    <tr>\n      <th>1183</th>\n      <td>117</td>\n      <td>32</td>\n      <td>34</td>\n      <td>26.272418</td>\n      <td>52.127394</td>\n      <td>127.175293</td>\n    </tr>\n    <tr>\n      <th>1184</th>\n      <td>104</td>\n      <td>18</td>\n      <td>30</td>\n      <td>23.603016</td>\n      <td>60.396475</td>\n      <td>140.937041</td>\n    </tr>\n  </tbody>\n</table>\n<p>1185 rows × 6 columns</p>\n</div>"
     },
     "metadata": {},
     "execution_count": 93
    }
   ],
   "source": [
    "from sklearn.model_selection import train_test_split\n",
    "X=NPKPrediction.drop(columns=[\"label\"])\n",
    "y=NPKPrediction[\"label\"]\n",
    "X"
   ]
  },
  {
   "cell_type": "code",
   "execution_count": 94,
   "metadata": {},
   "outputs": [
    {
     "output_type": "execute_result",
     "data": {
      "text/plain": [
       "0       11\n",
       "1       11\n",
       "2       11\n",
       "3       11\n",
       "4       11\n",
       "        ..\n",
       "1180     3\n",
       "1181     3\n",
       "1182     3\n",
       "1183     3\n",
       "1184     3\n",
       "Name: label, Length: 1185, dtype: int64"
      ]
     },
     "metadata": {},
     "execution_count": 94
    }
   ],
   "source": [
    "y"
   ]
  },
  {
   "cell_type": "code",
   "execution_count": 95,
   "metadata": {},
   "outputs": [],
   "source": [
    "X_Train,X_Test,y_Train,y_Test=train_test_split(X,y,test_size=0.1,random_state=2)"
   ]
  },
  {
   "cell_type": "code",
   "execution_count": 96,
   "metadata": {},
   "outputs": [],
   "source": [
    "from sklearn.linear_model import SGDRegressor"
   ]
  },
  {
   "cell_type": "code",
   "execution_count": 97,
   "metadata": {},
   "outputs": [],
   "source": [
    "model=SGDRegressor(loss=\"squared_loss\",penalty=None)"
   ]
  },
  {
   "cell_type": "code",
   "execution_count": 98,
   "metadata": {},
   "outputs": [
    {
     "output_type": "execute_result",
     "data": {
      "text/plain": [
       "SGDRegressor(penalty=None)"
      ]
     },
     "metadata": {},
     "execution_count": 98
    }
   ],
   "source": [
    "model.fit(X_Train,y_Train)"
   ]
  },
  {
   "cell_type": "code",
   "execution_count": 99,
   "metadata": {},
   "outputs": [
    {
     "output_type": "execute_result",
     "data": {
      "text/plain": [
       "array([ 1.16715392e+13,  1.06303317e+13,  3.27192048e+12, -2.56430805e+12,\n",
       "        1.12966342e+13,  1.55434227e+13,  1.03720476e+13,  1.75424671e+13,\n",
       "       -3.75002754e+12,  1.19022619e+13,  4.45455426e+12, -2.01260702e+13,\n",
       "       -2.24202541e+12,  1.66548020e+12, -7.94227010e+11, -1.29090101e+12,\n",
       "        2.14678253e+12,  1.25794320e+13,  9.90432343e+12,  4.84217925e+12,\n",
       "       -1.77317895e+13,  2.30869663e+12,  1.23298187e+13,  6.31835344e+12,\n",
       "        7.59815994e+12, -7.76123405e+11, -2.12467136e+13, -4.47526048e+12,\n",
       "       -1.90334380e+11,  2.97065684e+12, -2.77648892e+12, -3.58704125e+12,\n",
       "       -1.94677271e+13,  1.31813482e+13,  8.83329700e+12,  1.05603068e+13,\n",
       "       -2.06847820e+12,  9.61208481e+12,  1.26047822e+13,  1.35403368e+13,\n",
       "       -4.65464176e+12,  1.29665263e+13, -9.54438859e+11, -1.17482827e+12,\n",
       "       -3.44524782e+12,  7.00891763e+12, -4.19904630e+12,  6.45592063e+12,\n",
       "       -1.18198686e+12, -2.38150766e+13,  1.05360144e+13,  3.80904805e+10,\n",
       "       -7.52644270e+11,  5.95134071e+12,  1.19085359e+13, -1.27821654e+12,\n",
       "        6.97674467e+12,  8.63832306e+12, -1.74213162e+13,  1.23802959e+13,\n",
       "        1.00407316e+13, -1.85904846e+12, -4.07231887e+12,  1.59855327e+13,\n",
       "       -1.73966981e+12, -2.33249754e+12, -2.11322053e+13,  1.93423988e+13,\n",
       "        8.77619225e+12,  1.18827243e+13,  1.59053170e+13, -3.41934106e+12,\n",
       "        1.26441649e+13, -2.23781056e+13, -1.59906766e+12,  9.22412711e+12,\n",
       "       -4.18808994e+12,  1.23576230e+13,  5.18568637e+12,  9.03592989e+12,\n",
       "        5.24338180e+12,  1.43458075e+13,  4.14276518e+12, -8.60131372e+11,\n",
       "       -2.25324693e+13, -1.81814788e+12,  1.12480372e+13,  1.29150360e+13,\n",
       "        1.60753926e+13,  4.46173178e+12,  1.25869667e+12, -2.39029051e+12,\n",
       "        1.33934567e+13,  6.96446783e+12,  3.43161694e+11, -2.71163612e+11,\n",
       "        1.55312192e+12, -1.49191201e+12, -2.16626597e+12,  1.12954820e+13,\n",
       "        1.24894730e+13, -2.79117563e+12,  8.51712403e+12, -2.50257938e+12,\n",
       "        1.02123565e+13,  3.66925963e+12, -5.11049700e+11, -5.61940238e+12,\n",
       "        1.91012445e+13,  1.32882702e+13, -5.35173006e+11, -2.13557535e+12,\n",
       "        1.07690752e+13, -1.68607257e+12,  7.68836099e+12,  5.02480157e+12,\n",
       "       -3.03527752e+11,  4.86325926e+12,  5.80113644e+10])"
      ]
     },
     "metadata": {},
     "execution_count": 99
    }
   ],
   "source": [
    "prediction=model.predict(X_Test)\n",
    "prediction"
   ]
  },
  {
   "cell_type": "code",
   "execution_count": 100,
   "metadata": {},
   "outputs": [
    {
     "output_type": "stream",
     "name": "stdout",
     "text": [
      "1041    5\n862     9\n511     8\n327     6\n842     9\n       ..\n998     5\n508     8\n263     2\n525     8\n182     7\nName: label, Length: 119, dtype: int64\n"
     ]
    }
   ],
   "source": [
    "print(y_Test)"
   ]
  }
 ]
}