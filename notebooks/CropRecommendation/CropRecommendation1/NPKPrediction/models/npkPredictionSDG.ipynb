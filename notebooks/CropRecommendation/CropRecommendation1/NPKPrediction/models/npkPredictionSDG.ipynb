{
 "metadata": {
  "language_info": {
   "codemirror_mode": {
    "name": "ipython",
    "version": 3
   },
   "file_extension": ".py",
   "mimetype": "text/x-python",
   "name": "python",
   "nbconvert_exporter": "python",
   "pygments_lexer": "ipython3",
   "version": "3.8.7-final"
  },
  "orig_nbformat": 2,
  "kernelspec": {
   "name": "python3",
   "display_name": "Python 3.8.7 64-bit ('env')",
   "metadata": {
    "interpreter": {
     "hash": "bd7982e890bff92990aabf12591972b4bca5c3dc464f9644cf2024b4a8f216ff"
    }
   }
  }
 },
 "nbformat": 4,
 "nbformat_minor": 2,
 "cells": [
  {
   "cell_type": "code",
   "execution_count": 1,
   "metadata": {},
   "outputs": [],
   "source": [
    "import pandas as pd\n",
    "import numpy as np"
   ]
  },
  {
   "cell_type": "code",
   "execution_count": 2,
   "metadata": {},
   "outputs": [
    {
     "output_type": "execute_result",
     "data": {
      "text/plain": [
       "      Unnamed: 0    N   P   K  temperature   humidity    rainfall  label\n",
       "0              0   90  42  43    20.879744  82.002744  202.935536     11\n",
       "1              1   85  58  41    21.770462  80.319644  226.655537     11\n",
       "2              2   60  55  44    23.004459  82.320763  263.964248     11\n",
       "3              3   74  35  40    26.491096  80.158363  242.864034     11\n",
       "4              4   78  42  42    20.130175  81.604873  262.717340     11\n",
       "...          ...  ...  ..  ..          ...        ...         ...    ...\n",
       "1180        1180  107  34  32    26.774637  66.413269  177.774507      3\n",
       "1181        1181   99  15  27    27.417112  56.636362  127.924610      3\n",
       "1182        1182  118  33  30    24.131797  67.225123  173.322839      3\n",
       "1183        1183  117  32  34    26.272418  52.127394  127.175293      3\n",
       "1184        1184  104  18  30    23.603016  60.396475  140.937041      3\n",
       "\n",
       "[1185 rows x 8 columns]"
      ],
      "text/html": "<div>\n<style scoped>\n    .dataframe tbody tr th:only-of-type {\n        vertical-align: middle;\n    }\n\n    .dataframe tbody tr th {\n        vertical-align: top;\n    }\n\n    .dataframe thead th {\n        text-align: right;\n    }\n</style>\n<table border=\"1\" class=\"dataframe\">\n  <thead>\n    <tr style=\"text-align: right;\">\n      <th></th>\n      <th>Unnamed: 0</th>\n      <th>N</th>\n      <th>P</th>\n      <th>K</th>\n      <th>temperature</th>\n      <th>humidity</th>\n      <th>rainfall</th>\n      <th>label</th>\n    </tr>\n  </thead>\n  <tbody>\n    <tr>\n      <th>0</th>\n      <td>0</td>\n      <td>90</td>\n      <td>42</td>\n      <td>43</td>\n      <td>20.879744</td>\n      <td>82.002744</td>\n      <td>202.935536</td>\n      <td>11</td>\n    </tr>\n    <tr>\n      <th>1</th>\n      <td>1</td>\n      <td>85</td>\n      <td>58</td>\n      <td>41</td>\n      <td>21.770462</td>\n      <td>80.319644</td>\n      <td>226.655537</td>\n      <td>11</td>\n    </tr>\n    <tr>\n      <th>2</th>\n      <td>2</td>\n      <td>60</td>\n      <td>55</td>\n      <td>44</td>\n      <td>23.004459</td>\n      <td>82.320763</td>\n      <td>263.964248</td>\n      <td>11</td>\n    </tr>\n    <tr>\n      <th>3</th>\n      <td>3</td>\n      <td>74</td>\n      <td>35</td>\n      <td>40</td>\n      <td>26.491096</td>\n      <td>80.158363</td>\n      <td>242.864034</td>\n      <td>11</td>\n    </tr>\n    <tr>\n      <th>4</th>\n      <td>4</td>\n      <td>78</td>\n      <td>42</td>\n      <td>42</td>\n      <td>20.130175</td>\n      <td>81.604873</td>\n      <td>262.717340</td>\n      <td>11</td>\n    </tr>\n    <tr>\n      <th>...</th>\n      <td>...</td>\n      <td>...</td>\n      <td>...</td>\n      <td>...</td>\n      <td>...</td>\n      <td>...</td>\n      <td>...</td>\n      <td>...</td>\n    </tr>\n    <tr>\n      <th>1180</th>\n      <td>1180</td>\n      <td>107</td>\n      <td>34</td>\n      <td>32</td>\n      <td>26.774637</td>\n      <td>66.413269</td>\n      <td>177.774507</td>\n      <td>3</td>\n    </tr>\n    <tr>\n      <th>1181</th>\n      <td>1181</td>\n      <td>99</td>\n      <td>15</td>\n      <td>27</td>\n      <td>27.417112</td>\n      <td>56.636362</td>\n      <td>127.924610</td>\n      <td>3</td>\n    </tr>\n    <tr>\n      <th>1182</th>\n      <td>1182</td>\n      <td>118</td>\n      <td>33</td>\n      <td>30</td>\n      <td>24.131797</td>\n      <td>67.225123</td>\n      <td>173.322839</td>\n      <td>3</td>\n    </tr>\n    <tr>\n      <th>1183</th>\n      <td>1183</td>\n      <td>117</td>\n      <td>32</td>\n      <td>34</td>\n      <td>26.272418</td>\n      <td>52.127394</td>\n      <td>127.175293</td>\n      <td>3</td>\n    </tr>\n    <tr>\n      <th>1184</th>\n      <td>1184</td>\n      <td>104</td>\n      <td>18</td>\n      <td>30</td>\n      <td>23.603016</td>\n      <td>60.396475</td>\n      <td>140.937041</td>\n      <td>3</td>\n    </tr>\n  </tbody>\n</table>\n<p>1185 rows × 8 columns</p>\n</div>"
     },
     "metadata": {},
     "execution_count": 2
    }
   ],
   "source": [
    "NPKPrediction=pd.read_csv(\"../../../../../preprocessedData/NPKPrediction.csv\")\n",
    "NPKPrediction"
   ]
  },
  {
   "cell_type": "code",
   "execution_count": 3,
   "metadata": {},
   "outputs": [
    {
     "output_type": "execute_result",
     "data": {
      "text/plain": [
       "        N   P   K  temperature   humidity    rainfall  label\n",
       "0      90  42  43    20.879744  82.002744  202.935536     11\n",
       "1      85  58  41    21.770462  80.319644  226.655537     11\n",
       "2      60  55  44    23.004459  82.320763  263.964248     11\n",
       "3      74  35  40    26.491096  80.158363  242.864034     11\n",
       "4      78  42  42    20.130175  81.604873  262.717340     11\n",
       "...   ...  ..  ..          ...        ...         ...    ...\n",
       "1180  107  34  32    26.774637  66.413269  177.774507      3\n",
       "1181   99  15  27    27.417112  56.636362  127.924610      3\n",
       "1182  118  33  30    24.131797  67.225123  173.322839      3\n",
       "1183  117  32  34    26.272418  52.127394  127.175293      3\n",
       "1184  104  18  30    23.603016  60.396475  140.937041      3\n",
       "\n",
       "[1185 rows x 7 columns]"
      ],
      "text/html": "<div>\n<style scoped>\n    .dataframe tbody tr th:only-of-type {\n        vertical-align: middle;\n    }\n\n    .dataframe tbody tr th {\n        vertical-align: top;\n    }\n\n    .dataframe thead th {\n        text-align: right;\n    }\n</style>\n<table border=\"1\" class=\"dataframe\">\n  <thead>\n    <tr style=\"text-align: right;\">\n      <th></th>\n      <th>N</th>\n      <th>P</th>\n      <th>K</th>\n      <th>temperature</th>\n      <th>humidity</th>\n      <th>rainfall</th>\n      <th>label</th>\n    </tr>\n  </thead>\n  <tbody>\n    <tr>\n      <th>0</th>\n      <td>90</td>\n      <td>42</td>\n      <td>43</td>\n      <td>20.879744</td>\n      <td>82.002744</td>\n      <td>202.935536</td>\n      <td>11</td>\n    </tr>\n    <tr>\n      <th>1</th>\n      <td>85</td>\n      <td>58</td>\n      <td>41</td>\n      <td>21.770462</td>\n      <td>80.319644</td>\n      <td>226.655537</td>\n      <td>11</td>\n    </tr>\n    <tr>\n      <th>2</th>\n      <td>60</td>\n      <td>55</td>\n      <td>44</td>\n      <td>23.004459</td>\n      <td>82.320763</td>\n      <td>263.964248</td>\n      <td>11</td>\n    </tr>\n    <tr>\n      <th>3</th>\n      <td>74</td>\n      <td>35</td>\n      <td>40</td>\n      <td>26.491096</td>\n      <td>80.158363</td>\n      <td>242.864034</td>\n      <td>11</td>\n    </tr>\n    <tr>\n      <th>4</th>\n      <td>78</td>\n      <td>42</td>\n      <td>42</td>\n      <td>20.130175</td>\n      <td>81.604873</td>\n      <td>262.717340</td>\n      <td>11</td>\n    </tr>\n    <tr>\n      <th>...</th>\n      <td>...</td>\n      <td>...</td>\n      <td>...</td>\n      <td>...</td>\n      <td>...</td>\n      <td>...</td>\n      <td>...</td>\n    </tr>\n    <tr>\n      <th>1180</th>\n      <td>107</td>\n      <td>34</td>\n      <td>32</td>\n      <td>26.774637</td>\n      <td>66.413269</td>\n      <td>177.774507</td>\n      <td>3</td>\n    </tr>\n    <tr>\n      <th>1181</th>\n      <td>99</td>\n      <td>15</td>\n      <td>27</td>\n      <td>27.417112</td>\n      <td>56.636362</td>\n      <td>127.924610</td>\n      <td>3</td>\n    </tr>\n    <tr>\n      <th>1182</th>\n      <td>118</td>\n      <td>33</td>\n      <td>30</td>\n      <td>24.131797</td>\n      <td>67.225123</td>\n      <td>173.322839</td>\n      <td>3</td>\n    </tr>\n    <tr>\n      <th>1183</th>\n      <td>117</td>\n      <td>32</td>\n      <td>34</td>\n      <td>26.272418</td>\n      <td>52.127394</td>\n      <td>127.175293</td>\n      <td>3</td>\n    </tr>\n    <tr>\n      <th>1184</th>\n      <td>104</td>\n      <td>18</td>\n      <td>30</td>\n      <td>23.603016</td>\n      <td>60.396475</td>\n      <td>140.937041</td>\n      <td>3</td>\n    </tr>\n  </tbody>\n</table>\n<p>1185 rows × 7 columns</p>\n</div>"
     },
     "metadata": {},
     "execution_count": 3
    }
   ],
   "source": [
    "NPKPrediction=NPKPrediction.drop(columns=[\"Unnamed: 0\"])\n",
    "NPKPrediction"
   ]
  },
  {
   "cell_type": "code",
   "execution_count": 4,
   "metadata": {},
   "outputs": [
    {
     "output_type": "execute_result",
     "data": {
      "text/plain": [
       "        N   P   K  temperature   humidity    rainfall\n",
       "0      90  42  43    20.879744  82.002744  202.935536\n",
       "1      85  58  41    21.770462  80.319644  226.655537\n",
       "2      60  55  44    23.004459  82.320763  263.964248\n",
       "3      74  35  40    26.491096  80.158363  242.864034\n",
       "4      78  42  42    20.130175  81.604873  262.717340\n",
       "...   ...  ..  ..          ...        ...         ...\n",
       "1180  107  34  32    26.774637  66.413269  177.774507\n",
       "1181   99  15  27    27.417112  56.636362  127.924610\n",
       "1182  118  33  30    24.131797  67.225123  173.322839\n",
       "1183  117  32  34    26.272418  52.127394  127.175293\n",
       "1184  104  18  30    23.603016  60.396475  140.937041\n",
       "\n",
       "[1185 rows x 6 columns]"
      ],
      "text/html": "<div>\n<style scoped>\n    .dataframe tbody tr th:only-of-type {\n        vertical-align: middle;\n    }\n\n    .dataframe tbody tr th {\n        vertical-align: top;\n    }\n\n    .dataframe thead th {\n        text-align: right;\n    }\n</style>\n<table border=\"1\" class=\"dataframe\">\n  <thead>\n    <tr style=\"text-align: right;\">\n      <th></th>\n      <th>N</th>\n      <th>P</th>\n      <th>K</th>\n      <th>temperature</th>\n      <th>humidity</th>\n      <th>rainfall</th>\n    </tr>\n  </thead>\n  <tbody>\n    <tr>\n      <th>0</th>\n      <td>90</td>\n      <td>42</td>\n      <td>43</td>\n      <td>20.879744</td>\n      <td>82.002744</td>\n      <td>202.935536</td>\n    </tr>\n    <tr>\n      <th>1</th>\n      <td>85</td>\n      <td>58</td>\n      <td>41</td>\n      <td>21.770462</td>\n      <td>80.319644</td>\n      <td>226.655537</td>\n    </tr>\n    <tr>\n      <th>2</th>\n      <td>60</td>\n      <td>55</td>\n      <td>44</td>\n      <td>23.004459</td>\n      <td>82.320763</td>\n      <td>263.964248</td>\n    </tr>\n    <tr>\n      <th>3</th>\n      <td>74</td>\n      <td>35</td>\n      <td>40</td>\n      <td>26.491096</td>\n      <td>80.158363</td>\n      <td>242.864034</td>\n    </tr>\n    <tr>\n      <th>4</th>\n      <td>78</td>\n      <td>42</td>\n      <td>42</td>\n      <td>20.130175</td>\n      <td>81.604873</td>\n      <td>262.717340</td>\n    </tr>\n    <tr>\n      <th>...</th>\n      <td>...</td>\n      <td>...</td>\n      <td>...</td>\n      <td>...</td>\n      <td>...</td>\n      <td>...</td>\n    </tr>\n    <tr>\n      <th>1180</th>\n      <td>107</td>\n      <td>34</td>\n      <td>32</td>\n      <td>26.774637</td>\n      <td>66.413269</td>\n      <td>177.774507</td>\n    </tr>\n    <tr>\n      <th>1181</th>\n      <td>99</td>\n      <td>15</td>\n      <td>27</td>\n      <td>27.417112</td>\n      <td>56.636362</td>\n      <td>127.924610</td>\n    </tr>\n    <tr>\n      <th>1182</th>\n      <td>118</td>\n      <td>33</td>\n      <td>30</td>\n      <td>24.131797</td>\n      <td>67.225123</td>\n      <td>173.322839</td>\n    </tr>\n    <tr>\n      <th>1183</th>\n      <td>117</td>\n      <td>32</td>\n      <td>34</td>\n      <td>26.272418</td>\n      <td>52.127394</td>\n      <td>127.175293</td>\n    </tr>\n    <tr>\n      <th>1184</th>\n      <td>104</td>\n      <td>18</td>\n      <td>30</td>\n      <td>23.603016</td>\n      <td>60.396475</td>\n      <td>140.937041</td>\n    </tr>\n  </tbody>\n</table>\n<p>1185 rows × 6 columns</p>\n</div>"
     },
     "metadata": {},
     "execution_count": 4
    }
   ],
   "source": [
    "from sklearn.model_selection import train_test_split\n",
    "X=NPKPrediction.drop(columns=[\"label\"])\n",
    "y=NPKPrediction[\"label\"]\n",
    "X"
   ]
  },
  {
   "cell_type": "code",
   "execution_count": 5,
   "metadata": {},
   "outputs": [
    {
     "output_type": "execute_result",
     "data": {
      "text/plain": [
       "0       11\n",
       "1       11\n",
       "2       11\n",
       "3       11\n",
       "4       11\n",
       "        ..\n",
       "1180     3\n",
       "1181     3\n",
       "1182     3\n",
       "1183     3\n",
       "1184     3\n",
       "Name: label, Length: 1185, dtype: int64"
      ]
     },
     "metadata": {},
     "execution_count": 5
    }
   ],
   "source": [
    "y"
   ]
  },
  {
   "cell_type": "code",
   "execution_count": 6,
   "metadata": {},
   "outputs": [],
   "source": [
    "X_Train,X_Test,y_Train,y_Test=train_test_split(X,y,test_size=0.1,random_state=2)"
   ]
  },
  {
   "cell_type": "code",
   "execution_count": 7,
   "metadata": {},
   "outputs": [],
   "source": [
    "from sklearn.linear_model import SGDRegressor"
   ]
  },
  {
   "cell_type": "code",
   "execution_count": 8,
   "metadata": {},
   "outputs": [],
   "source": [
    "model=SGDRegressor(loss=\"squared_loss\",penalty=None)"
   ]
  },
  {
   "cell_type": "code",
   "execution_count": 9,
   "metadata": {},
   "outputs": [
    {
     "output_type": "execute_result",
     "data": {
      "text/plain": [
       "SGDRegressor(penalty=None)"
      ]
     },
     "metadata": {},
     "execution_count": 9
    }
   ],
   "source": [
    "model.fit(X_Train,y_Train)"
   ]
  },
  {
   "cell_type": "code",
   "execution_count": 11,
   "metadata": {},
   "outputs": [
    {
     "output_type": "execute_result",
     "data": {
      "text/plain": [
       "array([ 1.14360101e+13,  2.92390874e+12,  4.50675961e+12, -2.57971017e+12,\n",
       "       -8.62660526e+11,  1.65678774e+13,  1.48504561e+13,  1.47551128e+13,\n",
       "       -3.21663797e+12, -1.68836674e+12,  2.48370819e+12, -4.61310271e+12,\n",
       "        7.55113529e+12,  3.20650689e+12,  1.03722975e+13,  3.53502368e+12,\n",
       "        6.74462976e+12,  1.08988292e+13,  2.11158697e+12,  1.57955856e+13,\n",
       "       -4.03908030e+12,  6.14997601e+12, -8.09752375e+11,  3.88751826e+12,\n",
       "        1.45395720e+13,  4.06619837e+12, -1.21400888e+12, -3.07951544e+12,\n",
       "        8.14404120e+12,  6.24460672e+12,  3.09768740e+12, -1.85908302e+11,\n",
       "       -2.20614254e+12,  1.38443648e+12,  1.20776237e+13, -1.29449566e+11,\n",
       "       -2.13718683e+12,  8.56191349e+12, -8.92244037e+11,  1.54189427e+13,\n",
       "       -2.95115283e+12,  1.20135840e+13,  4.77245610e+12,  8.41200553e+12,\n",
       "       -2.14276678e+12,  4.33252507e+12, -2.23991257e+12,  1.56358314e+12,\n",
       "       -1.70662332e+11, -1.69546206e+12,  9.10089992e+11,  7.76750626e+12,\n",
       "        3.47114639e+12,  4.26952967e+12,  1.22974803e+13,  3.81012223e+12,\n",
       "        1.43163237e+12,  1.05381934e+13, -2.91976175e+12,  1.35993324e+13,\n",
       "        1.70525819e+13, -4.66696542e+11,  6.68319192e+11,  1.32356664e+13,\n",
       "        1.24857879e+13, -2.83118047e+12, -5.95172519e+11,  1.58404334e+13,\n",
       "        1.69901704e+13,  1.14085700e+13,  1.70733478e+13,  1.10158382e+13,\n",
       "        4.02028337e+11, -2.01957340e+12, -4.37139883e+10,  1.31428838e+13,\n",
       "       -1.97854221e+12,  1.22141544e+13,  1.88965076e+12,  7.24377277e+12,\n",
       "        3.08293626e+12,  7.09771829e+12,  4.13973127e+12,  1.63184158e+12,\n",
       "       -5.16921773e+12,  2.92087462e+12, -1.77399396e+12,  1.14025760e+13,\n",
       "        1.80651094e+13,  6.58857223e+11,  2.10170550e+12, -1.03661570e+12,\n",
       "        1.09603456e+13,  1.62061289e+13,  2.67652334e+12,  9.99251360e+12,\n",
       "        8.05928581e+12,  9.95566998e+12,  3.32930854e+12,  1.48684338e+13,\n",
       "       -6.54116176e+10, -8.53277691e+11,  1.09888359e+13, -4.06588282e+12,\n",
       "        1.27515611e+13,  1.11778534e+13,  6.33306192e+11,  1.02564608e+12,\n",
       "        1.62973814e+13,  9.04554187e+12, -1.60954892e+11,  1.12592883e+13,\n",
       "        6.39086189e+12,  1.39003823e+13,  7.62068911e+12,  1.13077069e+12,\n",
       "        1.89758147e+12,  1.50089754e+12,  5.78763679e+12])"
      ]
     },
     "metadata": {},
     "execution_count": 11
    }
   ],
   "source": [
    "prediction=model.predict(X_Test)\n",
    "prediction"
   ]
  },
  {
   "cell_type": "code",
   "execution_count": 12,
   "metadata": {},
   "outputs": [
    {
     "output_type": "execute_result",
     "data": {
      "text/plain": [
       "1041    5\n",
       "862     9\n",
       "511     8\n",
       "327     6\n",
       "842     9\n",
       "       ..\n",
       "998     5\n",
       "508     8\n",
       "263     2\n",
       "525     8\n",
       "182     7\n",
       "Name: label, Length: 119, dtype: int64"
      ]
     },
     "metadata": {},
     "execution_count": 12
    }
   ],
   "source": [
    "y_Test"
   ]
  }
 ]
}