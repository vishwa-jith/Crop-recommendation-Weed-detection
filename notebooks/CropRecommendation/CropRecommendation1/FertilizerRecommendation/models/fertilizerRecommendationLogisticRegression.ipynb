{
 "metadata": {
  "language_info": {
   "codemirror_mode": {
    "name": "ipython",
    "version": 3
   },
   "file_extension": ".py",
   "mimetype": "text/x-python",
   "name": "python",
   "nbconvert_exporter": "python",
   "pygments_lexer": "ipython3",
   "version": "3.8.5-final"
  },
  "orig_nbformat": 2,
  "kernelspec": {
   "name": "python3",
   "display_name": "Python 3",
   "language": "python"
  }
 },
 "nbformat": 4,
 "nbformat_minor": 2,
 "cells": [
  {
   "cell_type": "code",
   "execution_count": 15,
   "metadata": {},
   "outputs": [],
   "source": [
    "import pandas as pd\n",
    "import numpy as np"
   ]
  },
  {
   "cell_type": "code",
   "execution_count": 16,
   "metadata": {},
   "outputs": [
    {
     "output_type": "execute_result",
     "data": {
      "text/plain": [
       "    Unnamed: 0  Temparature  Humidity   Moisture  Soil Type  Crop Type  \\\n",
       "0            0           26         52        38          4          3   \n",
       "1            1           29         52        45          2          8   \n",
       "2            2           34         65        62          0          1   \n",
       "3            3           32         62        34          3          9   \n",
       "4            4           28         54        46          1          6   \n",
       "..         ...          ...        ...       ...        ...        ...   \n",
       "94          94           25         50        32          1          7   \n",
       "95          95           30         60        27          3          9   \n",
       "96          96           38         72        51          2         10   \n",
       "97          97           36         60        43          4          4   \n",
       "98          98           29         58        57          0          8   \n",
       "\n",
       "    Nitrogen  Potassium  Phosphorous  Fertilizer Name  \n",
       "0         37          0            0                6  \n",
       "1         12          0           36                5  \n",
       "2          7          9           30                1  \n",
       "3         22          0           20                4  \n",
       "4         35          0            0                6  \n",
       "..       ...        ...          ...              ...  \n",
       "94        24          0           19                4  \n",
       "95         4         17           17                0  \n",
       "96        39          0            0                6  \n",
       "97        15          0           41                5  \n",
       "98        12          0           10                3  \n",
       "\n",
       "[99 rows x 10 columns]"
      ],
      "text/html": "<div>\n<style scoped>\n    .dataframe tbody tr th:only-of-type {\n        vertical-align: middle;\n    }\n\n    .dataframe tbody tr th {\n        vertical-align: top;\n    }\n\n    .dataframe thead th {\n        text-align: right;\n    }\n</style>\n<table border=\"1\" class=\"dataframe\">\n  <thead>\n    <tr style=\"text-align: right;\">\n      <th></th>\n      <th>Unnamed: 0</th>\n      <th>Temparature</th>\n      <th>Humidity</th>\n      <th>Moisture</th>\n      <th>Soil Type</th>\n      <th>Crop Type</th>\n      <th>Nitrogen</th>\n      <th>Potassium</th>\n      <th>Phosphorous</th>\n      <th>Fertilizer Name</th>\n    </tr>\n  </thead>\n  <tbody>\n    <tr>\n      <th>0</th>\n      <td>0</td>\n      <td>26</td>\n      <td>52</td>\n      <td>38</td>\n      <td>4</td>\n      <td>3</td>\n      <td>37</td>\n      <td>0</td>\n      <td>0</td>\n      <td>6</td>\n    </tr>\n    <tr>\n      <th>1</th>\n      <td>1</td>\n      <td>29</td>\n      <td>52</td>\n      <td>45</td>\n      <td>2</td>\n      <td>8</td>\n      <td>12</td>\n      <td>0</td>\n      <td>36</td>\n      <td>5</td>\n    </tr>\n    <tr>\n      <th>2</th>\n      <td>2</td>\n      <td>34</td>\n      <td>65</td>\n      <td>62</td>\n      <td>0</td>\n      <td>1</td>\n      <td>7</td>\n      <td>9</td>\n      <td>30</td>\n      <td>1</td>\n    </tr>\n    <tr>\n      <th>3</th>\n      <td>3</td>\n      <td>32</td>\n      <td>62</td>\n      <td>34</td>\n      <td>3</td>\n      <td>9</td>\n      <td>22</td>\n      <td>0</td>\n      <td>20</td>\n      <td>4</td>\n    </tr>\n    <tr>\n      <th>4</th>\n      <td>4</td>\n      <td>28</td>\n      <td>54</td>\n      <td>46</td>\n      <td>1</td>\n      <td>6</td>\n      <td>35</td>\n      <td>0</td>\n      <td>0</td>\n      <td>6</td>\n    </tr>\n    <tr>\n      <th>...</th>\n      <td>...</td>\n      <td>...</td>\n      <td>...</td>\n      <td>...</td>\n      <td>...</td>\n      <td>...</td>\n      <td>...</td>\n      <td>...</td>\n      <td>...</td>\n      <td>...</td>\n    </tr>\n    <tr>\n      <th>94</th>\n      <td>94</td>\n      <td>25</td>\n      <td>50</td>\n      <td>32</td>\n      <td>1</td>\n      <td>7</td>\n      <td>24</td>\n      <td>0</td>\n      <td>19</td>\n      <td>4</td>\n    </tr>\n    <tr>\n      <th>95</th>\n      <td>95</td>\n      <td>30</td>\n      <td>60</td>\n      <td>27</td>\n      <td>3</td>\n      <td>9</td>\n      <td>4</td>\n      <td>17</td>\n      <td>17</td>\n      <td>0</td>\n    </tr>\n    <tr>\n      <th>96</th>\n      <td>96</td>\n      <td>38</td>\n      <td>72</td>\n      <td>51</td>\n      <td>2</td>\n      <td>10</td>\n      <td>39</td>\n      <td>0</td>\n      <td>0</td>\n      <td>6</td>\n    </tr>\n    <tr>\n      <th>97</th>\n      <td>97</td>\n      <td>36</td>\n      <td>60</td>\n      <td>43</td>\n      <td>4</td>\n      <td>4</td>\n      <td>15</td>\n      <td>0</td>\n      <td>41</td>\n      <td>5</td>\n    </tr>\n    <tr>\n      <th>98</th>\n      <td>98</td>\n      <td>29</td>\n      <td>58</td>\n      <td>57</td>\n      <td>0</td>\n      <td>8</td>\n      <td>12</td>\n      <td>0</td>\n      <td>10</td>\n      <td>3</td>\n    </tr>\n  </tbody>\n</table>\n<p>99 rows × 10 columns</p>\n</div>"
     },
     "metadata": {},
     "execution_count": 16
    }
   ],
   "source": [
    "fertilizerRecommendation=pd.read_csv(\"../../../../../preprocessedData/FertilizerPrediction.csv\")\n",
    "fertilizerRecommendation"
   ]
  },
  {
   "cell_type": "code",
   "execution_count": 17,
   "metadata": {},
   "outputs": [
    {
     "output_type": "execute_result",
     "data": {
      "text/plain": [
       "    Temparature  Humidity   Moisture  Soil Type  Crop Type  Nitrogen  \\\n",
       "0            26         52        38          4          3        37   \n",
       "1            29         52        45          2          8        12   \n",
       "2            34         65        62          0          1         7   \n",
       "3            32         62        34          3          9        22   \n",
       "4            28         54        46          1          6        35   \n",
       "..          ...        ...       ...        ...        ...       ...   \n",
       "94           25         50        32          1          7        24   \n",
       "95           30         60        27          3          9         4   \n",
       "96           38         72        51          2         10        39   \n",
       "97           36         60        43          4          4        15   \n",
       "98           29         58        57          0          8        12   \n",
       "\n",
       "    Potassium  Phosphorous  Fertilizer Name  \n",
       "0           0            0                6  \n",
       "1           0           36                5  \n",
       "2           9           30                1  \n",
       "3           0           20                4  \n",
       "4           0            0                6  \n",
       "..        ...          ...              ...  \n",
       "94          0           19                4  \n",
       "95         17           17                0  \n",
       "96          0            0                6  \n",
       "97          0           41                5  \n",
       "98          0           10                3  \n",
       "\n",
       "[99 rows x 9 columns]"
      ],
      "text/html": "<div>\n<style scoped>\n    .dataframe tbody tr th:only-of-type {\n        vertical-align: middle;\n    }\n\n    .dataframe tbody tr th {\n        vertical-align: top;\n    }\n\n    .dataframe thead th {\n        text-align: right;\n    }\n</style>\n<table border=\"1\" class=\"dataframe\">\n  <thead>\n    <tr style=\"text-align: right;\">\n      <th></th>\n      <th>Temparature</th>\n      <th>Humidity</th>\n      <th>Moisture</th>\n      <th>Soil Type</th>\n      <th>Crop Type</th>\n      <th>Nitrogen</th>\n      <th>Potassium</th>\n      <th>Phosphorous</th>\n      <th>Fertilizer Name</th>\n    </tr>\n  </thead>\n  <tbody>\n    <tr>\n      <th>0</th>\n      <td>26</td>\n      <td>52</td>\n      <td>38</td>\n      <td>4</td>\n      <td>3</td>\n      <td>37</td>\n      <td>0</td>\n      <td>0</td>\n      <td>6</td>\n    </tr>\n    <tr>\n      <th>1</th>\n      <td>29</td>\n      <td>52</td>\n      <td>45</td>\n      <td>2</td>\n      <td>8</td>\n      <td>12</td>\n      <td>0</td>\n      <td>36</td>\n      <td>5</td>\n    </tr>\n    <tr>\n      <th>2</th>\n      <td>34</td>\n      <td>65</td>\n      <td>62</td>\n      <td>0</td>\n      <td>1</td>\n      <td>7</td>\n      <td>9</td>\n      <td>30</td>\n      <td>1</td>\n    </tr>\n    <tr>\n      <th>3</th>\n      <td>32</td>\n      <td>62</td>\n      <td>34</td>\n      <td>3</td>\n      <td>9</td>\n      <td>22</td>\n      <td>0</td>\n      <td>20</td>\n      <td>4</td>\n    </tr>\n    <tr>\n      <th>4</th>\n      <td>28</td>\n      <td>54</td>\n      <td>46</td>\n      <td>1</td>\n      <td>6</td>\n      <td>35</td>\n      <td>0</td>\n      <td>0</td>\n      <td>6</td>\n    </tr>\n    <tr>\n      <th>...</th>\n      <td>...</td>\n      <td>...</td>\n      <td>...</td>\n      <td>...</td>\n      <td>...</td>\n      <td>...</td>\n      <td>...</td>\n      <td>...</td>\n      <td>...</td>\n    </tr>\n    <tr>\n      <th>94</th>\n      <td>25</td>\n      <td>50</td>\n      <td>32</td>\n      <td>1</td>\n      <td>7</td>\n      <td>24</td>\n      <td>0</td>\n      <td>19</td>\n      <td>4</td>\n    </tr>\n    <tr>\n      <th>95</th>\n      <td>30</td>\n      <td>60</td>\n      <td>27</td>\n      <td>3</td>\n      <td>9</td>\n      <td>4</td>\n      <td>17</td>\n      <td>17</td>\n      <td>0</td>\n    </tr>\n    <tr>\n      <th>96</th>\n      <td>38</td>\n      <td>72</td>\n      <td>51</td>\n      <td>2</td>\n      <td>10</td>\n      <td>39</td>\n      <td>0</td>\n      <td>0</td>\n      <td>6</td>\n    </tr>\n    <tr>\n      <th>97</th>\n      <td>36</td>\n      <td>60</td>\n      <td>43</td>\n      <td>4</td>\n      <td>4</td>\n      <td>15</td>\n      <td>0</td>\n      <td>41</td>\n      <td>5</td>\n    </tr>\n    <tr>\n      <th>98</th>\n      <td>29</td>\n      <td>58</td>\n      <td>57</td>\n      <td>0</td>\n      <td>8</td>\n      <td>12</td>\n      <td>0</td>\n      <td>10</td>\n      <td>3</td>\n    </tr>\n  </tbody>\n</table>\n<p>99 rows × 9 columns</p>\n</div>"
     },
     "metadata": {},
     "execution_count": 17
    }
   ],
   "source": [
    "fertilizerRecommendation=fertilizerRecommendation.drop(columns=[\"Unnamed: 0\"])\n",
    "fertilizerRecommendation"
   ]
  },
  {
   "cell_type": "code",
   "execution_count": 18,
   "metadata": {},
   "outputs": [],
   "source": [
    "from sklearn.model_selection import train_test_split\n",
    "X=fertilizerRecommendation.drop(columns=[\"Fertilizer Name\"])\n",
    "y=fertilizerRecommendation[\"Fertilizer Name\"]"
   ]
  },
  {
   "cell_type": "code",
   "execution_count": 19,
   "metadata": {},
   "outputs": [
    {
     "output_type": "execute_result",
     "data": {
      "text/plain": [
       "    Temparature  Humidity   Moisture  Soil Type  Crop Type  Nitrogen  \\\n",
       "0            26         52        38          4          3        37   \n",
       "1            29         52        45          2          8        12   \n",
       "2            34         65        62          0          1         7   \n",
       "3            32         62        34          3          9        22   \n",
       "4            28         54        46          1          6        35   \n",
       "..          ...        ...       ...        ...        ...       ...   \n",
       "94           25         50        32          1          7        24   \n",
       "95           30         60        27          3          9         4   \n",
       "96           38         72        51          2         10        39   \n",
       "97           36         60        43          4          4        15   \n",
       "98           29         58        57          0          8        12   \n",
       "\n",
       "    Potassium  Phosphorous  \n",
       "0           0            0  \n",
       "1           0           36  \n",
       "2           9           30  \n",
       "3           0           20  \n",
       "4           0            0  \n",
       "..        ...          ...  \n",
       "94          0           19  \n",
       "95         17           17  \n",
       "96          0            0  \n",
       "97          0           41  \n",
       "98          0           10  \n",
       "\n",
       "[99 rows x 8 columns]"
      ],
      "text/html": "<div>\n<style scoped>\n    .dataframe tbody tr th:only-of-type {\n        vertical-align: middle;\n    }\n\n    .dataframe tbody tr th {\n        vertical-align: top;\n    }\n\n    .dataframe thead th {\n        text-align: right;\n    }\n</style>\n<table border=\"1\" class=\"dataframe\">\n  <thead>\n    <tr style=\"text-align: right;\">\n      <th></th>\n      <th>Temparature</th>\n      <th>Humidity</th>\n      <th>Moisture</th>\n      <th>Soil Type</th>\n      <th>Crop Type</th>\n      <th>Nitrogen</th>\n      <th>Potassium</th>\n      <th>Phosphorous</th>\n    </tr>\n  </thead>\n  <tbody>\n    <tr>\n      <th>0</th>\n      <td>26</td>\n      <td>52</td>\n      <td>38</td>\n      <td>4</td>\n      <td>3</td>\n      <td>37</td>\n      <td>0</td>\n      <td>0</td>\n    </tr>\n    <tr>\n      <th>1</th>\n      <td>29</td>\n      <td>52</td>\n      <td>45</td>\n      <td>2</td>\n      <td>8</td>\n      <td>12</td>\n      <td>0</td>\n      <td>36</td>\n    </tr>\n    <tr>\n      <th>2</th>\n      <td>34</td>\n      <td>65</td>\n      <td>62</td>\n      <td>0</td>\n      <td>1</td>\n      <td>7</td>\n      <td>9</td>\n      <td>30</td>\n    </tr>\n    <tr>\n      <th>3</th>\n      <td>32</td>\n      <td>62</td>\n      <td>34</td>\n      <td>3</td>\n      <td>9</td>\n      <td>22</td>\n      <td>0</td>\n      <td>20</td>\n    </tr>\n    <tr>\n      <th>4</th>\n      <td>28</td>\n      <td>54</td>\n      <td>46</td>\n      <td>1</td>\n      <td>6</td>\n      <td>35</td>\n      <td>0</td>\n      <td>0</td>\n    </tr>\n    <tr>\n      <th>...</th>\n      <td>...</td>\n      <td>...</td>\n      <td>...</td>\n      <td>...</td>\n      <td>...</td>\n      <td>...</td>\n      <td>...</td>\n      <td>...</td>\n    </tr>\n    <tr>\n      <th>94</th>\n      <td>25</td>\n      <td>50</td>\n      <td>32</td>\n      <td>1</td>\n      <td>7</td>\n      <td>24</td>\n      <td>0</td>\n      <td>19</td>\n    </tr>\n    <tr>\n      <th>95</th>\n      <td>30</td>\n      <td>60</td>\n      <td>27</td>\n      <td>3</td>\n      <td>9</td>\n      <td>4</td>\n      <td>17</td>\n      <td>17</td>\n    </tr>\n    <tr>\n      <th>96</th>\n      <td>38</td>\n      <td>72</td>\n      <td>51</td>\n      <td>2</td>\n      <td>10</td>\n      <td>39</td>\n      <td>0</td>\n      <td>0</td>\n    </tr>\n    <tr>\n      <th>97</th>\n      <td>36</td>\n      <td>60</td>\n      <td>43</td>\n      <td>4</td>\n      <td>4</td>\n      <td>15</td>\n      <td>0</td>\n      <td>41</td>\n    </tr>\n    <tr>\n      <th>98</th>\n      <td>29</td>\n      <td>58</td>\n      <td>57</td>\n      <td>0</td>\n      <td>8</td>\n      <td>12</td>\n      <td>0</td>\n      <td>10</td>\n    </tr>\n  </tbody>\n</table>\n<p>99 rows × 8 columns</p>\n</div>"
     },
     "metadata": {},
     "execution_count": 19
    }
   ],
   "source": [
    "X"
   ]
  },
  {
   "cell_type": "code",
   "execution_count": 20,
   "metadata": {},
   "outputs": [
    {
     "output_type": "execute_result",
     "data": {
      "text/plain": [
       "0     6\n",
       "1     5\n",
       "2     1\n",
       "3     4\n",
       "4     6\n",
       "     ..\n",
       "94    4\n",
       "95    0\n",
       "96    6\n",
       "97    5\n",
       "98    3\n",
       "Name: Fertilizer Name, Length: 99, dtype: int64"
      ]
     },
     "metadata": {},
     "execution_count": 20
    }
   ],
   "source": [
    "y"
   ]
  },
  {
   "cell_type": "code",
   "execution_count": 21,
   "metadata": {},
   "outputs": [],
   "source": [
    "X_Train,X_Test,y_Train,y_Test=train_test_split(X,y,test_size=0.4)"
   ]
  },
  {
   "cell_type": "code",
   "execution_count": 22,
   "metadata": {},
   "outputs": [],
   "source": [
    "from sklearn.linear_model import LogisticRegression\n",
    "from sklearn.metrics import accuracy_score"
   ]
  },
  {
   "cell_type": "code",
   "execution_count": 23,
   "metadata": {},
   "outputs": [
    {
     "output_type": "execute_result",
     "data": {
      "text/plain": [
       "LogisticRegression()"
      ]
     },
     "metadata": {},
     "execution_count": 23
    }
   ],
   "source": [
    "model=LogisticRegression()\n",
    "model.fit(X_Train,y_Train)"
   ]
  },
  {
   "cell_type": "code",
   "execution_count": 24,
   "metadata": {},
   "outputs": [],
   "source": [
    "predict_val=model.predict(X_Test)"
   ]
  },
  {
   "cell_type": "code",
   "execution_count": 25,
   "metadata": {},
   "outputs": [
    {
     "output_type": "execute_result",
     "data": {
      "text/plain": [
       "array([3, 5, 1, 4, 2, 3, 1, 6, 6, 1, 5, 0, 3, 6, 6, 0, 6, 6, 6, 6, 2, 2,\n",
       "       2, 3, 2, 4, 1, 1, 6, 6, 0, 2, 0, 0, 2, 4, 5, 1, 1, 6], dtype=int64)"
      ]
     },
     "metadata": {},
     "execution_count": 25
    }
   ],
   "source": [
    "predict_val"
   ]
  },
  {
   "cell_type": "code",
   "execution_count": 26,
   "metadata": {},
   "outputs": [
    {
     "output_type": "execute_result",
     "data": {
      "text/plain": [
       "57    3\n",
       "39    5\n",
       "33    1\n",
       "76    4\n",
       "6     3\n",
       "51    3\n",
       "93    1\n",
       "12    6\n",
       "92    6\n",
       "80    1\n",
       "31    5\n",
       "95    0\n",
       "61    3\n",
       "73    6\n",
       "52    6\n",
       "91    0\n",
       "96    6\n",
       "81    6\n",
       "87    6\n",
       "60    6\n",
       "11    2\n",
       "58    2\n",
       "77    3\n",
       "66    3\n",
       "98    3\n",
       "55    4\n",
       "67    1\n",
       "49    1\n",
       "64    6\n",
       "43    6\n",
       "38    2\n",
       "83    3\n",
       "63    0\n",
       "5     2\n",
       "54    2\n",
       "84    4\n",
       "53    5\n",
       "45    1\n",
       "75    1\n",
       "0     6\n",
       "Name: Fertilizer Name, dtype: int64"
      ]
     },
     "metadata": {},
     "execution_count": 26
    }
   ],
   "source": [
    "y_Test"
   ]
  },
  {
   "cell_type": "code",
   "execution_count": 27,
   "metadata": {},
   "outputs": [
    {
     "output_type": "execute_result",
     "data": {
      "text/plain": [
       "0.85"
      ]
     },
     "metadata": {},
     "execution_count": 27
    }
   ],
   "source": [
    "accuracy_score(y_Test,predict_val)"
   ]
  },
  {
   "cell_type": "code",
   "execution_count": 28,
   "metadata": {},
   "outputs": [
    {
     "output_type": "stream",
     "name": "stdout",
     "text": [
      "              precision    recall  f1-score   support\n\n           0       0.60      1.00      0.75         3\n           1       1.00      1.00      1.00         7\n           2       0.43      0.60      0.50         5\n           3       1.00      0.50      0.67         8\n           4       1.00      1.00      1.00         3\n           5       1.00      1.00      1.00         3\n           6       1.00      1.00      1.00        11\n\n    accuracy                           0.85        40\n   macro avg       0.86      0.87      0.85        40\nweighted avg       0.90      0.85      0.85        40\n\n"
     ]
    }
   ],
   "source": [
    "from sklearn.metrics import classification_report\n",
    "print(classification_report(y_Test,predict_val))"
   ]
  }
 ]
}