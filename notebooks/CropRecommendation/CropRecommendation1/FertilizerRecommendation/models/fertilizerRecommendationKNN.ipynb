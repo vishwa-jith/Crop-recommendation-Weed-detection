{
 "metadata": {
  "language_info": {
   "codemirror_mode": {
    "name": "ipython",
    "version": 3
   },
   "file_extension": ".py",
   "mimetype": "text/x-python",
   "name": "python",
   "nbconvert_exporter": "python",
   "pygments_lexer": "ipython3",
   "version": "3.8.5-final"
  },
  "orig_nbformat": 2,
  "kernelspec": {
   "name": "python3",
   "display_name": "Python 3",
   "language": "python"
  }
 },
 "nbformat": 4,
 "nbformat_minor": 2,
 "cells": [
  {
   "cell_type": "code",
   "execution_count": 98,
   "metadata": {},
   "outputs": [],
   "source": [
    "import pandas as pd\n",
    "import numpy as np"
   ]
  },
  {
   "cell_type": "code",
   "execution_count": 99,
   "metadata": {},
   "outputs": [
    {
     "output_type": "execute_result",
     "data": {
      "text/plain": [
       "    Unnamed: 0  Temparature  Humidity   Moisture  Soil Type  Crop Type  \\\n",
       "0            0           26         52        38          4          3   \n",
       "1            1           29         52        45          2          8   \n",
       "2            2           34         65        62          0          1   \n",
       "3            3           32         62        34          3          9   \n",
       "4            4           28         54        46          1          6   \n",
       "..         ...          ...        ...       ...        ...        ...   \n",
       "94          94           25         50        32          1          7   \n",
       "95          95           30         60        27          3          9   \n",
       "96          96           38         72        51          2         10   \n",
       "97          97           36         60        43          4          4   \n",
       "98          98           29         58        57          0          8   \n",
       "\n",
       "    Nitrogen  Potassium  Phosphorous  Fertilizer Name  \n",
       "0         37          0            0                6  \n",
       "1         12          0           36                5  \n",
       "2          7          9           30                1  \n",
       "3         22          0           20                4  \n",
       "4         35          0            0                6  \n",
       "..       ...        ...          ...              ...  \n",
       "94        24          0           19                4  \n",
       "95         4         17           17                0  \n",
       "96        39          0            0                6  \n",
       "97        15          0           41                5  \n",
       "98        12          0           10                3  \n",
       "\n",
       "[99 rows x 10 columns]"
      ],
      "text/html": "<div>\n<style scoped>\n    .dataframe tbody tr th:only-of-type {\n        vertical-align: middle;\n    }\n\n    .dataframe tbody tr th {\n        vertical-align: top;\n    }\n\n    .dataframe thead th {\n        text-align: right;\n    }\n</style>\n<table border=\"1\" class=\"dataframe\">\n  <thead>\n    <tr style=\"text-align: right;\">\n      <th></th>\n      <th>Unnamed: 0</th>\n      <th>Temparature</th>\n      <th>Humidity</th>\n      <th>Moisture</th>\n      <th>Soil Type</th>\n      <th>Crop Type</th>\n      <th>Nitrogen</th>\n      <th>Potassium</th>\n      <th>Phosphorous</th>\n      <th>Fertilizer Name</th>\n    </tr>\n  </thead>\n  <tbody>\n    <tr>\n      <th>0</th>\n      <td>0</td>\n      <td>26</td>\n      <td>52</td>\n      <td>38</td>\n      <td>4</td>\n      <td>3</td>\n      <td>37</td>\n      <td>0</td>\n      <td>0</td>\n      <td>6</td>\n    </tr>\n    <tr>\n      <th>1</th>\n      <td>1</td>\n      <td>29</td>\n      <td>52</td>\n      <td>45</td>\n      <td>2</td>\n      <td>8</td>\n      <td>12</td>\n      <td>0</td>\n      <td>36</td>\n      <td>5</td>\n    </tr>\n    <tr>\n      <th>2</th>\n      <td>2</td>\n      <td>34</td>\n      <td>65</td>\n      <td>62</td>\n      <td>0</td>\n      <td>1</td>\n      <td>7</td>\n      <td>9</td>\n      <td>30</td>\n      <td>1</td>\n    </tr>\n    <tr>\n      <th>3</th>\n      <td>3</td>\n      <td>32</td>\n      <td>62</td>\n      <td>34</td>\n      <td>3</td>\n      <td>9</td>\n      <td>22</td>\n      <td>0</td>\n      <td>20</td>\n      <td>4</td>\n    </tr>\n    <tr>\n      <th>4</th>\n      <td>4</td>\n      <td>28</td>\n      <td>54</td>\n      <td>46</td>\n      <td>1</td>\n      <td>6</td>\n      <td>35</td>\n      <td>0</td>\n      <td>0</td>\n      <td>6</td>\n    </tr>\n    <tr>\n      <th>...</th>\n      <td>...</td>\n      <td>...</td>\n      <td>...</td>\n      <td>...</td>\n      <td>...</td>\n      <td>...</td>\n      <td>...</td>\n      <td>...</td>\n      <td>...</td>\n      <td>...</td>\n    </tr>\n    <tr>\n      <th>94</th>\n      <td>94</td>\n      <td>25</td>\n      <td>50</td>\n      <td>32</td>\n      <td>1</td>\n      <td>7</td>\n      <td>24</td>\n      <td>0</td>\n      <td>19</td>\n      <td>4</td>\n    </tr>\n    <tr>\n      <th>95</th>\n      <td>95</td>\n      <td>30</td>\n      <td>60</td>\n      <td>27</td>\n      <td>3</td>\n      <td>9</td>\n      <td>4</td>\n      <td>17</td>\n      <td>17</td>\n      <td>0</td>\n    </tr>\n    <tr>\n      <th>96</th>\n      <td>96</td>\n      <td>38</td>\n      <td>72</td>\n      <td>51</td>\n      <td>2</td>\n      <td>10</td>\n      <td>39</td>\n      <td>0</td>\n      <td>0</td>\n      <td>6</td>\n    </tr>\n    <tr>\n      <th>97</th>\n      <td>97</td>\n      <td>36</td>\n      <td>60</td>\n      <td>43</td>\n      <td>4</td>\n      <td>4</td>\n      <td>15</td>\n      <td>0</td>\n      <td>41</td>\n      <td>5</td>\n    </tr>\n    <tr>\n      <th>98</th>\n      <td>98</td>\n      <td>29</td>\n      <td>58</td>\n      <td>57</td>\n      <td>0</td>\n      <td>8</td>\n      <td>12</td>\n      <td>0</td>\n      <td>10</td>\n      <td>3</td>\n    </tr>\n  </tbody>\n</table>\n<p>99 rows × 10 columns</p>\n</div>"
     },
     "metadata": {},
     "execution_count": 99
    }
   ],
   "source": [
    "fertilizerRecommendation=pd.read_csv(\"../../../../../preprocessedData/FertilizerPrediction.csv\")\n",
    "fertilizerRecommendation"
   ]
  },
  {
   "cell_type": "code",
   "execution_count": 100,
   "metadata": {},
   "outputs": [
    {
     "output_type": "execute_result",
     "data": {
      "text/plain": [
       "    Temparature  Humidity   Moisture  Soil Type  Crop Type  Nitrogen  \\\n",
       "0            26         52        38          4          3        37   \n",
       "1            29         52        45          2          8        12   \n",
       "2            34         65        62          0          1         7   \n",
       "3            32         62        34          3          9        22   \n",
       "4            28         54        46          1          6        35   \n",
       "..          ...        ...       ...        ...        ...       ...   \n",
       "94           25         50        32          1          7        24   \n",
       "95           30         60        27          3          9         4   \n",
       "96           38         72        51          2         10        39   \n",
       "97           36         60        43          4          4        15   \n",
       "98           29         58        57          0          8        12   \n",
       "\n",
       "    Potassium  Phosphorous  Fertilizer Name  \n",
       "0           0            0                6  \n",
       "1           0           36                5  \n",
       "2           9           30                1  \n",
       "3           0           20                4  \n",
       "4           0            0                6  \n",
       "..        ...          ...              ...  \n",
       "94          0           19                4  \n",
       "95         17           17                0  \n",
       "96          0            0                6  \n",
       "97          0           41                5  \n",
       "98          0           10                3  \n",
       "\n",
       "[99 rows x 9 columns]"
      ],
      "text/html": "<div>\n<style scoped>\n    .dataframe tbody tr th:only-of-type {\n        vertical-align: middle;\n    }\n\n    .dataframe tbody tr th {\n        vertical-align: top;\n    }\n\n    .dataframe thead th {\n        text-align: right;\n    }\n</style>\n<table border=\"1\" class=\"dataframe\">\n  <thead>\n    <tr style=\"text-align: right;\">\n      <th></th>\n      <th>Temparature</th>\n      <th>Humidity</th>\n      <th>Moisture</th>\n      <th>Soil Type</th>\n      <th>Crop Type</th>\n      <th>Nitrogen</th>\n      <th>Potassium</th>\n      <th>Phosphorous</th>\n      <th>Fertilizer Name</th>\n    </tr>\n  </thead>\n  <tbody>\n    <tr>\n      <th>0</th>\n      <td>26</td>\n      <td>52</td>\n      <td>38</td>\n      <td>4</td>\n      <td>3</td>\n      <td>37</td>\n      <td>0</td>\n      <td>0</td>\n      <td>6</td>\n    </tr>\n    <tr>\n      <th>1</th>\n      <td>29</td>\n      <td>52</td>\n      <td>45</td>\n      <td>2</td>\n      <td>8</td>\n      <td>12</td>\n      <td>0</td>\n      <td>36</td>\n      <td>5</td>\n    </tr>\n    <tr>\n      <th>2</th>\n      <td>34</td>\n      <td>65</td>\n      <td>62</td>\n      <td>0</td>\n      <td>1</td>\n      <td>7</td>\n      <td>9</td>\n      <td>30</td>\n      <td>1</td>\n    </tr>\n    <tr>\n      <th>3</th>\n      <td>32</td>\n      <td>62</td>\n      <td>34</td>\n      <td>3</td>\n      <td>9</td>\n      <td>22</td>\n      <td>0</td>\n      <td>20</td>\n      <td>4</td>\n    </tr>\n    <tr>\n      <th>4</th>\n      <td>28</td>\n      <td>54</td>\n      <td>46</td>\n      <td>1</td>\n      <td>6</td>\n      <td>35</td>\n      <td>0</td>\n      <td>0</td>\n      <td>6</td>\n    </tr>\n    <tr>\n      <th>...</th>\n      <td>...</td>\n      <td>...</td>\n      <td>...</td>\n      <td>...</td>\n      <td>...</td>\n      <td>...</td>\n      <td>...</td>\n      <td>...</td>\n      <td>...</td>\n    </tr>\n    <tr>\n      <th>94</th>\n      <td>25</td>\n      <td>50</td>\n      <td>32</td>\n      <td>1</td>\n      <td>7</td>\n      <td>24</td>\n      <td>0</td>\n      <td>19</td>\n      <td>4</td>\n    </tr>\n    <tr>\n      <th>95</th>\n      <td>30</td>\n      <td>60</td>\n      <td>27</td>\n      <td>3</td>\n      <td>9</td>\n      <td>4</td>\n      <td>17</td>\n      <td>17</td>\n      <td>0</td>\n    </tr>\n    <tr>\n      <th>96</th>\n      <td>38</td>\n      <td>72</td>\n      <td>51</td>\n      <td>2</td>\n      <td>10</td>\n      <td>39</td>\n      <td>0</td>\n      <td>0</td>\n      <td>6</td>\n    </tr>\n    <tr>\n      <th>97</th>\n      <td>36</td>\n      <td>60</td>\n      <td>43</td>\n      <td>4</td>\n      <td>4</td>\n      <td>15</td>\n      <td>0</td>\n      <td>41</td>\n      <td>5</td>\n    </tr>\n    <tr>\n      <th>98</th>\n      <td>29</td>\n      <td>58</td>\n      <td>57</td>\n      <td>0</td>\n      <td>8</td>\n      <td>12</td>\n      <td>0</td>\n      <td>10</td>\n      <td>3</td>\n    </tr>\n  </tbody>\n</table>\n<p>99 rows × 9 columns</p>\n</div>"
     },
     "metadata": {},
     "execution_count": 100
    }
   ],
   "source": [
    "fertilizerRecommendation=fertilizerRecommendation.drop(columns=[\"Unnamed: 0\"])\n",
    "fertilizerRecommendation"
   ]
  },
  {
   "cell_type": "code",
   "execution_count": 101,
   "metadata": {},
   "outputs": [],
   "source": [
    "from sklearn.model_selection import train_test_split\n",
    "X=fertilizerRecommendation.drop(columns=[\"Fertilizer Name\"])\n",
    "y=fertilizerRecommendation[\"Fertilizer Name\"]"
   ]
  },
  {
   "cell_type": "code",
   "execution_count": 102,
   "metadata": {},
   "outputs": [
    {
     "output_type": "execute_result",
     "data": {
      "text/plain": [
       "array([[0.07692308, 0.09090909, 0.325     , 1.        , 0.3       ,\n",
       "        0.86842105, 0.        , 0.        ],\n",
       "       [0.30769231, 0.09090909, 0.5       , 0.5       , 0.8       ,\n",
       "        0.21052632, 0.        , 0.85714286],\n",
       "       [0.69230769, 0.68181818, 0.925     , 0.        , 0.1       ,\n",
       "        0.07894737, 0.47368421, 0.71428571],\n",
       "       [0.53846154, 0.54545455, 0.225     , 0.75      , 0.9       ,\n",
       "        0.47368421, 0.        , 0.47619048],\n",
       "       [0.23076923, 0.18181818, 0.525     , 0.25      , 0.6       ,\n",
       "        0.81578947, 0.        , 0.        ],\n",
       "       [0.07692308, 0.09090909, 0.25      , 1.        , 0.        ,\n",
       "        0.21052632, 0.52631579, 0.30952381],\n",
       "       [0.        , 0.        , 0.975     , 0.75      , 0.1       ,\n",
       "        0.13157895, 0.        , 0.23809524],\n",
       "       [0.61538462, 0.63636364, 0.625     , 0.5       , 1.        ,\n",
       "        0.97368421, 0.        , 0.        ],\n",
       "       [0.38461538, 0.45454545, 0.425     , 1.        , 0.4       ,\n",
       "        0.44736842, 0.        , 0.42857143],\n",
       "       [0.30769231, 0.36363636, 0.2       , 0.        , 0.5       ,\n",
       "        0.13157895, 0.36842105, 0.71428571],\n",
       "       [0.15384615, 0.18181818, 0.075     , 0.25      , 0.7       ,\n",
       "        0.23684211, 0.        , 0.95238095],\n",
       "       [0.46153846, 0.54545455, 0.575     , 1.        , 0.3       ,\n",
       "        0.26315789, 0.78947368, 0.28571429],\n",
       "       [0.        , 0.        , 1.        , 0.5       , 0.1       ,\n",
       "        0.84210526, 0.        , 0.        ],\n",
       "       [0.53846154, 0.54545455, 0.4       , 0.25      , 0.6       ,\n",
       "        0.52631579, 0.        , 0.52380952],\n",
       "       [0.07692308, 0.09090909, 0.15      , 0.75      , 0.2       ,\n",
       "        0.26315789, 0.        , 0.97619048],\n",
       "       [0.46153846, 0.54545455, 0.6       , 0.        , 0.8       ,\n",
       "        0.15789474, 0.68421053, 0.33333333],\n",
       "       [0.61538462, 0.63636364, 0.225     , 0.25      , 0.7       ,\n",
       "        0.89473684, 0.        , 0.        ],\n",
       "       [0.        , 0.        , 0.35      , 1.        , 0.        ,\n",
       "        0.44736842, 0.        , 0.45238095],\n",
       "       [0.23076923, 0.18181818, 1.        , 0.        , 0.1       ,\n",
       "        0.92105263, 0.        , 0.        ],\n",
       "       [0.30769231, 0.36363636, 0.675     , 0.5       , 1.        ,\n",
       "        0.23684211, 0.        , 0.85714286],\n",
       "       [0.38461538, 0.45454545, 0.475     , 1.        , 0.4       ,\n",
       "        0.15789474, 0.        , 0.21428571],\n",
       "       [0.69230769, 0.68181818, 0.7       , 0.5       , 0.8       ,\n",
       "        0.21052632, 0.73684211, 0.28571429],\n",
       "       [0.76923077, 0.81818182, 0.2       , 0.75      , 0.9       ,\n",
       "        0.18421053, 0.        , 0.88095238],\n",
       "       [0.23076923, 0.18181818, 0.3       , 0.        , 0.4       ,\n",
       "        0.84210526, 0.        , 0.        ],\n",
       "       [0.61538462, 0.63636364, 0.35      , 0.25      , 0.6       ,\n",
       "        0.23684211, 0.        , 0.23809524],\n",
       "       [0.07692308, 0.09090909, 0.475     , 1.        , 0.3       ,\n",
       "        0.5       , 0.        , 0.47619048],\n",
       "       [0.38461538, 0.45454545, 0.95      , 0.75      , 0.1       ,\n",
       "        0.13157895, 0.47368421, 0.69047619],\n",
       "       [0.53846154, 0.54545455, 0.125     , 0.5       , 0.8       ,\n",
       "        0.89473684, 0.        , 0.        ],\n",
       "       [0.92307692, 0.90909091, 0.175     , 0.        , 0.5       ,\n",
       "        0.21052632, 0.        , 0.92857143],\n",
       "       [0.07692308, 0.09090909, 0.275     , 0.25      , 0.7       ,\n",
       "        0.26315789, 0.        , 0.30952381],\n",
       "       [0.30769231, 0.36363636, 0.375     , 0.75      , 0.2       ,\n",
       "        0.52631579, 0.        , 0.54761905],\n",
       "       [0.38461538, 0.45454545, 0.05      , 0.5       , 0.8       ,\n",
       "        0.21052632, 0.        , 0.95238095],\n",
       "       [0.69230769, 0.68181818, 0.325     , 0.25      , 0.6       ,\n",
       "        0.92105263, 0.        , 0.        ],\n",
       "       [0.84615385, 0.81818182, 0.325     , 1.        , 0.        ,\n",
       "        0.07894737, 0.47368421, 0.71428571],\n",
       "       [0.07692308, 0.09090909, 0.575     , 0.5       , 1.        ,\n",
       "        0.5       , 0.        , 0.45238095],\n",
       "       [0.23076923, 0.18181818, 0.25      , 0.        , 0.4       ,\n",
       "        0.97368421, 0.        , 0.        ],\n",
       "       [0.38461538, 0.45454545, 0.9       , 0.5       , 0.1       ,\n",
       "        0.10526316, 0.52631579, 0.73809524],\n",
       "       [0.92307692, 0.90909091, 0.3       , 0.25      , 0.6       ,\n",
       "        0.21052632, 0.        , 0.97619048],\n",
       "       [0.        , 0.        , 0.025     , 0.75      , 0.2       ,\n",
       "        0.28947368, 0.73684211, 0.26190476],\n",
       "       [0.30769231, 0.36363636, 0.225     , 1.        , 0.4       ,\n",
       "        0.28947368, 0.        , 0.88095238],\n",
       "       [0.15384615, 0.18181818, 0.125     , 0.25      , 0.7       ,\n",
       "        0.23684211, 0.        , 0.30952381],\n",
       "       [0.38461538, 0.45454545, 0.825     , 0.5       , 0.8       ,\n",
       "        0.15789474, 0.36842105, 0.76190476],\n",
       "       [0.53846154, 0.54545455, 0.225     , 0.75      , 0.9       ,\n",
       "        0.47368421, 0.        , 0.57142857],\n",
       "       [0.69230769, 0.68181818, 0.875     , 0.        , 0.8       ,\n",
       "        0.81578947, 0.        , 0.        ],\n",
       "       [0.76923077, 0.77272727, 0.425     , 1.        , 0.        ,\n",
       "        0.15789474, 0.        , 0.83333333],\n",
       "       [1.        , 0.90909091, 0.575     , 0.5       , 1.        ,\n",
       "        0.10526316, 0.42105263, 0.66666667],\n",
       "       [0.07692308, 0.09090909, 0.175     , 0.        , 0.5       ,\n",
       "        0.21052632, 0.        , 0.19047619],\n",
       "       [0.30769231, 0.36363636, 0.45      , 0.25      , 0.6       ,\n",
       "        0.52631579, 0.        , 0.42857143],\n",
       "       [0.38461538, 0.45454545, 0.1       , 0.75      , 0.2       ,\n",
       "        0.97368421, 0.        , 0.        ],\n",
       "       [0.61538462, 0.63636364, 0.65      , 1.        , 0.3       ,\n",
       "        0.02631579, 0.47368421, 0.69047619],\n",
       "       [0.69230769, 0.68181818, 0.15      , 0.75      , 0.9       ,\n",
       "        0.5       , 0.        , 0.5       ],\n",
       "       [0.84615385, 0.81818182, 0.2       , 0.        , 0.5       ,\n",
       "        0.23684211, 0.        , 0.33333333],\n",
       "       [0.23076923, 0.18181818, 0.325     , 0.25      , 0.7       ,\n",
       "        0.94736842, 0.        , 0.        ],\n",
       "       [0.38461538, 0.45454545, 0.55      , 1.        , 0.        ,\n",
       "        0.21052632, 0.        , 1.        ],\n",
       "       [0.46153846, 0.54545455, 0.95      , 0.75      , 0.1       ,\n",
       "        0.18421053, 0.63157895, 0.35714286],\n",
       "       [0.15384615, 0.13636364, 0.45      , 0.        , 0.4       ,\n",
       "        0.5       , 0.        , 0.57142857],\n",
       "       [0.69230769, 0.68181818, 0.725     , 0.5       , 1.        ,\n",
       "        0.89473684, 0.        , 0.        ],\n",
       "       [0.30769231, 0.36363636, 0.3       , 1.        , 0.4       ,\n",
       "        0.10526316, 0.        , 0.35714286],\n",
       "       [0.        , 0.        , 0.775     , 0.5       , 0.8       ,\n",
       "        0.18421053, 0.68421053, 0.35714286],\n",
       "       [0.53846154, 0.54545455, 0.225     , 0.75      , 0.2       ,\n",
       "        0.28947368, 0.        , 0.88095238],\n",
       "       [0.23076923, 0.18181818, 0.4       , 0.25      , 0.6       ,\n",
       "        0.84210526, 0.        , 0.        ],\n",
       "       [0.38461538, 0.45454545, 0.6       , 0.5       , 1.        ,\n",
       "        0.23684211, 0.        , 0.21428571],\n",
       "       [0.69230769, 0.68181818, 0.975     , 0.        , 0.1       ,\n",
       "        0.52631579, 0.        , 0.47619048],\n",
       "       [0.23076923, 0.18181818, 0.55      , 1.        , 0.        ,\n",
       "        0.02631579, 0.94736842, 0.35714286],\n",
       "       [0.15384615, 0.13636364, 0.25      , 0.        , 0.5       ,\n",
       "        0.86842105, 0.        , 0.        ],\n",
       "       [0.84615385, 0.81818182, 0.925     , 0.75      , 0.1       ,\n",
       "        0.28947368, 0.        , 0.95238095],\n",
       "       [0.69230769, 0.68181818, 0.8       , 0.        , 0.8       ,\n",
       "        0.13157895, 0.        , 0.30952381],\n",
       "       [0.30769231, 0.36363636, 0.75      , 0.5       , 0.8       ,\n",
       "        0.10526316, 0.42105263, 0.78571429],\n",
       "       [0.        , 0.        , 0.375     , 0.25      , 0.7       ,\n",
       "        0.05263158, 1.        , 0.38095238],\n",
       "       [0.38461538, 0.45454545, 0.325     , 1.        , 0.4       ,\n",
       "        0.15789474, 0.        , 0.33333333],\n",
       "       [0.07692308, 0.09090909, 0.35      , 0.25      , 0.7       ,\n",
       "        0.44736842, 0.        , 0.54761905],\n",
       "       [0.46153846, 0.54545455, 0.175     , 0.75      , 0.9       ,\n",
       "        0.92105263, 0.        , 0.        ],\n",
       "       [0.69230769, 0.68181818, 0.575     , 0.5       , 1.        ,\n",
       "        0.5       , 0.        , 0.45238095],\n",
       "       [0.15384615, 0.13636364, 0.225     , 0.        , 0.5       ,\n",
       "        1.        , 0.        , 0.        ],\n",
       "       [0.61538462, 0.63636364, 0.15      , 0.75      , 0.2       ,\n",
       "        0.23684211, 0.        , 0.92857143],\n",
       "       [0.30769231, 0.36363636, 0.425     , 0.25      , 0.6       ,\n",
       "        0.13157895, 0.52631579, 0.52380952],\n",
       "       [0.38461538, 0.45454545, 0.55      , 1.        , 0.3       ,\n",
       "        0.47368421, 0.        , 0.5       ],\n",
       "       [0.15384615, 0.13636364, 0.85      , 0.5       , 0.8       ,\n",
       "        0.15789474, 0.        , 0.35714286],\n",
       "       [0.07692308, 0.09090909, 0.275     , 0.25      , 0.7       ,\n",
       "        0.07894737, 0.84210526, 0.47619048],\n",
       "       [0.69230769, 0.68181818, 0.95      , 0.75      , 0.1       ,\n",
       "        0.26315789, 0.        , 0.9047619 ],\n",
       "       [0.23076923, 0.18181818, 0.45      , 0.25      , 0.6       ,\n",
       "        0.15789474, 0.42105263, 0.69047619],\n",
       "       [0.38461538, 0.45454545, 0.375     , 1.        , 0.4       ,\n",
       "        0.97368421, 0.        , 0.        ],\n",
       "       [0.30769231, 0.36363636, 1.        , 0.        , 0.1       ,\n",
       "        0.26315789, 0.        , 0.83333333],\n",
       "       [0.07692308, 0.09090909, 0.85      , 0.5       , 0.8       ,\n",
       "        0.18421053, 0.        , 0.21428571],\n",
       "       [0.46153846, 0.54545455, 0.475     , 1.        , 0.        ,\n",
       "        0.44736842, 0.        , 0.66666667],\n",
       "       [0.76923077, 0.77272727, 0.075     , 0.25      , 0.7       ,\n",
       "        0.10526316, 0.36842105, 0.73809524],\n",
       "       [0.30769231, 0.36363636, 0.125     , 0.75      , 0.9       ,\n",
       "        0.23684211, 0.89473684, 0.38095238],\n",
       "       [0.15384615, 0.13636364, 0.125     , 0.        , 0.4       ,\n",
       "        0.81578947, 0.        , 0.        ],\n",
       "       [0.84615385, 0.81818182, 0.625     , 0.5       , 1.        ,\n",
       "        0.21052632, 0.94736842, 0.45238095],\n",
       "       [0.30769231, 0.36363636, 0.9       , 0.5       , 0.1       ,\n",
       "        0.18421053, 0.        , 0.9047619 ],\n",
       "       [0.38461538, 0.45454545, 0.025     , 0.        , 0.5       ,\n",
       "        0.10526316, 0.47368421, 0.71428571],\n",
       "       [0.69230769, 0.68181818, 0.5       , 0.25      , 0.6       ,\n",
       "        0.05263158, 1.        , 0.5       ],\n",
       "       [0.84615385, 0.81818182, 0.4       , 0.75      , 0.2       ,\n",
       "        0.97368421, 0.        , 0.        ],\n",
       "       [0.23076923, 0.18181818, 0.        , 1.        , 0.3       ,\n",
       "        0.13157895, 0.52631579, 0.71428571],\n",
       "       [0.        , 0.        , 0.175     , 0.25      , 0.7       ,\n",
       "        0.52631579, 0.        , 0.45238095],\n",
       "       [0.38461538, 0.45454545, 0.05      , 0.75      , 0.9       ,\n",
       "        0.        , 0.89473684, 0.4047619 ],\n",
       "       [1.        , 1.        , 0.65      , 0.5       , 1.        ,\n",
       "        0.92105263, 0.        , 0.        ],\n",
       "       [0.84615385, 0.45454545, 0.45      , 1.        , 0.4       ,\n",
       "        0.28947368, 0.        , 0.97619048],\n",
       "       [0.30769231, 0.36363636, 0.8       , 0.        , 0.8       ,\n",
       "        0.21052632, 0.        , 0.23809524]])"
      ]
     },
     "metadata": {},
     "execution_count": 102
    }
   ],
   "source": [
    "from sklearn.preprocessing import MinMaxScaler\n",
    "scaler=MinMaxScaler()\n",
    "X=scaler.fit_transform(X)\n",
    "X"
   ]
  },
  {
   "cell_type": "code",
   "execution_count": 103,
   "metadata": {},
   "outputs": [
    {
     "output_type": "execute_result",
     "data": {
      "text/plain": [
       "0     6\n",
       "1     5\n",
       "2     1\n",
       "3     4\n",
       "4     6\n",
       "     ..\n",
       "94    4\n",
       "95    0\n",
       "96    6\n",
       "97    5\n",
       "98    3\n",
       "Name: Fertilizer Name, Length: 99, dtype: int64"
      ]
     },
     "metadata": {},
     "execution_count": 103
    }
   ],
   "source": [
    "y"
   ]
  },
  {
   "cell_type": "code",
   "execution_count": 104,
   "metadata": {},
   "outputs": [],
   "source": [
    "X_Train,X_Test,y_Train,y_Test=train_test_split(X,y,test_size=0.1,random_state=2)"
   ]
  },
  {
   "cell_type": "code",
   "execution_count": 105,
   "metadata": {},
   "outputs": [
    {
     "output_type": "execute_result",
     "data": {
      "text/plain": [
       "3"
      ]
     },
     "metadata": {},
     "execution_count": 105
    }
   ],
   "source": [
    "from sklearn.neighbors import KNeighborsClassifier\n",
    "import math\n",
    "neighbors=int(math.sqrt(len(y_Test)))\n",
    "if(neighbors%2==0):neighbors-=1\n",
    "neighbors"
   ]
  },
  {
   "cell_type": "code",
   "execution_count": 106,
   "metadata": {},
   "outputs": [],
   "source": [
    "model=KNeighborsClassifier(n_neighbors=neighbors,p=2,metric=\"euclidean\")"
   ]
  },
  {
   "cell_type": "code",
   "execution_count": 107,
   "metadata": {},
   "outputs": [
    {
     "output_type": "execute_result",
     "data": {
      "text/plain": [
       "KNeighborsClassifier(metric='euclidean', n_neighbors=3)"
      ]
     },
     "metadata": {},
     "execution_count": 107
    }
   ],
   "source": [
    "model.fit(X_Train,y_Train)"
   ]
  },
  {
   "cell_type": "code",
   "execution_count": 108,
   "metadata": {},
   "outputs": [
    {
     "output_type": "execute_result",
     "data": {
      "text/plain": [
       "array([2, 4, 6, 3, 6, 6, 1, 6, 1, 4], dtype=int64)"
      ]
     },
     "metadata": {},
     "execution_count": 108
    }
   ],
   "source": [
    "predict_val=model.predict(X_Test)\n",
    "predict_val"
   ]
  },
  {
   "cell_type": "code",
   "execution_count": 109,
   "metadata": {},
   "outputs": [
    {
     "output_type": "execute_result",
     "data": {
      "text/plain": [
       "93    1\n",
       "30    4\n",
       "56    6\n",
       "24    3\n",
       "16    6\n",
       "23    6\n",
       "2     1\n",
       "27    6\n",
       "28    5\n",
       "13    4\n",
       "Name: Fertilizer Name, dtype: int64"
      ]
     },
     "metadata": {},
     "execution_count": 109
    }
   ],
   "source": [
    "y_Test"
   ]
  },
  {
   "cell_type": "code",
   "execution_count": 110,
   "metadata": {},
   "outputs": [
    {
     "output_type": "execute_result",
     "data": {
      "text/plain": [
       "0.8"
      ]
     },
     "metadata": {},
     "execution_count": 110
    }
   ],
   "source": [
    "from sklearn.metrics import accuracy_score,classification_report\n",
    "accuracy_score(predict_val,y_Test)"
   ]
  },
  {
   "cell_type": "code",
   "execution_count": 111,
   "metadata": {},
   "outputs": [
    {
     "output_type": "stream",
     "name": "stdout",
     "text": [
      "              precision    recall  f1-score   support\n\n           1       0.50      0.50      0.50         2\n           2       0.00      0.00      0.00         1\n           3       1.00      1.00      1.00         1\n           4       1.00      1.00      1.00         2\n           5       0.00      0.00      0.00         0\n           6       1.00      1.00      1.00         4\n\n    accuracy                           0.80        10\n   macro avg       0.58      0.58      0.58        10\nweighted avg       0.80      0.80      0.80        10\n\n"
     ]
    }
   ],
   "source": [
    "print(classification_report(predict_val,y_Test))"
   ]
  }
 ]
}