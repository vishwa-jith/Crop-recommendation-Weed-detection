{
 "metadata": {
  "language_info": {
   "codemirror_mode": {
    "name": "ipython",
    "version": 3
   },
   "file_extension": ".py",
   "mimetype": "text/x-python",
   "name": "python",
   "nbconvert_exporter": "python",
   "pygments_lexer": "ipython3",
   "version": "3.8.5-final"
  },
  "orig_nbformat": 2,
  "kernelspec": {
   "name": "python3",
   "display_name": "Python 3",
   "language": "python"
  }
 },
 "nbformat": 4,
 "nbformat_minor": 2,
 "cells": [
  {
   "cell_type": "code",
   "execution_count": 5,
   "metadata": {},
   "outputs": [],
   "source": [
    "import pandas as pd\n",
    "import numpy as np"
   ]
  },
  {
   "cell_type": "code",
   "execution_count": 7,
   "metadata": {},
   "outputs": [
    {
     "output_type": "execute_result",
     "data": {
      "text/plain": [
       "    Unnamed: 0  Temparature  Humidity   Moisture  Soil Type  Crop Type  \\\n",
       "0            0           26         52        38          4          3   \n",
       "1            1           29         52        45          2          8   \n",
       "2            2           34         65        62          0          1   \n",
       "3            3           32         62        34          3          9   \n",
       "4            4           28         54        46          1          6   \n",
       "..         ...          ...        ...       ...        ...        ...   \n",
       "94          94           25         50        32          1          7   \n",
       "95          95           30         60        27          3          9   \n",
       "96          96           38         72        51          2         10   \n",
       "97          97           36         60        43          4          4   \n",
       "98          98           29         58        57          0          8   \n",
       "\n",
       "    Nitrogen  Potassium  Phosphorous  Fertilizer Name  \n",
       "0         37          0            0                6  \n",
       "1         12          0           36                5  \n",
       "2          7          9           30                1  \n",
       "3         22          0           20                4  \n",
       "4         35          0            0                6  \n",
       "..       ...        ...          ...              ...  \n",
       "94        24          0           19                4  \n",
       "95         4         17           17                0  \n",
       "96        39          0            0                6  \n",
       "97        15          0           41                5  \n",
       "98        12          0           10                3  \n",
       "\n",
       "[99 rows x 10 columns]"
      ],
      "text/html": "<div>\n<style scoped>\n    .dataframe tbody tr th:only-of-type {\n        vertical-align: middle;\n    }\n\n    .dataframe tbody tr th {\n        vertical-align: top;\n    }\n\n    .dataframe thead th {\n        text-align: right;\n    }\n</style>\n<table border=\"1\" class=\"dataframe\">\n  <thead>\n    <tr style=\"text-align: right;\">\n      <th></th>\n      <th>Unnamed: 0</th>\n      <th>Temparature</th>\n      <th>Humidity</th>\n      <th>Moisture</th>\n      <th>Soil Type</th>\n      <th>Crop Type</th>\n      <th>Nitrogen</th>\n      <th>Potassium</th>\n      <th>Phosphorous</th>\n      <th>Fertilizer Name</th>\n    </tr>\n  </thead>\n  <tbody>\n    <tr>\n      <th>0</th>\n      <td>0</td>\n      <td>26</td>\n      <td>52</td>\n      <td>38</td>\n      <td>4</td>\n      <td>3</td>\n      <td>37</td>\n      <td>0</td>\n      <td>0</td>\n      <td>6</td>\n    </tr>\n    <tr>\n      <th>1</th>\n      <td>1</td>\n      <td>29</td>\n      <td>52</td>\n      <td>45</td>\n      <td>2</td>\n      <td>8</td>\n      <td>12</td>\n      <td>0</td>\n      <td>36</td>\n      <td>5</td>\n    </tr>\n    <tr>\n      <th>2</th>\n      <td>2</td>\n      <td>34</td>\n      <td>65</td>\n      <td>62</td>\n      <td>0</td>\n      <td>1</td>\n      <td>7</td>\n      <td>9</td>\n      <td>30</td>\n      <td>1</td>\n    </tr>\n    <tr>\n      <th>3</th>\n      <td>3</td>\n      <td>32</td>\n      <td>62</td>\n      <td>34</td>\n      <td>3</td>\n      <td>9</td>\n      <td>22</td>\n      <td>0</td>\n      <td>20</td>\n      <td>4</td>\n    </tr>\n    <tr>\n      <th>4</th>\n      <td>4</td>\n      <td>28</td>\n      <td>54</td>\n      <td>46</td>\n      <td>1</td>\n      <td>6</td>\n      <td>35</td>\n      <td>0</td>\n      <td>0</td>\n      <td>6</td>\n    </tr>\n    <tr>\n      <th>...</th>\n      <td>...</td>\n      <td>...</td>\n      <td>...</td>\n      <td>...</td>\n      <td>...</td>\n      <td>...</td>\n      <td>...</td>\n      <td>...</td>\n      <td>...</td>\n      <td>...</td>\n    </tr>\n    <tr>\n      <th>94</th>\n      <td>94</td>\n      <td>25</td>\n      <td>50</td>\n      <td>32</td>\n      <td>1</td>\n      <td>7</td>\n      <td>24</td>\n      <td>0</td>\n      <td>19</td>\n      <td>4</td>\n    </tr>\n    <tr>\n      <th>95</th>\n      <td>95</td>\n      <td>30</td>\n      <td>60</td>\n      <td>27</td>\n      <td>3</td>\n      <td>9</td>\n      <td>4</td>\n      <td>17</td>\n      <td>17</td>\n      <td>0</td>\n    </tr>\n    <tr>\n      <th>96</th>\n      <td>96</td>\n      <td>38</td>\n      <td>72</td>\n      <td>51</td>\n      <td>2</td>\n      <td>10</td>\n      <td>39</td>\n      <td>0</td>\n      <td>0</td>\n      <td>6</td>\n    </tr>\n    <tr>\n      <th>97</th>\n      <td>97</td>\n      <td>36</td>\n      <td>60</td>\n      <td>43</td>\n      <td>4</td>\n      <td>4</td>\n      <td>15</td>\n      <td>0</td>\n      <td>41</td>\n      <td>5</td>\n    </tr>\n    <tr>\n      <th>98</th>\n      <td>98</td>\n      <td>29</td>\n      <td>58</td>\n      <td>57</td>\n      <td>0</td>\n      <td>8</td>\n      <td>12</td>\n      <td>0</td>\n      <td>10</td>\n      <td>3</td>\n    </tr>\n  </tbody>\n</table>\n<p>99 rows × 10 columns</p>\n</div>"
     },
     "metadata": {},
     "execution_count": 7
    }
   ],
   "source": [
    "fertilizerRecommendation=pd.read_csv(\"../../../../../preprocessedData/FertilizerPrediction.csv\")\n",
    "fertilizerRecommendation"
   ]
  },
  {
   "cell_type": "code",
   "execution_count": 9,
   "metadata": {},
   "outputs": [
    {
     "output_type": "execute_result",
     "data": {
      "text/plain": [
       "    Temparature  Humidity   Moisture  Soil Type  Crop Type  Nitrogen  \\\n",
       "0            26         52        38          4          3        37   \n",
       "1            29         52        45          2          8        12   \n",
       "2            34         65        62          0          1         7   \n",
       "3            32         62        34          3          9        22   \n",
       "4            28         54        46          1          6        35   \n",
       "..          ...        ...       ...        ...        ...       ...   \n",
       "94           25         50        32          1          7        24   \n",
       "95           30         60        27          3          9         4   \n",
       "96           38         72        51          2         10        39   \n",
       "97           36         60        43          4          4        15   \n",
       "98           29         58        57          0          8        12   \n",
       "\n",
       "    Potassium  Phosphorous  Fertilizer Name  \n",
       "0           0            0                6  \n",
       "1           0           36                5  \n",
       "2           9           30                1  \n",
       "3           0           20                4  \n",
       "4           0            0                6  \n",
       "..        ...          ...              ...  \n",
       "94          0           19                4  \n",
       "95         17           17                0  \n",
       "96          0            0                6  \n",
       "97          0           41                5  \n",
       "98          0           10                3  \n",
       "\n",
       "[99 rows x 9 columns]"
      ],
      "text/html": "<div>\n<style scoped>\n    .dataframe tbody tr th:only-of-type {\n        vertical-align: middle;\n    }\n\n    .dataframe tbody tr th {\n        vertical-align: top;\n    }\n\n    .dataframe thead th {\n        text-align: right;\n    }\n</style>\n<table border=\"1\" class=\"dataframe\">\n  <thead>\n    <tr style=\"text-align: right;\">\n      <th></th>\n      <th>Temparature</th>\n      <th>Humidity</th>\n      <th>Moisture</th>\n      <th>Soil Type</th>\n      <th>Crop Type</th>\n      <th>Nitrogen</th>\n      <th>Potassium</th>\n      <th>Phosphorous</th>\n      <th>Fertilizer Name</th>\n    </tr>\n  </thead>\n  <tbody>\n    <tr>\n      <th>0</th>\n      <td>26</td>\n      <td>52</td>\n      <td>38</td>\n      <td>4</td>\n      <td>3</td>\n      <td>37</td>\n      <td>0</td>\n      <td>0</td>\n      <td>6</td>\n    </tr>\n    <tr>\n      <th>1</th>\n      <td>29</td>\n      <td>52</td>\n      <td>45</td>\n      <td>2</td>\n      <td>8</td>\n      <td>12</td>\n      <td>0</td>\n      <td>36</td>\n      <td>5</td>\n    </tr>\n    <tr>\n      <th>2</th>\n      <td>34</td>\n      <td>65</td>\n      <td>62</td>\n      <td>0</td>\n      <td>1</td>\n      <td>7</td>\n      <td>9</td>\n      <td>30</td>\n      <td>1</td>\n    </tr>\n    <tr>\n      <th>3</th>\n      <td>32</td>\n      <td>62</td>\n      <td>34</td>\n      <td>3</td>\n      <td>9</td>\n      <td>22</td>\n      <td>0</td>\n      <td>20</td>\n      <td>4</td>\n    </tr>\n    <tr>\n      <th>4</th>\n      <td>28</td>\n      <td>54</td>\n      <td>46</td>\n      <td>1</td>\n      <td>6</td>\n      <td>35</td>\n      <td>0</td>\n      <td>0</td>\n      <td>6</td>\n    </tr>\n    <tr>\n      <th>...</th>\n      <td>...</td>\n      <td>...</td>\n      <td>...</td>\n      <td>...</td>\n      <td>...</td>\n      <td>...</td>\n      <td>...</td>\n      <td>...</td>\n      <td>...</td>\n    </tr>\n    <tr>\n      <th>94</th>\n      <td>25</td>\n      <td>50</td>\n      <td>32</td>\n      <td>1</td>\n      <td>7</td>\n      <td>24</td>\n      <td>0</td>\n      <td>19</td>\n      <td>4</td>\n    </tr>\n    <tr>\n      <th>95</th>\n      <td>30</td>\n      <td>60</td>\n      <td>27</td>\n      <td>3</td>\n      <td>9</td>\n      <td>4</td>\n      <td>17</td>\n      <td>17</td>\n      <td>0</td>\n    </tr>\n    <tr>\n      <th>96</th>\n      <td>38</td>\n      <td>72</td>\n      <td>51</td>\n      <td>2</td>\n      <td>10</td>\n      <td>39</td>\n      <td>0</td>\n      <td>0</td>\n      <td>6</td>\n    </tr>\n    <tr>\n      <th>97</th>\n      <td>36</td>\n      <td>60</td>\n      <td>43</td>\n      <td>4</td>\n      <td>4</td>\n      <td>15</td>\n      <td>0</td>\n      <td>41</td>\n      <td>5</td>\n    </tr>\n    <tr>\n      <th>98</th>\n      <td>29</td>\n      <td>58</td>\n      <td>57</td>\n      <td>0</td>\n      <td>8</td>\n      <td>12</td>\n      <td>0</td>\n      <td>10</td>\n      <td>3</td>\n    </tr>\n  </tbody>\n</table>\n<p>99 rows × 9 columns</p>\n</div>"
     },
     "metadata": {},
     "execution_count": 9
    }
   ],
   "source": [
    "fertilizerRecommendation=fertilizerRecommendation.drop(columns=[\"Unnamed: 0\"])\n",
    "fertilizerRecommendation"
   ]
  },
  {
   "cell_type": "code",
   "execution_count": 11,
   "metadata": {},
   "outputs": [],
   "source": [
    "from sklearn.model_selection import train_test_split\n",
    "X=fertilizerRecommendation.drop(columns=[\"Fertilizer Name\"])\n",
    "y=fertilizerRecommendation[\"Fertilizer Name\"]"
   ]
  },
  {
   "cell_type": "code",
   "execution_count": 13,
   "metadata": {},
   "outputs": [
    {
     "output_type": "execute_result",
     "data": {
      "text/plain": [
       "    Temparature  Humidity   Moisture  Soil Type  Crop Type  Nitrogen  \\\n",
       "0            26         52        38          4          3        37   \n",
       "1            29         52        45          2          8        12   \n",
       "2            34         65        62          0          1         7   \n",
       "3            32         62        34          3          9        22   \n",
       "4            28         54        46          1          6        35   \n",
       "..          ...        ...       ...        ...        ...       ...   \n",
       "94           25         50        32          1          7        24   \n",
       "95           30         60        27          3          9         4   \n",
       "96           38         72        51          2         10        39   \n",
       "97           36         60        43          4          4        15   \n",
       "98           29         58        57          0          8        12   \n",
       "\n",
       "    Potassium  Phosphorous  \n",
       "0           0            0  \n",
       "1           0           36  \n",
       "2           9           30  \n",
       "3           0           20  \n",
       "4           0            0  \n",
       "..        ...          ...  \n",
       "94          0           19  \n",
       "95         17           17  \n",
       "96          0            0  \n",
       "97          0           41  \n",
       "98          0           10  \n",
       "\n",
       "[99 rows x 8 columns]"
      ],
      "text/html": "<div>\n<style scoped>\n    .dataframe tbody tr th:only-of-type {\n        vertical-align: middle;\n    }\n\n    .dataframe tbody tr th {\n        vertical-align: top;\n    }\n\n    .dataframe thead th {\n        text-align: right;\n    }\n</style>\n<table border=\"1\" class=\"dataframe\">\n  <thead>\n    <tr style=\"text-align: right;\">\n      <th></th>\n      <th>Temparature</th>\n      <th>Humidity</th>\n      <th>Moisture</th>\n      <th>Soil Type</th>\n      <th>Crop Type</th>\n      <th>Nitrogen</th>\n      <th>Potassium</th>\n      <th>Phosphorous</th>\n    </tr>\n  </thead>\n  <tbody>\n    <tr>\n      <th>0</th>\n      <td>26</td>\n      <td>52</td>\n      <td>38</td>\n      <td>4</td>\n      <td>3</td>\n      <td>37</td>\n      <td>0</td>\n      <td>0</td>\n    </tr>\n    <tr>\n      <th>1</th>\n      <td>29</td>\n      <td>52</td>\n      <td>45</td>\n      <td>2</td>\n      <td>8</td>\n      <td>12</td>\n      <td>0</td>\n      <td>36</td>\n    </tr>\n    <tr>\n      <th>2</th>\n      <td>34</td>\n      <td>65</td>\n      <td>62</td>\n      <td>0</td>\n      <td>1</td>\n      <td>7</td>\n      <td>9</td>\n      <td>30</td>\n    </tr>\n    <tr>\n      <th>3</th>\n      <td>32</td>\n      <td>62</td>\n      <td>34</td>\n      <td>3</td>\n      <td>9</td>\n      <td>22</td>\n      <td>0</td>\n      <td>20</td>\n    </tr>\n    <tr>\n      <th>4</th>\n      <td>28</td>\n      <td>54</td>\n      <td>46</td>\n      <td>1</td>\n      <td>6</td>\n      <td>35</td>\n      <td>0</td>\n      <td>0</td>\n    </tr>\n    <tr>\n      <th>...</th>\n      <td>...</td>\n      <td>...</td>\n      <td>...</td>\n      <td>...</td>\n      <td>...</td>\n      <td>...</td>\n      <td>...</td>\n      <td>...</td>\n    </tr>\n    <tr>\n      <th>94</th>\n      <td>25</td>\n      <td>50</td>\n      <td>32</td>\n      <td>1</td>\n      <td>7</td>\n      <td>24</td>\n      <td>0</td>\n      <td>19</td>\n    </tr>\n    <tr>\n      <th>95</th>\n      <td>30</td>\n      <td>60</td>\n      <td>27</td>\n      <td>3</td>\n      <td>9</td>\n      <td>4</td>\n      <td>17</td>\n      <td>17</td>\n    </tr>\n    <tr>\n      <th>96</th>\n      <td>38</td>\n      <td>72</td>\n      <td>51</td>\n      <td>2</td>\n      <td>10</td>\n      <td>39</td>\n      <td>0</td>\n      <td>0</td>\n    </tr>\n    <tr>\n      <th>97</th>\n      <td>36</td>\n      <td>60</td>\n      <td>43</td>\n      <td>4</td>\n      <td>4</td>\n      <td>15</td>\n      <td>0</td>\n      <td>41</td>\n    </tr>\n    <tr>\n      <th>98</th>\n      <td>29</td>\n      <td>58</td>\n      <td>57</td>\n      <td>0</td>\n      <td>8</td>\n      <td>12</td>\n      <td>0</td>\n      <td>10</td>\n    </tr>\n  </tbody>\n</table>\n<p>99 rows × 8 columns</p>\n</div>"
     },
     "metadata": {},
     "execution_count": 13
    }
   ],
   "source": [
    "X"
   ]
  },
  {
   "cell_type": "code",
   "execution_count": 15,
   "metadata": {},
   "outputs": [
    {
     "output_type": "execute_result",
     "data": {
      "text/plain": [
       "0     6\n",
       "1     5\n",
       "2     1\n",
       "3     4\n",
       "4     6\n",
       "     ..\n",
       "94    4\n",
       "95    0\n",
       "96    6\n",
       "97    5\n",
       "98    3\n",
       "Name: Fertilizer Name, Length: 99, dtype: int64"
      ]
     },
     "metadata": {},
     "execution_count": 15
    }
   ],
   "source": [
    "y"
   ]
  },
  {
   "cell_type": "code",
   "execution_count": 17,
   "metadata": {},
   "outputs": [],
   "source": [
    "X_Train,X_Test,y_Train,y_Test=train_test_split(X,y,test_size=0.4,random_state=2)"
   ]
  },
  {
   "cell_type": "code",
   "execution_count": 19,
   "metadata": {},
   "outputs": [],
   "source": [
    "from sklearn.tree import DecisionTreeClassifier\n",
    "from sklearn.metrics import accuracy_score"
   ]
  },
  {
   "cell_type": "code",
   "execution_count": 21,
   "metadata": {},
   "outputs": [],
   "source": [
    "model=DecisionTreeClassifier(criterion=\"entropy\")\n",
    "model.fit(X_Train,y_Train)\n",
    "predicted_val=model.predict(X_Test)"
   ]
  },
  {
   "cell_type": "code",
   "execution_count": 23,
   "metadata": {},
   "outputs": [
    {
     "output_type": "execute_result",
     "data": {
      "text/plain": [
       "array([1, 4, 6, 3, 6, 6, 1, 6, 5, 4, 3, 1, 1, 5, 6, 2, 4, 3, 3, 1, 6, 2,\n",
       "       3, 5, 6, 2, 4, 4, 6, 4, 5, 5, 6, 6, 1, 3, 3, 5, 1, 5], dtype=int64)"
      ]
     },
     "metadata": {},
     "execution_count": 23
    }
   ],
   "source": [
    "predicted_val"
   ]
  },
  {
   "cell_type": "code",
   "execution_count": 24,
   "metadata": {},
   "outputs": [
    {
     "output_type": "execute_result",
     "data": {
      "text/plain": [
       "93    1\n",
       "30    4\n",
       "56    6\n",
       "24    3\n",
       "16    6\n",
       "23    6\n",
       "2     1\n",
       "27    6\n",
       "28    5\n",
       "13    4\n",
       "98    3\n",
       "91    0\n",
       "88    0\n",
       "14    5\n",
       "0     6\n",
       "21    2\n",
       "3     4\n",
       "29    3\n",
       "61    3\n",
       "78    0\n",
       "35    6\n",
       "11    2\n",
       "83    3\n",
       "44    5\n",
       "96    6\n",
       "5     2\n",
       "25    4\n",
       "76    4\n",
       "73    6\n",
       "62    4\n",
       "65    5\n",
       "1     5\n",
       "18    6\n",
       "48    6\n",
       "36    1\n",
       "77    3\n",
       "6     3\n",
       "74    5\n",
       "90    1\n",
       "10    5\n",
       "Name: Fertilizer Name, dtype: int64"
      ]
     },
     "metadata": {},
     "execution_count": 24
    }
   ],
   "source": [
    "y_Test"
   ]
  },
  {
   "cell_type": "code",
   "execution_count": 25,
   "metadata": {},
   "outputs": [
    {
     "output_type": "execute_result",
     "data": {
      "text/plain": [
       "0.925"
      ]
     },
     "metadata": {},
     "execution_count": 25
    }
   ],
   "source": [
    "accuracy_score(predicted_val,y_Test)"
   ]
  },
  {
   "cell_type": "code",
   "execution_count": 26,
   "metadata": {},
   "outputs": [
    {
     "output_type": "stream",
     "name": "stdout",
     "text": [
      "              precision    recall  f1-score   support\n\n           0       0.00      0.00      0.00         3\n           1       0.57      1.00      0.73         4\n           2       1.00      1.00      1.00         3\n           3       1.00      1.00      1.00         7\n           4       1.00      1.00      1.00         6\n           5       1.00      1.00      1.00         7\n           6       1.00      1.00      1.00        10\n\n    accuracy                           0.93        40\n   macro avg       0.80      0.86      0.82        40\nweighted avg       0.88      0.93      0.90        40\n\n"
     ]
    }
   ],
   "source": [
    "from sklearn.metrics import classification_report\n",
    "print(classification_report(y_Test,predicted_val))"
   ]
  }
 ]
}