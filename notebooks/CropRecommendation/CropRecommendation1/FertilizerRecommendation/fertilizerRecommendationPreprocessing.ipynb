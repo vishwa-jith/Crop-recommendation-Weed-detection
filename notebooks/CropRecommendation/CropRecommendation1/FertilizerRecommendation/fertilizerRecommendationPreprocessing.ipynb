{
 "metadata": {
  "language_info": {
   "codemirror_mode": {
    "name": "ipython",
    "version": 3
   },
   "file_extension": ".py",
   "mimetype": "text/x-python",
   "name": "python",
   "nbconvert_exporter": "python",
   "pygments_lexer": "ipython3",
   "version": "3.8.7-final"
  },
  "orig_nbformat": 2,
  "kernelspec": {
   "name": "python3",
   "display_name": "Python 3",
   "language": "python"
  }
 },
 "nbformat": 4,
 "nbformat_minor": 2,
 "cells": [
  {
   "cell_type": "code",
   "execution_count": 1,
   "metadata": {},
   "outputs": [],
   "source": [
    "# Import Libraries\n",
    "import numpy as np \n",
    "import pandas as pd"
   ]
  },
  {
   "cell_type": "code",
   "execution_count": 2,
   "metadata": {},
   "outputs": [],
   "source": [
    "# Define DataFrame\n",
    "fertilizerPrediction=pd.read_csv(\"../../../../data/FertilizerPrediction.csv\")"
   ]
  },
  {
   "cell_type": "code",
   "execution_count": 3,
   "metadata": {},
   "outputs": [],
   "source": [
    "# Set Features as Category\n",
    "fertilizerPrediction['Fertilizer Name']=fertilizerPrediction['Fertilizer Name'].astype('category')\n",
    "fertilizerPrediction['Soil Type']=fertilizerPrediction['Soil Type'].astype('category')\n",
    "fertilizerPrediction['Crop Type']=fertilizerPrediction['Crop Type'].astype('category')"
   ]
  },
  {
   "cell_type": "code",
   "execution_count": 4,
   "metadata": {},
   "outputs": [],
   "source": [
    "# Convert Category to codes\n",
    "fertilizerPrediction['Fertilizer Name']=fertilizerPrediction['Fertilizer Name'].cat.codes\n",
    "fertilizerPrediction['Soil Type']=fertilizerPrediction['Soil Type'].cat.codes\n",
    "fertilizerPrediction['Crop Type']=fertilizerPrediction['Crop Type'].cat.codes"
   ]
  },
  {
   "cell_type": "code",
   "execution_count": 5,
   "metadata": {},
   "outputs": [
    {
     "output_type": "execute_result",
     "data": {
      "text/plain": [
       "    Temparature  Humidity   Moisture  Soil Type  Crop Type  Nitrogen  \\\n",
       "0            26         52        38          4          3        37   \n",
       "1            29         52        45          2          8        12   \n",
       "2            34         65        62          0          1         7   \n",
       "3            32         62        34          3          9        22   \n",
       "4            28         54        46          1          6        35   \n",
       "..          ...        ...       ...        ...        ...       ...   \n",
       "94           25         50        32          1          7        24   \n",
       "95           30         60        27          3          9         4   \n",
       "96           38         72        51          2         10        39   \n",
       "97           36         60        43          4          4        15   \n",
       "98           29         58        57          0          8        12   \n",
       "\n",
       "    Potassium  Phosphorous  Fertilizer Name  \n",
       "0           0            0                6  \n",
       "1           0           36                5  \n",
       "2           9           30                1  \n",
       "3           0           20                4  \n",
       "4           0            0                6  \n",
       "..        ...          ...              ...  \n",
       "94          0           19                4  \n",
       "95         17           17                0  \n",
       "96          0            0                6  \n",
       "97          0           41                5  \n",
       "98          0           10                3  \n",
       "\n",
       "[99 rows x 9 columns]"
      ],
      "text/html": "<div>\n<style scoped>\n    .dataframe tbody tr th:only-of-type {\n        vertical-align: middle;\n    }\n\n    .dataframe tbody tr th {\n        vertical-align: top;\n    }\n\n    .dataframe thead th {\n        text-align: right;\n    }\n</style>\n<table border=\"1\" class=\"dataframe\">\n  <thead>\n    <tr style=\"text-align: right;\">\n      <th></th>\n      <th>Temparature</th>\n      <th>Humidity</th>\n      <th>Moisture</th>\n      <th>Soil Type</th>\n      <th>Crop Type</th>\n      <th>Nitrogen</th>\n      <th>Potassium</th>\n      <th>Phosphorous</th>\n      <th>Fertilizer Name</th>\n    </tr>\n  </thead>\n  <tbody>\n    <tr>\n      <th>0</th>\n      <td>26</td>\n      <td>52</td>\n      <td>38</td>\n      <td>4</td>\n      <td>3</td>\n      <td>37</td>\n      <td>0</td>\n      <td>0</td>\n      <td>6</td>\n    </tr>\n    <tr>\n      <th>1</th>\n      <td>29</td>\n      <td>52</td>\n      <td>45</td>\n      <td>2</td>\n      <td>8</td>\n      <td>12</td>\n      <td>0</td>\n      <td>36</td>\n      <td>5</td>\n    </tr>\n    <tr>\n      <th>2</th>\n      <td>34</td>\n      <td>65</td>\n      <td>62</td>\n      <td>0</td>\n      <td>1</td>\n      <td>7</td>\n      <td>9</td>\n      <td>30</td>\n      <td>1</td>\n    </tr>\n    <tr>\n      <th>3</th>\n      <td>32</td>\n      <td>62</td>\n      <td>34</td>\n      <td>3</td>\n      <td>9</td>\n      <td>22</td>\n      <td>0</td>\n      <td>20</td>\n      <td>4</td>\n    </tr>\n    <tr>\n      <th>4</th>\n      <td>28</td>\n      <td>54</td>\n      <td>46</td>\n      <td>1</td>\n      <td>6</td>\n      <td>35</td>\n      <td>0</td>\n      <td>0</td>\n      <td>6</td>\n    </tr>\n    <tr>\n      <th>...</th>\n      <td>...</td>\n      <td>...</td>\n      <td>...</td>\n      <td>...</td>\n      <td>...</td>\n      <td>...</td>\n      <td>...</td>\n      <td>...</td>\n      <td>...</td>\n    </tr>\n    <tr>\n      <th>94</th>\n      <td>25</td>\n      <td>50</td>\n      <td>32</td>\n      <td>1</td>\n      <td>7</td>\n      <td>24</td>\n      <td>0</td>\n      <td>19</td>\n      <td>4</td>\n    </tr>\n    <tr>\n      <th>95</th>\n      <td>30</td>\n      <td>60</td>\n      <td>27</td>\n      <td>3</td>\n      <td>9</td>\n      <td>4</td>\n      <td>17</td>\n      <td>17</td>\n      <td>0</td>\n    </tr>\n    <tr>\n      <th>96</th>\n      <td>38</td>\n      <td>72</td>\n      <td>51</td>\n      <td>2</td>\n      <td>10</td>\n      <td>39</td>\n      <td>0</td>\n      <td>0</td>\n      <td>6</td>\n    </tr>\n    <tr>\n      <th>97</th>\n      <td>36</td>\n      <td>60</td>\n      <td>43</td>\n      <td>4</td>\n      <td>4</td>\n      <td>15</td>\n      <td>0</td>\n      <td>41</td>\n      <td>5</td>\n    </tr>\n    <tr>\n      <th>98</th>\n      <td>29</td>\n      <td>58</td>\n      <td>57</td>\n      <td>0</td>\n      <td>8</td>\n      <td>12</td>\n      <td>0</td>\n      <td>10</td>\n      <td>3</td>\n    </tr>\n  </tbody>\n</table>\n<p>99 rows × 9 columns</p>\n</div>"
     },
     "metadata": {},
     "execution_count": 5
    }
   ],
   "source": [
    "# Display Final Data\n",
    "fertilizerPrediction"
   ]
  },
  {
   "cell_type": "code",
   "execution_count": 6,
   "metadata": {},
   "outputs": [],
   "source": [
    "# Export Preprocessed Data\n",
    "fertilizerPrediction.to_csv(\"../../../../preprocessedData/FertilizerPrediction.csv\")"
   ]
  }
 ]
}