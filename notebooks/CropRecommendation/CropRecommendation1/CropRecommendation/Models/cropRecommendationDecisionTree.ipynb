{
 "metadata": {
  "language_info": {
   "codemirror_mode": {
    "name": "ipython",
    "version": 3
   },
   "file_extension": ".py",
   "mimetype": "text/x-python",
   "name": "python",
   "nbconvert_exporter": "python",
   "pygments_lexer": "ipython3",
   "version": "3.8.5-final"
  },
  "orig_nbformat": 2,
  "kernelspec": {
   "name": "python3",
   "display_name": "Python 3",
   "language": "python"
  }
 },
 "nbformat": 4,
 "nbformat_minor": 2,
 "cells": [
  {
   "cell_type": "code",
   "execution_count": 17,
   "metadata": {},
   "outputs": [],
   "source": [
    "import pandas as pd\n",
    "import numpy as np"
   ]
  },
  {
   "cell_type": "code",
   "execution_count": 18,
   "metadata": {},
   "outputs": [
    {
     "output_type": "execute_result",
     "data": {
      "text/plain": [
       "      Unnamed: 0  temperature   humidity    rainfall   label\n",
       "0              0    20.879744  82.002744  202.935536    rice\n",
       "1              1    21.770462  80.319644  226.655537    rice\n",
       "2              2    23.004459  82.320763  263.964248    rice\n",
       "3              3    26.491096  80.158363  242.864034    rice\n",
       "4              4    20.130175  81.604873  262.717340    rice\n",
       "...          ...          ...        ...         ...     ...\n",
       "1195        1195    26.774637  66.413269  177.774507  coffee\n",
       "1196        1196    27.417112  56.636362  127.924610  coffee\n",
       "1197        1197    24.131797  67.225123  173.322839  coffee\n",
       "1198        1198    26.272418  52.127394  127.175293  coffee\n",
       "1199        1199    23.603016  60.396475  140.937041  coffee\n",
       "\n",
       "[1200 rows x 5 columns]"
      ],
      "text/html": "<div>\n<style scoped>\n    .dataframe tbody tr th:only-of-type {\n        vertical-align: middle;\n    }\n\n    .dataframe tbody tr th {\n        vertical-align: top;\n    }\n\n    .dataframe thead th {\n        text-align: right;\n    }\n</style>\n<table border=\"1\" class=\"dataframe\">\n  <thead>\n    <tr style=\"text-align: right;\">\n      <th></th>\n      <th>Unnamed: 0</th>\n      <th>temperature</th>\n      <th>humidity</th>\n      <th>rainfall</th>\n      <th>label</th>\n    </tr>\n  </thead>\n  <tbody>\n    <tr>\n      <th>0</th>\n      <td>0</td>\n      <td>20.879744</td>\n      <td>82.002744</td>\n      <td>202.935536</td>\n      <td>rice</td>\n    </tr>\n    <tr>\n      <th>1</th>\n      <td>1</td>\n      <td>21.770462</td>\n      <td>80.319644</td>\n      <td>226.655537</td>\n      <td>rice</td>\n    </tr>\n    <tr>\n      <th>2</th>\n      <td>2</td>\n      <td>23.004459</td>\n      <td>82.320763</td>\n      <td>263.964248</td>\n      <td>rice</td>\n    </tr>\n    <tr>\n      <th>3</th>\n      <td>3</td>\n      <td>26.491096</td>\n      <td>80.158363</td>\n      <td>242.864034</td>\n      <td>rice</td>\n    </tr>\n    <tr>\n      <th>4</th>\n      <td>4</td>\n      <td>20.130175</td>\n      <td>81.604873</td>\n      <td>262.717340</td>\n      <td>rice</td>\n    </tr>\n    <tr>\n      <th>...</th>\n      <td>...</td>\n      <td>...</td>\n      <td>...</td>\n      <td>...</td>\n      <td>...</td>\n    </tr>\n    <tr>\n      <th>1195</th>\n      <td>1195</td>\n      <td>26.774637</td>\n      <td>66.413269</td>\n      <td>177.774507</td>\n      <td>coffee</td>\n    </tr>\n    <tr>\n      <th>1196</th>\n      <td>1196</td>\n      <td>27.417112</td>\n      <td>56.636362</td>\n      <td>127.924610</td>\n      <td>coffee</td>\n    </tr>\n    <tr>\n      <th>1197</th>\n      <td>1197</td>\n      <td>24.131797</td>\n      <td>67.225123</td>\n      <td>173.322839</td>\n      <td>coffee</td>\n    </tr>\n    <tr>\n      <th>1198</th>\n      <td>1198</td>\n      <td>26.272418</td>\n      <td>52.127394</td>\n      <td>127.175293</td>\n      <td>coffee</td>\n    </tr>\n    <tr>\n      <th>1199</th>\n      <td>1199</td>\n      <td>23.603016</td>\n      <td>60.396475</td>\n      <td>140.937041</td>\n      <td>coffee</td>\n    </tr>\n  </tbody>\n</table>\n<p>1200 rows × 5 columns</p>\n</div>"
     },
     "metadata": {},
     "execution_count": 18
    }
   ],
   "source": [
    "cropRecommendationA1=pd.read_csv(\"../../../../../preprocessedData/CropRecommentationApproach1.csv\")\n",
    "cropRecommendationA1"
   ]
  },
  {
   "cell_type": "code",
   "execution_count": 19,
   "metadata": {},
   "outputs": [
    {
     "output_type": "execute_result",
     "data": {
      "text/plain": [
       "      temperature   humidity    rainfall   label\n",
       "0       20.879744  82.002744  202.935536    rice\n",
       "1       21.770462  80.319644  226.655537    rice\n",
       "2       23.004459  82.320763  263.964248    rice\n",
       "3       26.491096  80.158363  242.864034    rice\n",
       "4       20.130175  81.604873  262.717340    rice\n",
       "...           ...        ...         ...     ...\n",
       "1195    26.774637  66.413269  177.774507  coffee\n",
       "1196    27.417112  56.636362  127.924610  coffee\n",
       "1197    24.131797  67.225123  173.322839  coffee\n",
       "1198    26.272418  52.127394  127.175293  coffee\n",
       "1199    23.603016  60.396475  140.937041  coffee\n",
       "\n",
       "[1200 rows x 4 columns]"
      ],
      "text/html": "<div>\n<style scoped>\n    .dataframe tbody tr th:only-of-type {\n        vertical-align: middle;\n    }\n\n    .dataframe tbody tr th {\n        vertical-align: top;\n    }\n\n    .dataframe thead th {\n        text-align: right;\n    }\n</style>\n<table border=\"1\" class=\"dataframe\">\n  <thead>\n    <tr style=\"text-align: right;\">\n      <th></th>\n      <th>temperature</th>\n      <th>humidity</th>\n      <th>rainfall</th>\n      <th>label</th>\n    </tr>\n  </thead>\n  <tbody>\n    <tr>\n      <th>0</th>\n      <td>20.879744</td>\n      <td>82.002744</td>\n      <td>202.935536</td>\n      <td>rice</td>\n    </tr>\n    <tr>\n      <th>1</th>\n      <td>21.770462</td>\n      <td>80.319644</td>\n      <td>226.655537</td>\n      <td>rice</td>\n    </tr>\n    <tr>\n      <th>2</th>\n      <td>23.004459</td>\n      <td>82.320763</td>\n      <td>263.964248</td>\n      <td>rice</td>\n    </tr>\n    <tr>\n      <th>3</th>\n      <td>26.491096</td>\n      <td>80.158363</td>\n      <td>242.864034</td>\n      <td>rice</td>\n    </tr>\n    <tr>\n      <th>4</th>\n      <td>20.130175</td>\n      <td>81.604873</td>\n      <td>262.717340</td>\n      <td>rice</td>\n    </tr>\n    <tr>\n      <th>...</th>\n      <td>...</td>\n      <td>...</td>\n      <td>...</td>\n      <td>...</td>\n    </tr>\n    <tr>\n      <th>1195</th>\n      <td>26.774637</td>\n      <td>66.413269</td>\n      <td>177.774507</td>\n      <td>coffee</td>\n    </tr>\n    <tr>\n      <th>1196</th>\n      <td>27.417112</td>\n      <td>56.636362</td>\n      <td>127.924610</td>\n      <td>coffee</td>\n    </tr>\n    <tr>\n      <th>1197</th>\n      <td>24.131797</td>\n      <td>67.225123</td>\n      <td>173.322839</td>\n      <td>coffee</td>\n    </tr>\n    <tr>\n      <th>1198</th>\n      <td>26.272418</td>\n      <td>52.127394</td>\n      <td>127.175293</td>\n      <td>coffee</td>\n    </tr>\n    <tr>\n      <th>1199</th>\n      <td>23.603016</td>\n      <td>60.396475</td>\n      <td>140.937041</td>\n      <td>coffee</td>\n    </tr>\n  </tbody>\n</table>\n<p>1200 rows × 4 columns</p>\n</div>"
     },
     "metadata": {},
     "execution_count": 19
    }
   ],
   "source": [
    "cropRecommendationA1=cropRecommendationA1.drop(columns=[\"Unnamed: 0\"])\n",
    "cropRecommendationA1"
   ]
  },
  {
   "cell_type": "code",
   "execution_count": 20,
   "metadata": {},
   "outputs": [],
   "source": [
    "from sklearn.model_selection import train_test_split\n",
    "X=cropRecommendationA1.drop(columns=[\"label\"])\n",
    "y=cropRecommendationA1[\"label\"]"
   ]
  },
  {
   "cell_type": "code",
   "execution_count": 21,
   "metadata": {},
   "outputs": [
    {
     "output_type": "execute_result",
     "data": {
      "text/plain": [
       "      temperature   humidity    rainfall\n",
       "0       20.879744  82.002744  202.935536\n",
       "1       21.770462  80.319644  226.655537\n",
       "2       23.004459  82.320763  263.964248\n",
       "3       26.491096  80.158363  242.864034\n",
       "4       20.130175  81.604873  262.717340\n",
       "...           ...        ...         ...\n",
       "1195    26.774637  66.413269  177.774507\n",
       "1196    27.417112  56.636362  127.924610\n",
       "1197    24.131797  67.225123  173.322839\n",
       "1198    26.272418  52.127394  127.175293\n",
       "1199    23.603016  60.396475  140.937041\n",
       "\n",
       "[1200 rows x 3 columns]"
      ],
      "text/html": "<div>\n<style scoped>\n    .dataframe tbody tr th:only-of-type {\n        vertical-align: middle;\n    }\n\n    .dataframe tbody tr th {\n        vertical-align: top;\n    }\n\n    .dataframe thead th {\n        text-align: right;\n    }\n</style>\n<table border=\"1\" class=\"dataframe\">\n  <thead>\n    <tr style=\"text-align: right;\">\n      <th></th>\n      <th>temperature</th>\n      <th>humidity</th>\n      <th>rainfall</th>\n    </tr>\n  </thead>\n  <tbody>\n    <tr>\n      <th>0</th>\n      <td>20.879744</td>\n      <td>82.002744</td>\n      <td>202.935536</td>\n    </tr>\n    <tr>\n      <th>1</th>\n      <td>21.770462</td>\n      <td>80.319644</td>\n      <td>226.655537</td>\n    </tr>\n    <tr>\n      <th>2</th>\n      <td>23.004459</td>\n      <td>82.320763</td>\n      <td>263.964248</td>\n    </tr>\n    <tr>\n      <th>3</th>\n      <td>26.491096</td>\n      <td>80.158363</td>\n      <td>242.864034</td>\n    </tr>\n    <tr>\n      <th>4</th>\n      <td>20.130175</td>\n      <td>81.604873</td>\n      <td>262.717340</td>\n    </tr>\n    <tr>\n      <th>...</th>\n      <td>...</td>\n      <td>...</td>\n      <td>...</td>\n    </tr>\n    <tr>\n      <th>1195</th>\n      <td>26.774637</td>\n      <td>66.413269</td>\n      <td>177.774507</td>\n    </tr>\n    <tr>\n      <th>1196</th>\n      <td>27.417112</td>\n      <td>56.636362</td>\n      <td>127.924610</td>\n    </tr>\n    <tr>\n      <th>1197</th>\n      <td>24.131797</td>\n      <td>67.225123</td>\n      <td>173.322839</td>\n    </tr>\n    <tr>\n      <th>1198</th>\n      <td>26.272418</td>\n      <td>52.127394</td>\n      <td>127.175293</td>\n    </tr>\n    <tr>\n      <th>1199</th>\n      <td>23.603016</td>\n      <td>60.396475</td>\n      <td>140.937041</td>\n    </tr>\n  </tbody>\n</table>\n<p>1200 rows × 3 columns</p>\n</div>"
     },
     "metadata": {},
     "execution_count": 21
    }
   ],
   "source": [
    "X"
   ]
  },
  {
   "cell_type": "code",
   "execution_count": 22,
   "metadata": {},
   "outputs": [
    {
     "output_type": "execute_result",
     "data": {
      "text/plain": [
       "0         rice\n",
       "1         rice\n",
       "2         rice\n",
       "3         rice\n",
       "4         rice\n",
       "         ...  \n",
       "1195    coffee\n",
       "1196    coffee\n",
       "1197    coffee\n",
       "1198    coffee\n",
       "1199    coffee\n",
       "Name: label, Length: 1200, dtype: object"
      ]
     },
     "metadata": {},
     "execution_count": 22
    }
   ],
   "source": [
    "y"
   ]
  },
  {
   "cell_type": "code",
   "execution_count": 23,
   "metadata": {},
   "outputs": [
    {
     "output_type": "execute_result",
     "data": {
      "text/plain": [
       "      temperature   humidity    rainfall\n",
       "1049    26.389054  83.312403  176.151641\n",
       "476     25.083474  80.261731   94.329615\n",
       "61      25.755286  83.518271  245.662680\n",
       "910     42.134740  91.704454  197.402901\n",
       "68      23.641248  80.285979  263.110330\n",
       "...           ...        ...         ...\n",
       "869     25.354676  91.811832  116.755594\n",
       "835     20.184323  90.654585  116.813097\n",
       "137     21.541562  59.640242  109.751538\n",
       "101     26.100184  71.574769  102.266244\n",
       "272     28.206673  68.270852   64.328871\n",
       "\n",
       "[120 rows x 3 columns]"
      ],
      "text/html": "<div>\n<style scoped>\n    .dataframe tbody tr th:only-of-type {\n        vertical-align: middle;\n    }\n\n    .dataframe tbody tr th {\n        vertical-align: top;\n    }\n\n    .dataframe thead th {\n        text-align: right;\n    }\n</style>\n<table border=\"1\" class=\"dataframe\">\n  <thead>\n    <tr style=\"text-align: right;\">\n      <th></th>\n      <th>temperature</th>\n      <th>humidity</th>\n      <th>rainfall</th>\n    </tr>\n  </thead>\n  <tbody>\n    <tr>\n      <th>1049</th>\n      <td>26.389054</td>\n      <td>83.312403</td>\n      <td>176.151641</td>\n    </tr>\n    <tr>\n      <th>476</th>\n      <td>25.083474</td>\n      <td>80.261731</td>\n      <td>94.329615</td>\n    </tr>\n    <tr>\n      <th>61</th>\n      <td>25.755286</td>\n      <td>83.518271</td>\n      <td>245.662680</td>\n    </tr>\n    <tr>\n      <th>910</th>\n      <td>42.134740</td>\n      <td>91.704454</td>\n      <td>197.402901</td>\n    </tr>\n    <tr>\n      <th>68</th>\n      <td>23.641248</td>\n      <td>80.285979</td>\n      <td>263.110330</td>\n    </tr>\n    <tr>\n      <th>...</th>\n      <td>...</td>\n      <td>...</td>\n      <td>...</td>\n    </tr>\n    <tr>\n      <th>869</th>\n      <td>25.354676</td>\n      <td>91.811832</td>\n      <td>116.755594</td>\n    </tr>\n    <tr>\n      <th>835</th>\n      <td>20.184323</td>\n      <td>90.654585</td>\n      <td>116.813097</td>\n    </tr>\n    <tr>\n      <th>137</th>\n      <td>21.541562</td>\n      <td>59.640242</td>\n      <td>109.751538</td>\n    </tr>\n    <tr>\n      <th>101</th>\n      <td>26.100184</td>\n      <td>71.574769</td>\n      <td>102.266244</td>\n    </tr>\n    <tr>\n      <th>272</th>\n      <td>28.206673</td>\n      <td>68.270852</td>\n      <td>64.328871</td>\n    </tr>\n  </tbody>\n</table>\n<p>120 rows × 3 columns</p>\n</div>"
     },
     "metadata": {},
     "execution_count": 23
    }
   ],
   "source": [
    "X_Train,X_Test,y_Train,y_Test=train_test_split(X,y,test_size=0.1,random_state=2)\n",
    "X_Test"
   ]
  },
  {
   "cell_type": "code",
   "execution_count": 24,
   "metadata": {},
   "outputs": [],
   "source": [
    "from sklearn.tree import DecisionTreeClassifier\n",
    "from sklearn.metrics import accuracy_score"
   ]
  },
  {
   "cell_type": "code",
   "execution_count": 25,
   "metadata": {},
   "outputs": [],
   "source": [
    "model=DecisionTreeClassifier(criterion=\"entropy\")\n",
    "model.fit(X_Train,y_Train)\n",
    "predicted_val=model.predict(X_Test)"
   ]
  },
  {
   "cell_type": "code",
   "execution_count": 26,
   "metadata": {},
   "outputs": [
    {
     "output_type": "execute_result",
     "data": {
      "text/plain": [
       "array(['jute', 'banana', 'rice', 'papaya', 'rice', 'coffee', 'grapes',\n",
       "       'jute', 'apple', 'papaya', 'maize', 'blackgram', 'orange',\n",
       "       'papaya', 'apple', 'blackgram', 'blackgram', 'papaya', 'apple',\n",
       "       'lentil', 'coffee', 'banana', 'grapes', 'papaya', 'maize', 'jute',\n",
       "       'banana', 'lentil', 'blackgram', 'rice', 'orange', 'apple',\n",
       "       'coffee', 'mango', 'grapes', 'jute', 'banana', 'coffee', 'papaya',\n",
       "       'mango', 'papaya', 'lentil', 'grapes', 'lentil', 'jute', 'grapes',\n",
       "       'orange', 'banana', 'lentil', 'banana', 'lentil', 'orange', 'jute',\n",
       "       'grapes', 'blackgram', 'lentil', 'apple', 'maize', 'banana',\n",
       "       'jute', 'orange', 'banana', 'jute', 'blackgram', 'coffee', 'jute',\n",
       "       'mango', 'orange', 'banana', 'papaya', 'lentil', 'mango', 'mango',\n",
       "       'jute', 'banana', 'banana', 'rice', 'mango', 'papaya', 'lentil',\n",
       "       'apple', 'papaya', 'coffee', 'rice', 'rice', 'mango', 'orange',\n",
       "       'papaya', 'grapes', 'jute', 'mango', 'lentil', 'papaya', 'mango',\n",
       "       'rice', 'coffee', 'blackgram', 'orange', 'jute', 'mango', 'mango',\n",
       "       'apple', 'papaya', 'blackgram', 'grapes', 'lentil', 'rice', 'rice',\n",
       "       'maize', 'maize', 'lentil', 'blackgram', 'blackgram', 'papaya',\n",
       "       'blackgram', 'orange', 'orange', 'maize', 'maize', 'blackgram'],\n",
       "      dtype=object)"
      ]
     },
     "metadata": {},
     "execution_count": 26
    }
   ],
   "source": [
    "predicted_val"
   ]
  },
  {
   "cell_type": "code",
   "execution_count": 27,
   "metadata": {},
   "outputs": [
    {
     "output_type": "execute_result",
     "data": {
      "text/plain": [
       "['jute',\n",
       " 'banana',\n",
       " 'rice',\n",
       " 'papaya',\n",
       " 'rice',\n",
       " 'coffee',\n",
       " 'grapes',\n",
       " 'jute',\n",
       " 'apple',\n",
       " 'papaya',\n",
       " 'maize',\n",
       " 'blackgram',\n",
       " 'orange',\n",
       " 'papaya',\n",
       " 'apple',\n",
       " 'blackgram',\n",
       " 'blackgram',\n",
       " 'papaya',\n",
       " 'apple',\n",
       " 'lentil',\n",
       " 'coffee',\n",
       " 'banana',\n",
       " 'grapes',\n",
       " 'papaya',\n",
       " 'maize',\n",
       " 'rice',\n",
       " 'banana',\n",
       " 'lentil',\n",
       " 'blackgram',\n",
       " 'rice',\n",
       " 'orange',\n",
       " 'apple',\n",
       " 'coffee',\n",
       " 'mango',\n",
       " 'grapes',\n",
       " 'jute',\n",
       " 'banana',\n",
       " 'coffee',\n",
       " 'papaya',\n",
       " 'mango',\n",
       " 'papaya',\n",
       " 'lentil',\n",
       " 'grapes',\n",
       " 'lentil',\n",
       " 'jute',\n",
       " 'grapes',\n",
       " 'papaya',\n",
       " 'banana',\n",
       " 'lentil',\n",
       " 'banana',\n",
       " 'lentil',\n",
       " 'orange',\n",
       " 'jute',\n",
       " 'grapes',\n",
       " 'blackgram',\n",
       " 'lentil',\n",
       " 'apple',\n",
       " 'maize',\n",
       " 'banana',\n",
       " 'jute',\n",
       " 'orange',\n",
       " 'banana',\n",
       " 'jute',\n",
       " 'blackgram',\n",
       " 'coffee',\n",
       " 'jute',\n",
       " 'mango',\n",
       " 'apple',\n",
       " 'banana',\n",
       " 'papaya',\n",
       " 'lentil',\n",
       " 'mango',\n",
       " 'mango',\n",
       " 'jute',\n",
       " 'banana',\n",
       " 'banana',\n",
       " 'rice',\n",
       " 'mango',\n",
       " 'papaya',\n",
       " 'lentil',\n",
       " 'orange',\n",
       " 'papaya',\n",
       " 'coffee',\n",
       " 'rice',\n",
       " 'rice',\n",
       " 'mango',\n",
       " 'orange',\n",
       " 'papaya',\n",
       " 'grapes',\n",
       " 'rice',\n",
       " 'mango',\n",
       " 'lentil',\n",
       " 'papaya',\n",
       " 'mango',\n",
       " 'rice',\n",
       " 'coffee',\n",
       " 'blackgram',\n",
       " 'orange',\n",
       " 'jute',\n",
       " 'mango',\n",
       " 'mango',\n",
       " 'apple',\n",
       " 'papaya',\n",
       " 'blackgram',\n",
       " 'grapes',\n",
       " 'lentil',\n",
       " 'rice',\n",
       " 'rice',\n",
       " 'maize',\n",
       " 'maize',\n",
       " 'lentil',\n",
       " 'blackgram',\n",
       " 'blackgram',\n",
       " 'papaya',\n",
       " 'blackgram',\n",
       " 'orange',\n",
       " 'orange',\n",
       " 'maize',\n",
       " 'maize',\n",
       " 'blackgram']"
      ]
     },
     "metadata": {},
     "execution_count": 27
    }
   ],
   "source": [
    "list(y_Test)"
   ]
  },
  {
   "cell_type": "code",
   "execution_count": 28,
   "metadata": {},
   "outputs": [
    {
     "output_type": "execute_result",
     "data": {
      "text/plain": [
       "0.9583333333333334"
      ]
     },
     "metadata": {},
     "execution_count": 28
    }
   ],
   "source": [
    "accuracy_score(predicted_val,y_Test)"
   ]
  },
  {
   "cell_type": "code",
   "execution_count": 29,
   "metadata": {},
   "outputs": [
    {
     "output_type": "execute_result",
     "data": {
      "text/plain": [
       "   temparature  humidity  rainfall\n",
       "0           23        82       263"
      ],
      "text/html": "<div>\n<style scoped>\n    .dataframe tbody tr th:only-of-type {\n        vertical-align: middle;\n    }\n\n    .dataframe tbody tr th {\n        vertical-align: top;\n    }\n\n    .dataframe thead th {\n        text-align: right;\n    }\n</style>\n<table border=\"1\" class=\"dataframe\">\n  <thead>\n    <tr style=\"text-align: right;\">\n      <th></th>\n      <th>temparature</th>\n      <th>humidity</th>\n      <th>rainfall</th>\n    </tr>\n  </thead>\n  <tbody>\n    <tr>\n      <th>0</th>\n      <td>23</td>\n      <td>82</td>\n      <td>263</td>\n    </tr>\n  </tbody>\n</table>\n</div>"
     },
     "metadata": {},
     "execution_count": 29
    }
   ],
   "source": [
    "input_dataframe=pd.DataFrame(np.array([[23,82,263]]),columns=[\"temparature\",\"humidity\",\"rainfall\"])\n",
    "input_dataframe"
   ]
  },
  {
   "cell_type": "code",
   "execution_count": 30,
   "metadata": {},
   "outputs": [
    {
     "output_type": "execute_result",
     "data": {
      "text/plain": [
       "array(['rice'], dtype=object)"
      ]
     },
     "metadata": {},
     "execution_count": 30
    }
   ],
   "source": [
    "model.predict(input_dataframe)"
   ]
  },
  {
   "cell_type": "code",
   "execution_count": 31,
   "metadata": {},
   "outputs": [
    {
     "output_type": "stream",
     "name": "stdout",
     "text": [
      "              precision    recall  f1-score   support\n\n       apple       0.86      0.86      0.86         7\n      banana       1.00      1.00      1.00        11\n   blackgram       1.00      1.00      1.00        12\n      coffee       1.00      1.00      1.00         7\n      grapes       1.00      1.00      1.00         8\n        jute       0.83      1.00      0.91        10\n      lentil       1.00      1.00      1.00        12\n       maize       1.00      1.00      1.00         7\n       mango       1.00      1.00      1.00        11\n      orange       0.80      0.89      0.84         9\n      papaya       1.00      0.93      0.97        15\n        rice       1.00      0.82      0.90        11\n\n    accuracy                           0.96       120\n   macro avg       0.96      0.96      0.96       120\nweighted avg       0.96      0.96      0.96       120\n\n"
     ]
    }
   ],
   "source": [
    "from sklearn.metrics import classification_report\n",
    "print(classification_report(y_Test,predicted_val))"
   ]
  }
 ]
}