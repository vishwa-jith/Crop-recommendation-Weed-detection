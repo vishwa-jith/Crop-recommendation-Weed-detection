{
 "metadata": {
  "language_info": {
   "codemirror_mode": {
    "name": "ipython",
    "version": 3
   },
   "file_extension": ".py",
   "mimetype": "text/x-python",
   "name": "python",
   "nbconvert_exporter": "python",
   "pygments_lexer": "ipython3",
   "version": "3.8.5-final"
  },
  "orig_nbformat": 2,
  "kernelspec": {
   "name": "python3",
   "display_name": "Python 3",
   "language": "python"
  }
 },
 "nbformat": 4,
 "nbformat_minor": 2,
 "cells": [
  {
   "cell_type": "code",
   "execution_count": 1,
   "metadata": {},
   "outputs": [],
   "source": [
    "import pandas as pd\n",
    "import numpy as np"
   ]
  },
  {
   "cell_type": "code",
   "execution_count": 2,
   "metadata": {},
   "outputs": [
    {
     "output_type": "execute_result",
     "data": {
      "text/plain": [
       "      Unnamed: 0  temperature   humidity    rainfall   label\n",
       "0              0    20.879744  82.002744  202.935536    rice\n",
       "1              1    21.770462  80.319644  226.655537    rice\n",
       "2              2    23.004459  82.320763  263.964248    rice\n",
       "3              3    26.491096  80.158363  242.864034    rice\n",
       "4              4    20.130175  81.604873  262.717340    rice\n",
       "...          ...          ...        ...         ...     ...\n",
       "1195        1195    26.774637  66.413269  177.774507  coffee\n",
       "1196        1196    27.417112  56.636362  127.924610  coffee\n",
       "1197        1197    24.131797  67.225123  173.322839  coffee\n",
       "1198        1198    26.272418  52.127394  127.175293  coffee\n",
       "1199        1199    23.603016  60.396475  140.937041  coffee\n",
       "\n",
       "[1200 rows x 5 columns]"
      ],
      "text/html": "<div>\n<style scoped>\n    .dataframe tbody tr th:only-of-type {\n        vertical-align: middle;\n    }\n\n    .dataframe tbody tr th {\n        vertical-align: top;\n    }\n\n    .dataframe thead th {\n        text-align: right;\n    }\n</style>\n<table border=\"1\" class=\"dataframe\">\n  <thead>\n    <tr style=\"text-align: right;\">\n      <th></th>\n      <th>Unnamed: 0</th>\n      <th>temperature</th>\n      <th>humidity</th>\n      <th>rainfall</th>\n      <th>label</th>\n    </tr>\n  </thead>\n  <tbody>\n    <tr>\n      <th>0</th>\n      <td>0</td>\n      <td>20.879744</td>\n      <td>82.002744</td>\n      <td>202.935536</td>\n      <td>rice</td>\n    </tr>\n    <tr>\n      <th>1</th>\n      <td>1</td>\n      <td>21.770462</td>\n      <td>80.319644</td>\n      <td>226.655537</td>\n      <td>rice</td>\n    </tr>\n    <tr>\n      <th>2</th>\n      <td>2</td>\n      <td>23.004459</td>\n      <td>82.320763</td>\n      <td>263.964248</td>\n      <td>rice</td>\n    </tr>\n    <tr>\n      <th>3</th>\n      <td>3</td>\n      <td>26.491096</td>\n      <td>80.158363</td>\n      <td>242.864034</td>\n      <td>rice</td>\n    </tr>\n    <tr>\n      <th>4</th>\n      <td>4</td>\n      <td>20.130175</td>\n      <td>81.604873</td>\n      <td>262.717340</td>\n      <td>rice</td>\n    </tr>\n    <tr>\n      <th>...</th>\n      <td>...</td>\n      <td>...</td>\n      <td>...</td>\n      <td>...</td>\n      <td>...</td>\n    </tr>\n    <tr>\n      <th>1195</th>\n      <td>1195</td>\n      <td>26.774637</td>\n      <td>66.413269</td>\n      <td>177.774507</td>\n      <td>coffee</td>\n    </tr>\n    <tr>\n      <th>1196</th>\n      <td>1196</td>\n      <td>27.417112</td>\n      <td>56.636362</td>\n      <td>127.924610</td>\n      <td>coffee</td>\n    </tr>\n    <tr>\n      <th>1197</th>\n      <td>1197</td>\n      <td>24.131797</td>\n      <td>67.225123</td>\n      <td>173.322839</td>\n      <td>coffee</td>\n    </tr>\n    <tr>\n      <th>1198</th>\n      <td>1198</td>\n      <td>26.272418</td>\n      <td>52.127394</td>\n      <td>127.175293</td>\n      <td>coffee</td>\n    </tr>\n    <tr>\n      <th>1199</th>\n      <td>1199</td>\n      <td>23.603016</td>\n      <td>60.396475</td>\n      <td>140.937041</td>\n      <td>coffee</td>\n    </tr>\n  </tbody>\n</table>\n<p>1200 rows × 5 columns</p>\n</div>"
     },
     "metadata": {},
     "execution_count": 2
    }
   ],
   "source": [
    "cropRecommendationA1=pd.read_csv(\"../../../../../preprocessedData/CropRecommentationApproach1.csv\")\n",
    "cropRecommendationA1"
   ]
  },
  {
   "cell_type": "code",
   "execution_count": 3,
   "metadata": {},
   "outputs": [
    {
     "output_type": "execute_result",
     "data": {
      "text/plain": [
       "      temperature   humidity    rainfall   label\n",
       "0       20.879744  82.002744  202.935536    rice\n",
       "1       21.770462  80.319644  226.655537    rice\n",
       "2       23.004459  82.320763  263.964248    rice\n",
       "3       26.491096  80.158363  242.864034    rice\n",
       "4       20.130175  81.604873  262.717340    rice\n",
       "...           ...        ...         ...     ...\n",
       "1195    26.774637  66.413269  177.774507  coffee\n",
       "1196    27.417112  56.636362  127.924610  coffee\n",
       "1197    24.131797  67.225123  173.322839  coffee\n",
       "1198    26.272418  52.127394  127.175293  coffee\n",
       "1199    23.603016  60.396475  140.937041  coffee\n",
       "\n",
       "[1200 rows x 4 columns]"
      ],
      "text/html": "<div>\n<style scoped>\n    .dataframe tbody tr th:only-of-type {\n        vertical-align: middle;\n    }\n\n    .dataframe tbody tr th {\n        vertical-align: top;\n    }\n\n    .dataframe thead th {\n        text-align: right;\n    }\n</style>\n<table border=\"1\" class=\"dataframe\">\n  <thead>\n    <tr style=\"text-align: right;\">\n      <th></th>\n      <th>temperature</th>\n      <th>humidity</th>\n      <th>rainfall</th>\n      <th>label</th>\n    </tr>\n  </thead>\n  <tbody>\n    <tr>\n      <th>0</th>\n      <td>20.879744</td>\n      <td>82.002744</td>\n      <td>202.935536</td>\n      <td>rice</td>\n    </tr>\n    <tr>\n      <th>1</th>\n      <td>21.770462</td>\n      <td>80.319644</td>\n      <td>226.655537</td>\n      <td>rice</td>\n    </tr>\n    <tr>\n      <th>2</th>\n      <td>23.004459</td>\n      <td>82.320763</td>\n      <td>263.964248</td>\n      <td>rice</td>\n    </tr>\n    <tr>\n      <th>3</th>\n      <td>26.491096</td>\n      <td>80.158363</td>\n      <td>242.864034</td>\n      <td>rice</td>\n    </tr>\n    <tr>\n      <th>4</th>\n      <td>20.130175</td>\n      <td>81.604873</td>\n      <td>262.717340</td>\n      <td>rice</td>\n    </tr>\n    <tr>\n      <th>...</th>\n      <td>...</td>\n      <td>...</td>\n      <td>...</td>\n      <td>...</td>\n    </tr>\n    <tr>\n      <th>1195</th>\n      <td>26.774637</td>\n      <td>66.413269</td>\n      <td>177.774507</td>\n      <td>coffee</td>\n    </tr>\n    <tr>\n      <th>1196</th>\n      <td>27.417112</td>\n      <td>56.636362</td>\n      <td>127.924610</td>\n      <td>coffee</td>\n    </tr>\n    <tr>\n      <th>1197</th>\n      <td>24.131797</td>\n      <td>67.225123</td>\n      <td>173.322839</td>\n      <td>coffee</td>\n    </tr>\n    <tr>\n      <th>1198</th>\n      <td>26.272418</td>\n      <td>52.127394</td>\n      <td>127.175293</td>\n      <td>coffee</td>\n    </tr>\n    <tr>\n      <th>1199</th>\n      <td>23.603016</td>\n      <td>60.396475</td>\n      <td>140.937041</td>\n      <td>coffee</td>\n    </tr>\n  </tbody>\n</table>\n<p>1200 rows × 4 columns</p>\n</div>"
     },
     "metadata": {},
     "execution_count": 3
    }
   ],
   "source": [
    "cropRecommendationA1=cropRecommendationA1.drop(columns=[\"Unnamed: 0\"])\n",
    "cropRecommendationA1"
   ]
  },
  {
   "cell_type": "code",
   "execution_count": 4,
   "metadata": {},
   "outputs": [],
   "source": [
    "from sklearn.model_selection import train_test_split\n",
    "X=cropRecommendationA1.drop(columns=[\"label\"])\n",
    "y=cropRecommendationA1[\"label\"]"
   ]
  },
  {
   "cell_type": "code",
   "execution_count": 5,
   "metadata": {},
   "outputs": [
    {
     "output_type": "execute_result",
     "data": {
      "text/plain": [
       "      temperature   humidity    rainfall\n",
       "0       20.879744  82.002744  202.935536\n",
       "1       21.770462  80.319644  226.655537\n",
       "2       23.004459  82.320763  263.964248\n",
       "3       26.491096  80.158363  242.864034\n",
       "4       20.130175  81.604873  262.717340\n",
       "...           ...        ...         ...\n",
       "1195    26.774637  66.413269  177.774507\n",
       "1196    27.417112  56.636362  127.924610\n",
       "1197    24.131797  67.225123  173.322839\n",
       "1198    26.272418  52.127394  127.175293\n",
       "1199    23.603016  60.396475  140.937041\n",
       "\n",
       "[1200 rows x 3 columns]"
      ],
      "text/html": "<div>\n<style scoped>\n    .dataframe tbody tr th:only-of-type {\n        vertical-align: middle;\n    }\n\n    .dataframe tbody tr th {\n        vertical-align: top;\n    }\n\n    .dataframe thead th {\n        text-align: right;\n    }\n</style>\n<table border=\"1\" class=\"dataframe\">\n  <thead>\n    <tr style=\"text-align: right;\">\n      <th></th>\n      <th>temperature</th>\n      <th>humidity</th>\n      <th>rainfall</th>\n    </tr>\n  </thead>\n  <tbody>\n    <tr>\n      <th>0</th>\n      <td>20.879744</td>\n      <td>82.002744</td>\n      <td>202.935536</td>\n    </tr>\n    <tr>\n      <th>1</th>\n      <td>21.770462</td>\n      <td>80.319644</td>\n      <td>226.655537</td>\n    </tr>\n    <tr>\n      <th>2</th>\n      <td>23.004459</td>\n      <td>82.320763</td>\n      <td>263.964248</td>\n    </tr>\n    <tr>\n      <th>3</th>\n      <td>26.491096</td>\n      <td>80.158363</td>\n      <td>242.864034</td>\n    </tr>\n    <tr>\n      <th>4</th>\n      <td>20.130175</td>\n      <td>81.604873</td>\n      <td>262.717340</td>\n    </tr>\n    <tr>\n      <th>...</th>\n      <td>...</td>\n      <td>...</td>\n      <td>...</td>\n    </tr>\n    <tr>\n      <th>1195</th>\n      <td>26.774637</td>\n      <td>66.413269</td>\n      <td>177.774507</td>\n    </tr>\n    <tr>\n      <th>1196</th>\n      <td>27.417112</td>\n      <td>56.636362</td>\n      <td>127.924610</td>\n    </tr>\n    <tr>\n      <th>1197</th>\n      <td>24.131797</td>\n      <td>67.225123</td>\n      <td>173.322839</td>\n    </tr>\n    <tr>\n      <th>1198</th>\n      <td>26.272418</td>\n      <td>52.127394</td>\n      <td>127.175293</td>\n    </tr>\n    <tr>\n      <th>1199</th>\n      <td>23.603016</td>\n      <td>60.396475</td>\n      <td>140.937041</td>\n    </tr>\n  </tbody>\n</table>\n<p>1200 rows × 3 columns</p>\n</div>"
     },
     "metadata": {},
     "execution_count": 5
    }
   ],
   "source": [
    "X"
   ]
  },
  {
   "cell_type": "code",
   "execution_count": 6,
   "metadata": {},
   "outputs": [
    {
     "output_type": "execute_result",
     "data": {
      "text/plain": [
       "0         rice\n",
       "1         rice\n",
       "2         rice\n",
       "3         rice\n",
       "4         rice\n",
       "         ...  \n",
       "1195    coffee\n",
       "1196    coffee\n",
       "1197    coffee\n",
       "1198    coffee\n",
       "1199    coffee\n",
       "Name: label, Length: 1200, dtype: object"
      ]
     },
     "metadata": {},
     "execution_count": 6
    }
   ],
   "source": [
    "y"
   ]
  },
  {
   "cell_type": "code",
   "execution_count": 7,
   "metadata": {},
   "outputs": [],
   "source": [
    "X_Train,X_Test,y_Train,y_Test=train_test_split(X,y,test_size=0.1,random_state=2)"
   ]
  },
  {
   "cell_type": "code",
   "execution_count": 8,
   "metadata": {},
   "outputs": [
    {
     "output_type": "execute_result",
     "data": {
      "text/plain": [
       "      temperature   humidity    rainfall\n",
       "235     31.741054  68.635254   62.306173\n",
       "1144    26.223674  62.265946  193.746197\n",
       "748     23.714753  91.533312  121.896167\n",
       "612     29.587484  80.919344   68.064173\n",
       "321     18.297836  69.689762   49.391115\n",
       "...           ...        ...         ...\n",
       "466     26.126434  81.813650  104.481286\n",
       "299     32.747739  67.779546   63.377844\n",
       "493     25.010185  78.762609  108.369051\n",
       "527     29.980805  49.486133   91.822716\n",
       "1192    25.627355  57.041511  188.550654\n",
       "\n",
       "[1080 rows x 3 columns]"
      ],
      "text/html": "<div>\n<style scoped>\n    .dataframe tbody tr th:only-of-type {\n        vertical-align: middle;\n    }\n\n    .dataframe tbody tr th {\n        vertical-align: top;\n    }\n\n    .dataframe thead th {\n        text-align: right;\n    }\n</style>\n<table border=\"1\" class=\"dataframe\">\n  <thead>\n    <tr style=\"text-align: right;\">\n      <th></th>\n      <th>temperature</th>\n      <th>humidity</th>\n      <th>rainfall</th>\n    </tr>\n  </thead>\n  <tbody>\n    <tr>\n      <th>235</th>\n      <td>31.741054</td>\n      <td>68.635254</td>\n      <td>62.306173</td>\n    </tr>\n    <tr>\n      <th>1144</th>\n      <td>26.223674</td>\n      <td>62.265946</td>\n      <td>193.746197</td>\n    </tr>\n    <tr>\n      <th>748</th>\n      <td>23.714753</td>\n      <td>91.533312</td>\n      <td>121.896167</td>\n    </tr>\n    <tr>\n      <th>612</th>\n      <td>29.587484</td>\n      <td>80.919344</td>\n      <td>68.064173</td>\n    </tr>\n    <tr>\n      <th>321</th>\n      <td>18.297836</td>\n      <td>69.689762</td>\n      <td>49.391115</td>\n    </tr>\n    <tr>\n      <th>...</th>\n      <td>...</td>\n      <td>...</td>\n      <td>...</td>\n    </tr>\n    <tr>\n      <th>466</th>\n      <td>26.126434</td>\n      <td>81.813650</td>\n      <td>104.481286</td>\n    </tr>\n    <tr>\n      <th>299</th>\n      <td>32.747739</td>\n      <td>67.779546</td>\n      <td>63.377844</td>\n    </tr>\n    <tr>\n      <th>493</th>\n      <td>25.010185</td>\n      <td>78.762609</td>\n      <td>108.369051</td>\n    </tr>\n    <tr>\n      <th>527</th>\n      <td>29.980805</td>\n      <td>49.486133</td>\n      <td>91.822716</td>\n    </tr>\n    <tr>\n      <th>1192</th>\n      <td>25.627355</td>\n      <td>57.041511</td>\n      <td>188.550654</td>\n    </tr>\n  </tbody>\n</table>\n<p>1080 rows × 3 columns</p>\n</div>"
     },
     "metadata": {},
     "execution_count": 8
    }
   ],
   "source": [
    "X_Train"
   ]
  },
  {
   "cell_type": "code",
   "execution_count": 9,
   "metadata": {},
   "outputs": [
    {
     "output_type": "execute_result",
     "data": {
      "text/plain": [
       "      temperature   humidity    rainfall\n",
       "1049    26.389054  83.312403  176.151641\n",
       "476     25.083474  80.261731   94.329615\n",
       "61      25.755286  83.518271  245.662680\n",
       "910     42.134740  91.704454  197.402901\n",
       "68      23.641248  80.285979  263.110330\n",
       "...           ...        ...         ...\n",
       "869     25.354676  91.811832  116.755594\n",
       "835     20.184323  90.654585  116.813097\n",
       "137     21.541562  59.640242  109.751538\n",
       "101     26.100184  71.574769  102.266244\n",
       "272     28.206673  68.270852   64.328871\n",
       "\n",
       "[120 rows x 3 columns]"
      ],
      "text/html": "<div>\n<style scoped>\n    .dataframe tbody tr th:only-of-type {\n        vertical-align: middle;\n    }\n\n    .dataframe tbody tr th {\n        vertical-align: top;\n    }\n\n    .dataframe thead th {\n        text-align: right;\n    }\n</style>\n<table border=\"1\" class=\"dataframe\">\n  <thead>\n    <tr style=\"text-align: right;\">\n      <th></th>\n      <th>temperature</th>\n      <th>humidity</th>\n      <th>rainfall</th>\n    </tr>\n  </thead>\n  <tbody>\n    <tr>\n      <th>1049</th>\n      <td>26.389054</td>\n      <td>83.312403</td>\n      <td>176.151641</td>\n    </tr>\n    <tr>\n      <th>476</th>\n      <td>25.083474</td>\n      <td>80.261731</td>\n      <td>94.329615</td>\n    </tr>\n    <tr>\n      <th>61</th>\n      <td>25.755286</td>\n      <td>83.518271</td>\n      <td>245.662680</td>\n    </tr>\n    <tr>\n      <th>910</th>\n      <td>42.134740</td>\n      <td>91.704454</td>\n      <td>197.402901</td>\n    </tr>\n    <tr>\n      <th>68</th>\n      <td>23.641248</td>\n      <td>80.285979</td>\n      <td>263.110330</td>\n    </tr>\n    <tr>\n      <th>...</th>\n      <td>...</td>\n      <td>...</td>\n      <td>...</td>\n    </tr>\n    <tr>\n      <th>869</th>\n      <td>25.354676</td>\n      <td>91.811832</td>\n      <td>116.755594</td>\n    </tr>\n    <tr>\n      <th>835</th>\n      <td>20.184323</td>\n      <td>90.654585</td>\n      <td>116.813097</td>\n    </tr>\n    <tr>\n      <th>137</th>\n      <td>21.541562</td>\n      <td>59.640242</td>\n      <td>109.751538</td>\n    </tr>\n    <tr>\n      <th>101</th>\n      <td>26.100184</td>\n      <td>71.574769</td>\n      <td>102.266244</td>\n    </tr>\n    <tr>\n      <th>272</th>\n      <td>28.206673</td>\n      <td>68.270852</td>\n      <td>64.328871</td>\n    </tr>\n  </tbody>\n</table>\n<p>120 rows × 3 columns</p>\n</div>"
     },
     "metadata": {},
     "execution_count": 9
    }
   ],
   "source": [
    "X_Test"
   ]
  },
  {
   "cell_type": "code",
   "execution_count": 10,
   "metadata": {},
   "outputs": [
    {
     "output_type": "execute_result",
     "data": {
      "text/plain": [
       "235     blackgram\n",
       "1144       coffee\n",
       "748         apple\n",
       "612        grapes\n",
       "321        lentil\n",
       "          ...    \n",
       "466        banana\n",
       "299     blackgram\n",
       "493        banana\n",
       "527         mango\n",
       "1192       coffee\n",
       "Name: label, Length: 1080, dtype: object"
      ]
     },
     "metadata": {},
     "execution_count": 10
    }
   ],
   "source": [
    "y_Train"
   ]
  },
  {
   "cell_type": "code",
   "execution_count": 11,
   "metadata": {},
   "outputs": [
    {
     "output_type": "execute_result",
     "data": {
      "text/plain": [
       "1049         jute\n",
       "476        banana\n",
       "61           rice\n",
       "910        papaya\n",
       "68           rice\n",
       "          ...    \n",
       "869        orange\n",
       "835        orange\n",
       "137         maize\n",
       "101         maize\n",
       "272     blackgram\n",
       "Name: label, Length: 120, dtype: object"
      ]
     },
     "metadata": {},
     "execution_count": 11
    }
   ],
   "source": [
    "y_Test"
   ]
  },
  {
   "cell_type": "code",
   "execution_count": 12,
   "metadata": {},
   "outputs": [],
   "source": [
    "from sklearn.linear_model import LogisticRegression\n",
    "model=LogisticRegression()"
   ]
  },
  {
   "cell_type": "code",
   "execution_count": 13,
   "metadata": {},
   "outputs": [
    {
     "output_type": "execute_result",
     "data": {
      "text/plain": [
       "LogisticRegression()"
      ]
     },
     "metadata": {},
     "execution_count": 13
    }
   ],
   "source": [
    "model.fit(X_Train,y_Train)"
   ]
  },
  {
   "cell_type": "code",
   "execution_count": 14,
   "metadata": {},
   "outputs": [],
   "source": [
    "predicted_value = model.predict(X_Test)"
   ]
  },
  {
   "cell_type": "code",
   "execution_count": 15,
   "metadata": {},
   "outputs": [
    {
     "output_type": "execute_result",
     "data": {
      "text/plain": [
       "array(['jute', 'banana', 'rice', 'coffee', 'rice', 'coffee', 'grapes',\n",
       "       'jute', 'apple', 'jute', 'grapes', 'blackgram', 'banana', 'lentil',\n",
       "       'apple', 'blackgram', 'blackgram', 'papaya', 'apple', 'grapes',\n",
       "       'coffee', 'banana', 'grapes', 'papaya', 'banana', 'jute', 'banana',\n",
       "       'lentil', 'blackgram', 'rice', 'orange', 'orange', 'coffee',\n",
       "       'mango', 'blackgram', 'jute', 'banana', 'coffee', 'papaya',\n",
       "       'mango', 'papaya', 'lentil', 'grapes', 'lentil', 'jute', 'lentil',\n",
       "       'banana', 'papaya', 'lentil', 'banana', 'lentil', 'apple',\n",
       "       'papaya', 'grapes', 'blackgram', 'grapes', 'orange', 'papaya',\n",
       "       'banana', 'jute', 'banana', 'papaya', 'jute', 'blackgram',\n",
       "       'coffee', 'jute', 'mango', 'apple', 'papaya', 'papaya', 'lentil',\n",
       "       'mango', 'mango', 'coffee', 'papaya', 'banana', 'rice', 'mango',\n",
       "       'lentil', 'lentil', 'orange', 'lentil', 'coffee', 'rice', 'rice',\n",
       "       'mango', 'apple', 'blackgram', 'grapes', 'jute', 'mango', 'lentil',\n",
       "       'coffee', 'mango', 'rice', 'coffee', 'blackgram', 'banana', 'jute',\n",
       "       'mango', 'mango', 'orange', 'lentil', 'blackgram', 'grapes',\n",
       "       'grapes', 'jute', 'rice', 'papaya', 'orange', 'lentil',\n",
       "       'blackgram', 'blackgram', 'papaya', 'blackgram', 'apple', 'apple',\n",
       "       'papaya', 'papaya', 'blackgram'], dtype=object)"
      ]
     },
     "metadata": {},
     "execution_count": 15
    }
   ],
   "source": [
    "predicted_value"
   ]
  },
  {
   "cell_type": "code",
   "execution_count": 16,
   "metadata": {},
   "outputs": [
    {
     "output_type": "execute_result",
     "data": {
      "text/plain": [
       "1049         jute\n",
       "476        banana\n",
       "61           rice\n",
       "910        papaya\n",
       "68           rice\n",
       "          ...    \n",
       "869        orange\n",
       "835        orange\n",
       "137         maize\n",
       "101         maize\n",
       "272     blackgram\n",
       "Name: label, Length: 120, dtype: object"
      ]
     },
     "metadata": {},
     "execution_count": 16
    }
   ],
   "source": [
    "y_Test"
   ]
  },
  {
   "cell_type": "code",
   "execution_count": 17,
   "metadata": {},
   "outputs": [
    {
     "output_type": "execute_result",
     "data": {
      "text/plain": [
       "0.6666666666666666"
      ]
     },
     "metadata": {},
     "execution_count": 17
    }
   ],
   "source": [
    "from sklearn.metrics import classification_report\n",
    "from sklearn import metrics\n",
    "metrics.accuracy_score(y_Test,predicted_value)"
   ]
  },
  {
   "cell_type": "code",
   "execution_count": 19,
   "metadata": {},
   "outputs": [
    {
     "output_type": "stream",
     "name": "stdout",
     "text": [
      "              precision    recall  f1-score   support\n\n       apple       0.50      0.57      0.53         7\n      banana       0.58      0.64      0.61        11\n   blackgram       0.86      1.00      0.92        12\n      coffee       0.70      1.00      0.82         7\n      grapes       0.60      0.75      0.67         8\n        jute       0.67      0.80      0.73        10\n      lentil       0.64      0.75      0.69        12\n       maize       0.00      0.00      0.00         7\n       mango       1.00      1.00      1.00        11\n      orange       0.33      0.22      0.27         9\n      papaya       0.40      0.40      0.40        15\n        rice       1.00      0.73      0.84        11\n\n    accuracy                           0.67       120\n   macro avg       0.61      0.65      0.62       120\nweighted avg       0.63      0.67      0.64       120\n\n"
     ]
    }
   ],
   "source": [
    "print(classification_report(y_Test,predicted_value))"
   ]
  }
 ]
}