{
 "metadata": {
  "language_info": {
   "codemirror_mode": {
    "name": "ipython",
    "version": 3
   },
   "file_extension": ".py",
   "mimetype": "text/x-python",
   "name": "python",
   "nbconvert_exporter": "python",
   "pygments_lexer": "ipython3",
   "version": "3.8.5-final"
  },
  "orig_nbformat": 2,
  "kernelspec": {
   "name": "python3",
   "display_name": "Python 3",
   "language": "python"
  }
 },
 "nbformat": 4,
 "nbformat_minor": 2,
 "cells": [
  {
   "cell_type": "code",
   "execution_count": 1,
   "metadata": {},
   "outputs": [],
   "source": [
    "import pandas as pd\n",
    "import numpy as np"
   ]
  },
  {
   "cell_type": "code",
   "execution_count": 2,
   "metadata": {},
   "outputs": [
    {
     "output_type": "execute_result",
     "data": {
      "text/plain": [
       "      Unnamed: 0  temperature   humidity    rainfall   label\n",
       "0              0    20.879744  82.002744  202.935536    rice\n",
       "1              1    21.770462  80.319644  226.655537    rice\n",
       "2              2    23.004459  82.320763  263.964248    rice\n",
       "3              3    26.491096  80.158363  242.864034    rice\n",
       "4              4    20.130175  81.604873  262.717340    rice\n",
       "...          ...          ...        ...         ...     ...\n",
       "1195        1195    26.774637  66.413269  177.774507  coffee\n",
       "1196        1196    27.417112  56.636362  127.924610  coffee\n",
       "1197        1197    24.131797  67.225123  173.322839  coffee\n",
       "1198        1198    26.272418  52.127394  127.175293  coffee\n",
       "1199        1199    23.603016  60.396475  140.937041  coffee\n",
       "\n",
       "[1200 rows x 5 columns]"
      ],
      "text/html": "<div>\n<style scoped>\n    .dataframe tbody tr th:only-of-type {\n        vertical-align: middle;\n    }\n\n    .dataframe tbody tr th {\n        vertical-align: top;\n    }\n\n    .dataframe thead th {\n        text-align: right;\n    }\n</style>\n<table border=\"1\" class=\"dataframe\">\n  <thead>\n    <tr style=\"text-align: right;\">\n      <th></th>\n      <th>Unnamed: 0</th>\n      <th>temperature</th>\n      <th>humidity</th>\n      <th>rainfall</th>\n      <th>label</th>\n    </tr>\n  </thead>\n  <tbody>\n    <tr>\n      <th>0</th>\n      <td>0</td>\n      <td>20.879744</td>\n      <td>82.002744</td>\n      <td>202.935536</td>\n      <td>rice</td>\n    </tr>\n    <tr>\n      <th>1</th>\n      <td>1</td>\n      <td>21.770462</td>\n      <td>80.319644</td>\n      <td>226.655537</td>\n      <td>rice</td>\n    </tr>\n    <tr>\n      <th>2</th>\n      <td>2</td>\n      <td>23.004459</td>\n      <td>82.320763</td>\n      <td>263.964248</td>\n      <td>rice</td>\n    </tr>\n    <tr>\n      <th>3</th>\n      <td>3</td>\n      <td>26.491096</td>\n      <td>80.158363</td>\n      <td>242.864034</td>\n      <td>rice</td>\n    </tr>\n    <tr>\n      <th>4</th>\n      <td>4</td>\n      <td>20.130175</td>\n      <td>81.604873</td>\n      <td>262.717340</td>\n      <td>rice</td>\n    </tr>\n    <tr>\n      <th>...</th>\n      <td>...</td>\n      <td>...</td>\n      <td>...</td>\n      <td>...</td>\n      <td>...</td>\n    </tr>\n    <tr>\n      <th>1195</th>\n      <td>1195</td>\n      <td>26.774637</td>\n      <td>66.413269</td>\n      <td>177.774507</td>\n      <td>coffee</td>\n    </tr>\n    <tr>\n      <th>1196</th>\n      <td>1196</td>\n      <td>27.417112</td>\n      <td>56.636362</td>\n      <td>127.924610</td>\n      <td>coffee</td>\n    </tr>\n    <tr>\n      <th>1197</th>\n      <td>1197</td>\n      <td>24.131797</td>\n      <td>67.225123</td>\n      <td>173.322839</td>\n      <td>coffee</td>\n    </tr>\n    <tr>\n      <th>1198</th>\n      <td>1198</td>\n      <td>26.272418</td>\n      <td>52.127394</td>\n      <td>127.175293</td>\n      <td>coffee</td>\n    </tr>\n    <tr>\n      <th>1199</th>\n      <td>1199</td>\n      <td>23.603016</td>\n      <td>60.396475</td>\n      <td>140.937041</td>\n      <td>coffee</td>\n    </tr>\n  </tbody>\n</table>\n<p>1200 rows × 5 columns</p>\n</div>"
     },
     "metadata": {},
     "execution_count": 2
    }
   ],
   "source": [
    "cropRecommendationA1=pd.read_csv(\"../../../../../preprocessedData/CropRecommentationApproach1.csv\")\n",
    "cropRecommendationA1"
   ]
  },
  {
   "cell_type": "code",
   "execution_count": 3,
   "metadata": {},
   "outputs": [
    {
     "output_type": "execute_result",
     "data": {
      "text/plain": [
       "      temperature   humidity    rainfall   label\n",
       "0       20.879744  82.002744  202.935536    rice\n",
       "1       21.770462  80.319644  226.655537    rice\n",
       "2       23.004459  82.320763  263.964248    rice\n",
       "3       26.491096  80.158363  242.864034    rice\n",
       "4       20.130175  81.604873  262.717340    rice\n",
       "...           ...        ...         ...     ...\n",
       "1195    26.774637  66.413269  177.774507  coffee\n",
       "1196    27.417112  56.636362  127.924610  coffee\n",
       "1197    24.131797  67.225123  173.322839  coffee\n",
       "1198    26.272418  52.127394  127.175293  coffee\n",
       "1199    23.603016  60.396475  140.937041  coffee\n",
       "\n",
       "[1200 rows x 4 columns]"
      ],
      "text/html": "<div>\n<style scoped>\n    .dataframe tbody tr th:only-of-type {\n        vertical-align: middle;\n    }\n\n    .dataframe tbody tr th {\n        vertical-align: top;\n    }\n\n    .dataframe thead th {\n        text-align: right;\n    }\n</style>\n<table border=\"1\" class=\"dataframe\">\n  <thead>\n    <tr style=\"text-align: right;\">\n      <th></th>\n      <th>temperature</th>\n      <th>humidity</th>\n      <th>rainfall</th>\n      <th>label</th>\n    </tr>\n  </thead>\n  <tbody>\n    <tr>\n      <th>0</th>\n      <td>20.879744</td>\n      <td>82.002744</td>\n      <td>202.935536</td>\n      <td>rice</td>\n    </tr>\n    <tr>\n      <th>1</th>\n      <td>21.770462</td>\n      <td>80.319644</td>\n      <td>226.655537</td>\n      <td>rice</td>\n    </tr>\n    <tr>\n      <th>2</th>\n      <td>23.004459</td>\n      <td>82.320763</td>\n      <td>263.964248</td>\n      <td>rice</td>\n    </tr>\n    <tr>\n      <th>3</th>\n      <td>26.491096</td>\n      <td>80.158363</td>\n      <td>242.864034</td>\n      <td>rice</td>\n    </tr>\n    <tr>\n      <th>4</th>\n      <td>20.130175</td>\n      <td>81.604873</td>\n      <td>262.717340</td>\n      <td>rice</td>\n    </tr>\n    <tr>\n      <th>...</th>\n      <td>...</td>\n      <td>...</td>\n      <td>...</td>\n      <td>...</td>\n    </tr>\n    <tr>\n      <th>1195</th>\n      <td>26.774637</td>\n      <td>66.413269</td>\n      <td>177.774507</td>\n      <td>coffee</td>\n    </tr>\n    <tr>\n      <th>1196</th>\n      <td>27.417112</td>\n      <td>56.636362</td>\n      <td>127.924610</td>\n      <td>coffee</td>\n    </tr>\n    <tr>\n      <th>1197</th>\n      <td>24.131797</td>\n      <td>67.225123</td>\n      <td>173.322839</td>\n      <td>coffee</td>\n    </tr>\n    <tr>\n      <th>1198</th>\n      <td>26.272418</td>\n      <td>52.127394</td>\n      <td>127.175293</td>\n      <td>coffee</td>\n    </tr>\n    <tr>\n      <th>1199</th>\n      <td>23.603016</td>\n      <td>60.396475</td>\n      <td>140.937041</td>\n      <td>coffee</td>\n    </tr>\n  </tbody>\n</table>\n<p>1200 rows × 4 columns</p>\n</div>"
     },
     "metadata": {},
     "execution_count": 3
    }
   ],
   "source": [
    "cropRecommendationA1=cropRecommendationA1.drop(columns=[\"Unnamed: 0\"])\n",
    "cropRecommendationA1"
   ]
  },
  {
   "cell_type": "code",
   "execution_count": 4,
   "metadata": {},
   "outputs": [],
   "source": [
    "from sklearn.model_selection import train_test_split\n",
    "X=cropRecommendationA1.drop(columns=[\"label\"])\n",
    "y=cropRecommendationA1[\"label\"]"
   ]
  },
  {
   "cell_type": "code",
   "execution_count": 5,
   "metadata": {},
   "outputs": [
    {
     "output_type": "execute_result",
     "data": {
      "text/plain": [
       "      temperature   humidity    rainfall\n",
       "0       20.879744  82.002744  202.935536\n",
       "1       21.770462  80.319644  226.655537\n",
       "2       23.004459  82.320763  263.964248\n",
       "3       26.491096  80.158363  242.864034\n",
       "4       20.130175  81.604873  262.717340\n",
       "...           ...        ...         ...\n",
       "1195    26.774637  66.413269  177.774507\n",
       "1196    27.417112  56.636362  127.924610\n",
       "1197    24.131797  67.225123  173.322839\n",
       "1198    26.272418  52.127394  127.175293\n",
       "1199    23.603016  60.396475  140.937041\n",
       "\n",
       "[1200 rows x 3 columns]"
      ],
      "text/html": "<div>\n<style scoped>\n    .dataframe tbody tr th:only-of-type {\n        vertical-align: middle;\n    }\n\n    .dataframe tbody tr th {\n        vertical-align: top;\n    }\n\n    .dataframe thead th {\n        text-align: right;\n    }\n</style>\n<table border=\"1\" class=\"dataframe\">\n  <thead>\n    <tr style=\"text-align: right;\">\n      <th></th>\n      <th>temperature</th>\n      <th>humidity</th>\n      <th>rainfall</th>\n    </tr>\n  </thead>\n  <tbody>\n    <tr>\n      <th>0</th>\n      <td>20.879744</td>\n      <td>82.002744</td>\n      <td>202.935536</td>\n    </tr>\n    <tr>\n      <th>1</th>\n      <td>21.770462</td>\n      <td>80.319644</td>\n      <td>226.655537</td>\n    </tr>\n    <tr>\n      <th>2</th>\n      <td>23.004459</td>\n      <td>82.320763</td>\n      <td>263.964248</td>\n    </tr>\n    <tr>\n      <th>3</th>\n      <td>26.491096</td>\n      <td>80.158363</td>\n      <td>242.864034</td>\n    </tr>\n    <tr>\n      <th>4</th>\n      <td>20.130175</td>\n      <td>81.604873</td>\n      <td>262.717340</td>\n    </tr>\n    <tr>\n      <th>...</th>\n      <td>...</td>\n      <td>...</td>\n      <td>...</td>\n    </tr>\n    <tr>\n      <th>1195</th>\n      <td>26.774637</td>\n      <td>66.413269</td>\n      <td>177.774507</td>\n    </tr>\n    <tr>\n      <th>1196</th>\n      <td>27.417112</td>\n      <td>56.636362</td>\n      <td>127.924610</td>\n    </tr>\n    <tr>\n      <th>1197</th>\n      <td>24.131797</td>\n      <td>67.225123</td>\n      <td>173.322839</td>\n    </tr>\n    <tr>\n      <th>1198</th>\n      <td>26.272418</td>\n      <td>52.127394</td>\n      <td>127.175293</td>\n    </tr>\n    <tr>\n      <th>1199</th>\n      <td>23.603016</td>\n      <td>60.396475</td>\n      <td>140.937041</td>\n    </tr>\n  </tbody>\n</table>\n<p>1200 rows × 3 columns</p>\n</div>"
     },
     "metadata": {},
     "execution_count": 5
    }
   ],
   "source": [
    "X"
   ]
  },
  {
   "cell_type": "code",
   "execution_count": 6,
   "metadata": {},
   "outputs": [
    {
     "output_type": "execute_result",
     "data": {
      "text/plain": [
       "0         rice\n",
       "1         rice\n",
       "2         rice\n",
       "3         rice\n",
       "4         rice\n",
       "         ...  \n",
       "1195    coffee\n",
       "1196    coffee\n",
       "1197    coffee\n",
       "1198    coffee\n",
       "1199    coffee\n",
       "Name: label, Length: 1200, dtype: object"
      ]
     },
     "metadata": {},
     "execution_count": 6
    }
   ],
   "source": [
    "y"
   ]
  },
  {
   "cell_type": "code",
   "execution_count": 7,
   "metadata": {},
   "outputs": [],
   "source": [
    "X_Train,X_Test,y_Train,y_Test=train_test_split(X,y,test_size=0.1,random_state=10)"
   ]
  },
  {
   "cell_type": "code",
   "execution_count": 8,
   "metadata": {},
   "outputs": [
    {
     "output_type": "execute_result",
     "data": {
      "text/plain": [
       "      temperature   humidity    rainfall\n",
       "428     26.398551  81.360289   98.167520\n",
       "1177    23.106939  67.062305  162.576961\n",
       "492     27.949725  76.637134  109.092163\n",
       "1004    23.584193  72.004608  190.424216\n",
       "995     40.102077  94.351102  149.119999\n",
       "...           ...        ...         ...\n",
       "733     22.126594  90.978183  104.541228\n",
       "1180    24.029525  58.848806  134.680397\n",
       "1147    27.745770  54.369761  139.861943\n",
       "527     29.980805  49.486133   91.822716\n",
       "1149    26.673772  52.242263  156.154390\n",
       "\n",
       "[1080 rows x 3 columns]"
      ],
      "text/html": "<div>\n<style scoped>\n    .dataframe tbody tr th:only-of-type {\n        vertical-align: middle;\n    }\n\n    .dataframe tbody tr th {\n        vertical-align: top;\n    }\n\n    .dataframe thead th {\n        text-align: right;\n    }\n</style>\n<table border=\"1\" class=\"dataframe\">\n  <thead>\n    <tr style=\"text-align: right;\">\n      <th></th>\n      <th>temperature</th>\n      <th>humidity</th>\n      <th>rainfall</th>\n    </tr>\n  </thead>\n  <tbody>\n    <tr>\n      <th>428</th>\n      <td>26.398551</td>\n      <td>81.360289</td>\n      <td>98.167520</td>\n    </tr>\n    <tr>\n      <th>1177</th>\n      <td>23.106939</td>\n      <td>67.062305</td>\n      <td>162.576961</td>\n    </tr>\n    <tr>\n      <th>492</th>\n      <td>27.949725</td>\n      <td>76.637134</td>\n      <td>109.092163</td>\n    </tr>\n    <tr>\n      <th>1004</th>\n      <td>23.584193</td>\n      <td>72.004608</td>\n      <td>190.424216</td>\n    </tr>\n    <tr>\n      <th>995</th>\n      <td>40.102077</td>\n      <td>94.351102</td>\n      <td>149.119999</td>\n    </tr>\n    <tr>\n      <th>...</th>\n      <td>...</td>\n      <td>...</td>\n      <td>...</td>\n    </tr>\n    <tr>\n      <th>733</th>\n      <td>22.126594</td>\n      <td>90.978183</td>\n      <td>104.541228</td>\n    </tr>\n    <tr>\n      <th>1180</th>\n      <td>24.029525</td>\n      <td>58.848806</td>\n      <td>134.680397</td>\n    </tr>\n    <tr>\n      <th>1147</th>\n      <td>27.745770</td>\n      <td>54.369761</td>\n      <td>139.861943</td>\n    </tr>\n    <tr>\n      <th>527</th>\n      <td>29.980805</td>\n      <td>49.486133</td>\n      <td>91.822716</td>\n    </tr>\n    <tr>\n      <th>1149</th>\n      <td>26.673772</td>\n      <td>52.242263</td>\n      <td>156.154390</td>\n    </tr>\n  </tbody>\n</table>\n<p>1080 rows × 3 columns</p>\n</div>"
     },
     "metadata": {},
     "execution_count": 8
    }
   ],
   "source": [
    "X_Train"
   ]
  },
  {
   "cell_type": "code",
   "execution_count": 9,
   "metadata": {},
   "outputs": [
    {
     "output_type": "execute_result",
     "data": {
      "text/plain": [
       "      temperature   humidity    rainfall\n",
       "123     18.833445  58.750820   79.753290\n",
       "1036    23.890690  83.464091  167.723063\n",
       "1034    23.668054  70.890007  184.463328\n",
       "426     29.244064  77.320172   90.667279\n",
       "726     22.921571  94.896134  105.694154\n",
       "...           ...        ...         ...\n",
       "530     27.920633  51.779659  100.258567\n",
       "948     42.547440  94.944821  214.410385\n",
       "731     23.126527  94.712033  108.621183\n",
       "965     32.500375  93.478888   71.737595\n",
       "612     29.587484  80.919344   68.064173\n",
       "\n",
       "[120 rows x 3 columns]"
      ],
      "text/html": "<div>\n<style scoped>\n    .dataframe tbody tr th:only-of-type {\n        vertical-align: middle;\n    }\n\n    .dataframe tbody tr th {\n        vertical-align: top;\n    }\n\n    .dataframe thead th {\n        text-align: right;\n    }\n</style>\n<table border=\"1\" class=\"dataframe\">\n  <thead>\n    <tr style=\"text-align: right;\">\n      <th></th>\n      <th>temperature</th>\n      <th>humidity</th>\n      <th>rainfall</th>\n    </tr>\n  </thead>\n  <tbody>\n    <tr>\n      <th>123</th>\n      <td>18.833445</td>\n      <td>58.750820</td>\n      <td>79.753290</td>\n    </tr>\n    <tr>\n      <th>1036</th>\n      <td>23.890690</td>\n      <td>83.464091</td>\n      <td>167.723063</td>\n    </tr>\n    <tr>\n      <th>1034</th>\n      <td>23.668054</td>\n      <td>70.890007</td>\n      <td>184.463328</td>\n    </tr>\n    <tr>\n      <th>426</th>\n      <td>29.244064</td>\n      <td>77.320172</td>\n      <td>90.667279</td>\n    </tr>\n    <tr>\n      <th>726</th>\n      <td>22.921571</td>\n      <td>94.896134</td>\n      <td>105.694154</td>\n    </tr>\n    <tr>\n      <th>...</th>\n      <td>...</td>\n      <td>...</td>\n      <td>...</td>\n    </tr>\n    <tr>\n      <th>530</th>\n      <td>27.920633</td>\n      <td>51.779659</td>\n      <td>100.258567</td>\n    </tr>\n    <tr>\n      <th>948</th>\n      <td>42.547440</td>\n      <td>94.944821</td>\n      <td>214.410385</td>\n    </tr>\n    <tr>\n      <th>731</th>\n      <td>23.126527</td>\n      <td>94.712033</td>\n      <td>108.621183</td>\n    </tr>\n    <tr>\n      <th>965</th>\n      <td>32.500375</td>\n      <td>93.478888</td>\n      <td>71.737595</td>\n    </tr>\n    <tr>\n      <th>612</th>\n      <td>29.587484</td>\n      <td>80.919344</td>\n      <td>68.064173</td>\n    </tr>\n  </tbody>\n</table>\n<p>120 rows × 3 columns</p>\n</div>"
     },
     "metadata": {},
     "execution_count": 9
    }
   ],
   "source": [
    "X_Test"
   ]
  },
  {
   "cell_type": "code",
   "execution_count": 10,
   "metadata": {},
   "outputs": [
    {
     "output_type": "execute_result",
     "data": {
      "text/plain": [
       "428     banana\n",
       "1177    coffee\n",
       "492     banana\n",
       "1004      jute\n",
       "995     papaya\n",
       "         ...  \n",
       "733      apple\n",
       "1180    coffee\n",
       "1147    coffee\n",
       "527      mango\n",
       "1149    coffee\n",
       "Name: label, Length: 1080, dtype: object"
      ]
     },
     "metadata": {},
     "execution_count": 10
    }
   ],
   "source": [
    "y_Train"
   ]
  },
  {
   "cell_type": "code",
   "execution_count": 11,
   "metadata": {},
   "outputs": [
    {
     "output_type": "execute_result",
     "data": {
      "text/plain": [
       "123      maize\n",
       "1036      jute\n",
       "1034      jute\n",
       "426     banana\n",
       "726      apple\n",
       "         ...  \n",
       "530      mango\n",
       "948     papaya\n",
       "731      apple\n",
       "965     papaya\n",
       "612     grapes\n",
       "Name: label, Length: 120, dtype: object"
      ]
     },
     "metadata": {},
     "execution_count": 11
    }
   ],
   "source": [
    "y_Test"
   ]
  },
  {
   "cell_type": "code",
   "execution_count": 12,
   "metadata": {},
   "outputs": [],
   "source": [
    "from sklearn.linear_model import LogisticRegression\n",
    "model=LogisticRegression()"
   ]
  },
  {
   "cell_type": "code",
   "execution_count": 13,
   "metadata": {},
   "outputs": [
    {
     "output_type": "execute_result",
     "data": {
      "text/plain": [
       "LogisticRegression()"
      ]
     },
     "metadata": {},
     "execution_count": 13
    }
   ],
   "source": [
    "model.fit(X_Train,y_Train)"
   ]
  },
  {
   "cell_type": "code",
   "execution_count": 14,
   "metadata": {},
   "outputs": [],
   "source": [
    "predicted_value = model.predict(X_Test)"
   ]
  },
  {
   "cell_type": "code",
   "execution_count": 15,
   "metadata": {},
   "outputs": [
    {
     "output_type": "execute_result",
     "data": {
      "text/plain": [
       "array(['banana', 'jute', 'jute', 'banana', 'orange', 'mango', 'banana',\n",
       "       'rice', 'mango', 'apple', 'jute', 'jute', 'papaya', 'banana',\n",
       "       'coffee', 'papaya', 'lentil', 'blackgram', 'rice', 'banana',\n",
       "       'rice', 'mango', 'banana', 'coffee', 'banana', 'papaya', 'coffee',\n",
       "       'blackgram', 'papaya', 'jute', 'blackgram', 'grapes', 'lentil',\n",
       "       'grapes', 'apple', 'lentil', 'lentil', 'blackgram', 'apple',\n",
       "       'coffee', 'blackgram', 'orange', 'rice', 'rice', 'lentil',\n",
       "       'lentil', 'lentil', 'apple', 'grapes', 'coffee', 'coffee',\n",
       "       'blackgram', 'papaya', 'blackgram', 'lentil', 'apple', 'banana',\n",
       "       'apple', 'banana', 'apple', 'jute', 'jute', 'banana', 'apple',\n",
       "       'mango', 'rice', 'rice', 'lentil', 'mango', 'blackgram', 'lentil',\n",
       "       'jute', 'grapes', 'rice', 'jute', 'mango', 'jute', 'orange',\n",
       "       'orange', 'rice', 'jute', 'banana', 'banana', 'rice', 'apple',\n",
       "       'apple', 'apple', 'blackgram', 'mango', 'mango', 'coffee',\n",
       "       'banana', 'jute', 'grapes', 'lentil', 'mango', 'banana', 'coffee',\n",
       "       'jute', 'lentil', 'grapes', 'mango', 'blackgram', 'blackgram',\n",
       "       'coffee', 'rice', 'papaya', 'papaya', 'apple', 'apple', 'lentil',\n",
       "       'grapes', 'coffee', 'apple', 'lentil', 'mango', 'coffee', 'orange',\n",
       "       'grapes', 'grapes'], dtype=object)"
      ]
     },
     "metadata": {},
     "execution_count": 15
    }
   ],
   "source": [
    "predicted_value"
   ]
  },
  {
   "cell_type": "code",
   "execution_count": 16,
   "metadata": {},
   "outputs": [
    {
     "output_type": "execute_result",
     "data": {
      "text/plain": [
       "123      maize\n",
       "1036      jute\n",
       "1034      jute\n",
       "426     banana\n",
       "726      apple\n",
       "         ...  \n",
       "530      mango\n",
       "948     papaya\n",
       "731      apple\n",
       "965     papaya\n",
       "612     grapes\n",
       "Name: label, Length: 120, dtype: object"
      ]
     },
     "metadata": {},
     "execution_count": 16
    }
   ],
   "source": [
    "y_Test"
   ]
  },
  {
   "cell_type": "code",
   "execution_count": 17,
   "metadata": {},
   "outputs": [
    {
     "output_type": "execute_result",
     "data": {
      "text/plain": [
       "0.6583333333333333"
      ]
     },
     "metadata": {},
     "execution_count": 17
    }
   ],
   "source": [
    "from sklearn.metrics import classification_report\n",
    "from sklearn import metrics\n",
    "metrics.accuracy_score(y_Test,predicted_value)"
   ]
  }
 ]
}