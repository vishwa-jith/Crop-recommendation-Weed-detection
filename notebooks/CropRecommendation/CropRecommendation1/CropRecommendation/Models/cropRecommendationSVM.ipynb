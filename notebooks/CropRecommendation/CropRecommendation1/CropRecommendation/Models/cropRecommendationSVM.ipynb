{
 "metadata": {
  "language_info": {
   "codemirror_mode": {
    "name": "ipython",
    "version": 3
   },
   "file_extension": ".py",
   "mimetype": "text/x-python",
   "name": "python",
   "nbconvert_exporter": "python",
   "pygments_lexer": "ipython3",
   "version": "3.8.5-final"
  },
  "orig_nbformat": 2,
  "kernelspec": {
   "name": "python3",
   "display_name": "Python 3",
   "language": "python"
  }
 },
 "nbformat": 4,
 "nbformat_minor": 2,
 "cells": [
  {
   "cell_type": "code",
   "execution_count": 29,
   "metadata": {},
   "outputs": [],
   "source": [
    "import pandas as pd\n",
    "import numpy as np"
   ]
  },
  {
   "cell_type": "code",
   "execution_count": 30,
   "metadata": {},
   "outputs": [
    {
     "output_type": "execute_result",
     "data": {
      "text/plain": [
       "      Unnamed: 0  temperature   humidity    rainfall   label\n",
       "0              0    20.879744  82.002744  202.935536    rice\n",
       "1              1    21.770462  80.319644  226.655537    rice\n",
       "2              2    23.004459  82.320763  263.964248    rice\n",
       "3              3    26.491096  80.158363  242.864034    rice\n",
       "4              4    20.130175  81.604873  262.717340    rice\n",
       "...          ...          ...        ...         ...     ...\n",
       "1195        1195    26.774637  66.413269  177.774507  coffee\n",
       "1196        1196    27.417112  56.636362  127.924610  coffee\n",
       "1197        1197    24.131797  67.225123  173.322839  coffee\n",
       "1198        1198    26.272418  52.127394  127.175293  coffee\n",
       "1199        1199    23.603016  60.396475  140.937041  coffee\n",
       "\n",
       "[1200 rows x 5 columns]"
      ],
      "text/html": "<div>\n<style scoped>\n    .dataframe tbody tr th:only-of-type {\n        vertical-align: middle;\n    }\n\n    .dataframe tbody tr th {\n        vertical-align: top;\n    }\n\n    .dataframe thead th {\n        text-align: right;\n    }\n</style>\n<table border=\"1\" class=\"dataframe\">\n  <thead>\n    <tr style=\"text-align: right;\">\n      <th></th>\n      <th>Unnamed: 0</th>\n      <th>temperature</th>\n      <th>humidity</th>\n      <th>rainfall</th>\n      <th>label</th>\n    </tr>\n  </thead>\n  <tbody>\n    <tr>\n      <th>0</th>\n      <td>0</td>\n      <td>20.879744</td>\n      <td>82.002744</td>\n      <td>202.935536</td>\n      <td>rice</td>\n    </tr>\n    <tr>\n      <th>1</th>\n      <td>1</td>\n      <td>21.770462</td>\n      <td>80.319644</td>\n      <td>226.655537</td>\n      <td>rice</td>\n    </tr>\n    <tr>\n      <th>2</th>\n      <td>2</td>\n      <td>23.004459</td>\n      <td>82.320763</td>\n      <td>263.964248</td>\n      <td>rice</td>\n    </tr>\n    <tr>\n      <th>3</th>\n      <td>3</td>\n      <td>26.491096</td>\n      <td>80.158363</td>\n      <td>242.864034</td>\n      <td>rice</td>\n    </tr>\n    <tr>\n      <th>4</th>\n      <td>4</td>\n      <td>20.130175</td>\n      <td>81.604873</td>\n      <td>262.717340</td>\n      <td>rice</td>\n    </tr>\n    <tr>\n      <th>...</th>\n      <td>...</td>\n      <td>...</td>\n      <td>...</td>\n      <td>...</td>\n      <td>...</td>\n    </tr>\n    <tr>\n      <th>1195</th>\n      <td>1195</td>\n      <td>26.774637</td>\n      <td>66.413269</td>\n      <td>177.774507</td>\n      <td>coffee</td>\n    </tr>\n    <tr>\n      <th>1196</th>\n      <td>1196</td>\n      <td>27.417112</td>\n      <td>56.636362</td>\n      <td>127.924610</td>\n      <td>coffee</td>\n    </tr>\n    <tr>\n      <th>1197</th>\n      <td>1197</td>\n      <td>24.131797</td>\n      <td>67.225123</td>\n      <td>173.322839</td>\n      <td>coffee</td>\n    </tr>\n    <tr>\n      <th>1198</th>\n      <td>1198</td>\n      <td>26.272418</td>\n      <td>52.127394</td>\n      <td>127.175293</td>\n      <td>coffee</td>\n    </tr>\n    <tr>\n      <th>1199</th>\n      <td>1199</td>\n      <td>23.603016</td>\n      <td>60.396475</td>\n      <td>140.937041</td>\n      <td>coffee</td>\n    </tr>\n  </tbody>\n</table>\n<p>1200 rows × 5 columns</p>\n</div>"
     },
     "metadata": {},
     "execution_count": 30
    }
   ],
   "source": [
    "cropRecommendationA1=pd.read_csv(\"../../../../../preprocessedData/CropRecommentationApproach1.csv\")\n",
    "cropRecommendationA1"
   ]
  },
  {
   "cell_type": "code",
   "execution_count": 31,
   "metadata": {},
   "outputs": [
    {
     "output_type": "execute_result",
     "data": {
      "text/plain": [
       "      temperature   humidity    rainfall   label\n",
       "0       20.879744  82.002744  202.935536    rice\n",
       "1       21.770462  80.319644  226.655537    rice\n",
       "2       23.004459  82.320763  263.964248    rice\n",
       "3       26.491096  80.158363  242.864034    rice\n",
       "4       20.130175  81.604873  262.717340    rice\n",
       "...           ...        ...         ...     ...\n",
       "1195    26.774637  66.413269  177.774507  coffee\n",
       "1196    27.417112  56.636362  127.924610  coffee\n",
       "1197    24.131797  67.225123  173.322839  coffee\n",
       "1198    26.272418  52.127394  127.175293  coffee\n",
       "1199    23.603016  60.396475  140.937041  coffee\n",
       "\n",
       "[1200 rows x 4 columns]"
      ],
      "text/html": "<div>\n<style scoped>\n    .dataframe tbody tr th:only-of-type {\n        vertical-align: middle;\n    }\n\n    .dataframe tbody tr th {\n        vertical-align: top;\n    }\n\n    .dataframe thead th {\n        text-align: right;\n    }\n</style>\n<table border=\"1\" class=\"dataframe\">\n  <thead>\n    <tr style=\"text-align: right;\">\n      <th></th>\n      <th>temperature</th>\n      <th>humidity</th>\n      <th>rainfall</th>\n      <th>label</th>\n    </tr>\n  </thead>\n  <tbody>\n    <tr>\n      <th>0</th>\n      <td>20.879744</td>\n      <td>82.002744</td>\n      <td>202.935536</td>\n      <td>rice</td>\n    </tr>\n    <tr>\n      <th>1</th>\n      <td>21.770462</td>\n      <td>80.319644</td>\n      <td>226.655537</td>\n      <td>rice</td>\n    </tr>\n    <tr>\n      <th>2</th>\n      <td>23.004459</td>\n      <td>82.320763</td>\n      <td>263.964248</td>\n      <td>rice</td>\n    </tr>\n    <tr>\n      <th>3</th>\n      <td>26.491096</td>\n      <td>80.158363</td>\n      <td>242.864034</td>\n      <td>rice</td>\n    </tr>\n    <tr>\n      <th>4</th>\n      <td>20.130175</td>\n      <td>81.604873</td>\n      <td>262.717340</td>\n      <td>rice</td>\n    </tr>\n    <tr>\n      <th>...</th>\n      <td>...</td>\n      <td>...</td>\n      <td>...</td>\n      <td>...</td>\n    </tr>\n    <tr>\n      <th>1195</th>\n      <td>26.774637</td>\n      <td>66.413269</td>\n      <td>177.774507</td>\n      <td>coffee</td>\n    </tr>\n    <tr>\n      <th>1196</th>\n      <td>27.417112</td>\n      <td>56.636362</td>\n      <td>127.924610</td>\n      <td>coffee</td>\n    </tr>\n    <tr>\n      <th>1197</th>\n      <td>24.131797</td>\n      <td>67.225123</td>\n      <td>173.322839</td>\n      <td>coffee</td>\n    </tr>\n    <tr>\n      <th>1198</th>\n      <td>26.272418</td>\n      <td>52.127394</td>\n      <td>127.175293</td>\n      <td>coffee</td>\n    </tr>\n    <tr>\n      <th>1199</th>\n      <td>23.603016</td>\n      <td>60.396475</td>\n      <td>140.937041</td>\n      <td>coffee</td>\n    </tr>\n  </tbody>\n</table>\n<p>1200 rows × 4 columns</p>\n</div>"
     },
     "metadata": {},
     "execution_count": 31
    }
   ],
   "source": [
    "cropRecommendationA1=cropRecommendationA1.drop(columns=[\"Unnamed: 0\"])\n",
    "cropRecommendationA1"
   ]
  },
  {
   "cell_type": "code",
   "execution_count": 32,
   "metadata": {},
   "outputs": [],
   "source": [
    "from sklearn.model_selection import train_test_split\n",
    "X=cropRecommendationA1.drop(columns=[\"label\"])\n",
    "y=cropRecommendationA1[\"label\"]"
   ]
  },
  {
   "cell_type": "code",
   "execution_count": 33,
   "metadata": {},
   "outputs": [
    {
     "output_type": "execute_result",
     "data": {
      "text/plain": [
       "      temperature   humidity    rainfall\n",
       "0       20.879744  82.002744  202.935536\n",
       "1       21.770462  80.319644  226.655537\n",
       "2       23.004459  82.320763  263.964248\n",
       "3       26.491096  80.158363  242.864034\n",
       "4       20.130175  81.604873  262.717340\n",
       "...           ...        ...         ...\n",
       "1195    26.774637  66.413269  177.774507\n",
       "1196    27.417112  56.636362  127.924610\n",
       "1197    24.131797  67.225123  173.322839\n",
       "1198    26.272418  52.127394  127.175293\n",
       "1199    23.603016  60.396475  140.937041\n",
       "\n",
       "[1200 rows x 3 columns]"
      ],
      "text/html": "<div>\n<style scoped>\n    .dataframe tbody tr th:only-of-type {\n        vertical-align: middle;\n    }\n\n    .dataframe tbody tr th {\n        vertical-align: top;\n    }\n\n    .dataframe thead th {\n        text-align: right;\n    }\n</style>\n<table border=\"1\" class=\"dataframe\">\n  <thead>\n    <tr style=\"text-align: right;\">\n      <th></th>\n      <th>temperature</th>\n      <th>humidity</th>\n      <th>rainfall</th>\n    </tr>\n  </thead>\n  <tbody>\n    <tr>\n      <th>0</th>\n      <td>20.879744</td>\n      <td>82.002744</td>\n      <td>202.935536</td>\n    </tr>\n    <tr>\n      <th>1</th>\n      <td>21.770462</td>\n      <td>80.319644</td>\n      <td>226.655537</td>\n    </tr>\n    <tr>\n      <th>2</th>\n      <td>23.004459</td>\n      <td>82.320763</td>\n      <td>263.964248</td>\n    </tr>\n    <tr>\n      <th>3</th>\n      <td>26.491096</td>\n      <td>80.158363</td>\n      <td>242.864034</td>\n    </tr>\n    <tr>\n      <th>4</th>\n      <td>20.130175</td>\n      <td>81.604873</td>\n      <td>262.717340</td>\n    </tr>\n    <tr>\n      <th>...</th>\n      <td>...</td>\n      <td>...</td>\n      <td>...</td>\n    </tr>\n    <tr>\n      <th>1195</th>\n      <td>26.774637</td>\n      <td>66.413269</td>\n      <td>177.774507</td>\n    </tr>\n    <tr>\n      <th>1196</th>\n      <td>27.417112</td>\n      <td>56.636362</td>\n      <td>127.924610</td>\n    </tr>\n    <tr>\n      <th>1197</th>\n      <td>24.131797</td>\n      <td>67.225123</td>\n      <td>173.322839</td>\n    </tr>\n    <tr>\n      <th>1198</th>\n      <td>26.272418</td>\n      <td>52.127394</td>\n      <td>127.175293</td>\n    </tr>\n    <tr>\n      <th>1199</th>\n      <td>23.603016</td>\n      <td>60.396475</td>\n      <td>140.937041</td>\n    </tr>\n  </tbody>\n</table>\n<p>1200 rows × 3 columns</p>\n</div>"
     },
     "metadata": {},
     "execution_count": 33
    }
   ],
   "source": [
    "X"
   ]
  },
  {
   "source": [
    "from sklearn.preprocessing import StandardScaler\n",
    "scaler=StandardScaler()\n",
    "X=scaler.fit_transform(X)\n",
    "X"
   ],
   "cell_type": "code",
   "metadata": {},
   "execution_count": 34,
   "outputs": [
    {
     "output_type": "execute_result",
     "data": {
      "text/plain": [
       "array([[-0.9172917 ,  0.46929425,  1.5298087 ],\n",
       "       [-0.75930247,  0.34921994,  1.95128013],\n",
       "       [-0.54042477,  0.49198208,  2.61420401],\n",
       "       ...,\n",
       "       [-0.34046561, -0.58495835,  1.00363226],\n",
       "       [ 0.03922261, -1.66204785,  0.18365457],\n",
       "       [-0.43425706, -1.07212206,  0.4281817 ]])"
      ]
     },
     "metadata": {},
     "execution_count": 34
    }
   ]
  },
  {
   "cell_type": "code",
   "execution_count": 35,
   "metadata": {},
   "outputs": [
    {
     "output_type": "execute_result",
     "data": {
      "text/plain": [
       "0         rice\n",
       "1         rice\n",
       "2         rice\n",
       "3         rice\n",
       "4         rice\n",
       "         ...  \n",
       "1195    coffee\n",
       "1196    coffee\n",
       "1197    coffee\n",
       "1198    coffee\n",
       "1199    coffee\n",
       "Name: label, Length: 1200, dtype: object"
      ]
     },
     "metadata": {},
     "execution_count": 35
    }
   ],
   "source": [
    "y"
   ]
  },
  {
   "cell_type": "code",
   "execution_count": 36,
   "metadata": {},
   "outputs": [],
   "source": [
    "X_Train,X_Test,y_Train,y_Test=train_test_split(X,y,test_size=0.1,random_state=8)"
   ]
  },
  {
   "cell_type": "code",
   "execution_count": 37,
   "metadata": {},
   "outputs": [
    {
     "output_type": "execute_result",
     "data": {
      "text/plain": [
       "SVC(kernel='linear')"
      ]
     },
     "metadata": {},
     "execution_count": 37
    }
   ],
   "source": [
    "from sklearn import svm\n",
    "model=svm.SVC(kernel=\"linear\")\n",
    "model.fit(X_Train,y_Train) "
   ]
  },
  {
   "cell_type": "code",
   "execution_count": 38,
   "metadata": {},
   "outputs": [],
   "source": [
    "predict_val=model.predict(X_Test)"
   ]
  },
  {
   "cell_type": "code",
   "execution_count": 39,
   "metadata": {},
   "outputs": [
    {
     "output_type": "execute_result",
     "data": {
      "text/plain": [
       "array(['apple', 'grapes', 'blackgram', 'lentil', 'mango', 'mango', 'rice',\n",
       "       'lentil', 'grapes', 'coffee', 'rice', 'apple', 'orange', 'lentil',\n",
       "       'coffee', 'apple', 'grapes', 'maize', 'apple', 'coffee', 'maize',\n",
       "       'maize', 'blackgram', 'maize', 'coffee', 'rice', 'rice', 'mango',\n",
       "       'rice', 'lentil', 'rice', 'coffee', 'jute', 'blackgram', 'apple',\n",
       "       'coffee', 'maize', 'maize', 'mango', 'jute', 'maize', 'blackgram',\n",
       "       'banana', 'jute', 'jute', 'apple', 'papaya', 'coffee', 'banana',\n",
       "       'maize', 'jute', 'mango', 'banana', 'rice', 'coffee', 'coffee',\n",
       "       'rice', 'rice', 'jute', 'jute', 'maize', 'mango', 'mango',\n",
       "       'coffee', 'papaya', 'blackgram', 'lentil', 'lentil', 'mango',\n",
       "       'blackgram', 'blackgram', 'apple', 'grapes', 'maize', 'grapes',\n",
       "       'maize', 'banana', 'blackgram', 'jute', 'jute', 'grapes', 'jute',\n",
       "       'mango', 'grapes', 'grapes', 'maize', 'grapes', 'coffee', 'papaya',\n",
       "       'maize', 'banana', 'coffee', 'lentil', 'apple', 'maize', 'papaya',\n",
       "       'papaya', 'rice', 'jute', 'blackgram', 'jute', 'grapes',\n",
       "       'blackgram', 'maize', 'maize', 'apple', 'banana', 'mango', 'maize',\n",
       "       'mango', 'grapes', 'banana', 'jute', 'orange', 'mango', 'jute',\n",
       "       'apple', 'mango', 'banana', 'apple'], dtype=object)"
      ]
     },
     "metadata": {},
     "execution_count": 39
    }
   ],
   "source": [
    "predict_val"
   ]
  },
  {
   "cell_type": "code",
   "execution_count": 40,
   "metadata": {},
   "outputs": [
    {
     "output_type": "execute_result",
     "data": {
      "text/plain": [
       "['orange',\n",
       " 'grapes',\n",
       " 'blackgram',\n",
       " 'lentil',\n",
       " 'mango',\n",
       " 'mango',\n",
       " 'rice',\n",
       " 'lentil',\n",
       " 'grapes',\n",
       " 'coffee',\n",
       " 'rice',\n",
       " 'orange',\n",
       " 'orange',\n",
       " 'lentil',\n",
       " 'coffee',\n",
       " 'orange',\n",
       " 'grapes',\n",
       " 'maize',\n",
       " 'apple',\n",
       " 'coffee',\n",
       " 'maize',\n",
       " 'maize',\n",
       " 'blackgram',\n",
       " 'maize',\n",
       " 'coffee',\n",
       " 'rice',\n",
       " 'rice',\n",
       " 'mango',\n",
       " 'rice',\n",
       " 'lentil',\n",
       " 'rice',\n",
       " 'coffee',\n",
       " 'jute',\n",
       " 'blackgram',\n",
       " 'apple',\n",
       " 'coffee',\n",
       " 'coffee',\n",
       " 'blackgram',\n",
       " 'mango',\n",
       " 'jute',\n",
       " 'maize',\n",
       " 'blackgram',\n",
       " 'banana',\n",
       " 'jute',\n",
       " 'jute',\n",
       " 'orange',\n",
       " 'papaya',\n",
       " 'coffee',\n",
       " 'banana',\n",
       " 'maize',\n",
       " 'jute',\n",
       " 'mango',\n",
       " 'banana',\n",
       " 'rice',\n",
       " 'coffee',\n",
       " 'coffee',\n",
       " 'rice',\n",
       " 'rice',\n",
       " 'rice',\n",
       " 'jute',\n",
       " 'maize',\n",
       " 'mango',\n",
       " 'mango',\n",
       " 'coffee',\n",
       " 'papaya',\n",
       " 'blackgram',\n",
       " 'lentil',\n",
       " 'lentil',\n",
       " 'mango',\n",
       " 'blackgram',\n",
       " 'blackgram',\n",
       " 'orange',\n",
       " 'grapes',\n",
       " 'maize',\n",
       " 'grapes',\n",
       " 'maize',\n",
       " 'banana',\n",
       " 'blackgram',\n",
       " 'jute',\n",
       " 'jute',\n",
       " 'grapes',\n",
       " 'jute',\n",
       " 'mango',\n",
       " 'grapes',\n",
       " 'papaya',\n",
       " 'maize',\n",
       " 'grapes',\n",
       " 'coffee',\n",
       " 'papaya',\n",
       " 'maize',\n",
       " 'banana',\n",
       " 'coffee',\n",
       " 'lentil',\n",
       " 'orange',\n",
       " 'maize',\n",
       " 'papaya',\n",
       " 'papaya',\n",
       " 'rice',\n",
       " 'jute',\n",
       " 'blackgram',\n",
       " 'jute',\n",
       " 'grapes',\n",
       " 'blackgram',\n",
       " 'coffee',\n",
       " 'maize',\n",
       " 'apple',\n",
       " 'banana',\n",
       " 'mango',\n",
       " 'maize',\n",
       " 'mango',\n",
       " 'grapes',\n",
       " 'banana',\n",
       " 'papaya',\n",
       " 'apple',\n",
       " 'mango',\n",
       " 'jute',\n",
       " 'orange',\n",
       " 'mango',\n",
       " 'banana',\n",
       " 'apple']"
      ]
     },
     "metadata": {},
     "execution_count": 40
    }
   ],
   "source": [
    "list(y_Test)"
   ]
  },
  {
   "cell_type": "code",
   "execution_count": 41,
   "metadata": {},
   "outputs": [
    {
     "output_type": "execute_result",
     "data": {
      "text/plain": [
       "0.8833333333333333"
      ]
     },
     "metadata": {},
     "execution_count": 41
    }
   ],
   "source": [
    "from sklearn.metrics import classification_report,accuracy_score\n",
    "accuracy_score(predict_val,y_Test)"
   ]
  },
  {
   "cell_type": "code",
   "execution_count": 42,
   "metadata": {},
   "outputs": [
    {
     "output_type": "stream",
     "name": "stdout",
     "text": [
      "              precision    recall  f1-score   support\n\n       apple       0.80      0.36      0.50        11\n      banana       1.00      1.00      1.00         8\n   blackgram       0.91      1.00      0.95        10\n      coffee       0.86      1.00      0.92        12\n      grapes       1.00      0.91      0.95        11\n        jute       1.00      0.86      0.92        14\n      lentil       1.00      1.00      1.00         7\n       maize       1.00      0.82      0.90        17\n       mango       1.00      1.00      1.00        13\n      orange       0.12      0.50      0.20         2\n      papaya       0.71      1.00      0.83         5\n        rice       0.91      1.00      0.95        10\n\n    accuracy                           0.88       120\n   macro avg       0.86      0.87      0.84       120\nweighted avg       0.93      0.88      0.89       120\n\n"
     ]
    }
   ],
   "source": [
    "print(classification_report(predict_val,y_Test))"
   ]
  }
 ]
}