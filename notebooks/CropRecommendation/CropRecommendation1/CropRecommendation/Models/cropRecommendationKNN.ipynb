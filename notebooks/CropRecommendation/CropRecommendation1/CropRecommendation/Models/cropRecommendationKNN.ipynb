{
 "metadata": {
  "language_info": {
   "codemirror_mode": {
    "name": "ipython",
    "version": 3
   },
   "file_extension": ".py",
   "mimetype": "text/x-python",
   "name": "python",
   "nbconvert_exporter": "python",
   "pygments_lexer": "ipython3",
   "version": "3.8.5-final"
  },
  "orig_nbformat": 2,
  "kernelspec": {
   "name": "python3",
   "display_name": "Python 3",
   "language": "python"
  }
 },
 "nbformat": 4,
 "nbformat_minor": 2,
 "cells": [
  {
   "cell_type": "code",
   "execution_count": 1,
   "metadata": {},
   "outputs": [],
   "source": [
    "import pandas as pd\n",
    "import numpy as np"
   ]
  },
  {
   "cell_type": "code",
   "execution_count": 2,
   "metadata": {},
   "outputs": [
    {
     "output_type": "execute_result",
     "data": {
      "text/plain": [
       "      Unnamed: 0  temperature   humidity    rainfall   label\n",
       "0              0    20.879744  82.002744  202.935536    rice\n",
       "1              1    21.770462  80.319644  226.655537    rice\n",
       "2              2    23.004459  82.320763  263.964248    rice\n",
       "3              3    26.491096  80.158363  242.864034    rice\n",
       "4              4    20.130175  81.604873  262.717340    rice\n",
       "...          ...          ...        ...         ...     ...\n",
       "1195        1195    26.774637  66.413269  177.774507  coffee\n",
       "1196        1196    27.417112  56.636362  127.924610  coffee\n",
       "1197        1197    24.131797  67.225123  173.322839  coffee\n",
       "1198        1198    26.272418  52.127394  127.175293  coffee\n",
       "1199        1199    23.603016  60.396475  140.937041  coffee\n",
       "\n",
       "[1200 rows x 5 columns]"
      ],
      "text/html": "<div>\n<style scoped>\n    .dataframe tbody tr th:only-of-type {\n        vertical-align: middle;\n    }\n\n    .dataframe tbody tr th {\n        vertical-align: top;\n    }\n\n    .dataframe thead th {\n        text-align: right;\n    }\n</style>\n<table border=\"1\" class=\"dataframe\">\n  <thead>\n    <tr style=\"text-align: right;\">\n      <th></th>\n      <th>Unnamed: 0</th>\n      <th>temperature</th>\n      <th>humidity</th>\n      <th>rainfall</th>\n      <th>label</th>\n    </tr>\n  </thead>\n  <tbody>\n    <tr>\n      <th>0</th>\n      <td>0</td>\n      <td>20.879744</td>\n      <td>82.002744</td>\n      <td>202.935536</td>\n      <td>rice</td>\n    </tr>\n    <tr>\n      <th>1</th>\n      <td>1</td>\n      <td>21.770462</td>\n      <td>80.319644</td>\n      <td>226.655537</td>\n      <td>rice</td>\n    </tr>\n    <tr>\n      <th>2</th>\n      <td>2</td>\n      <td>23.004459</td>\n      <td>82.320763</td>\n      <td>263.964248</td>\n      <td>rice</td>\n    </tr>\n    <tr>\n      <th>3</th>\n      <td>3</td>\n      <td>26.491096</td>\n      <td>80.158363</td>\n      <td>242.864034</td>\n      <td>rice</td>\n    </tr>\n    <tr>\n      <th>4</th>\n      <td>4</td>\n      <td>20.130175</td>\n      <td>81.604873</td>\n      <td>262.717340</td>\n      <td>rice</td>\n    </tr>\n    <tr>\n      <th>...</th>\n      <td>...</td>\n      <td>...</td>\n      <td>...</td>\n      <td>...</td>\n      <td>...</td>\n    </tr>\n    <tr>\n      <th>1195</th>\n      <td>1195</td>\n      <td>26.774637</td>\n      <td>66.413269</td>\n      <td>177.774507</td>\n      <td>coffee</td>\n    </tr>\n    <tr>\n      <th>1196</th>\n      <td>1196</td>\n      <td>27.417112</td>\n      <td>56.636362</td>\n      <td>127.924610</td>\n      <td>coffee</td>\n    </tr>\n    <tr>\n      <th>1197</th>\n      <td>1197</td>\n      <td>24.131797</td>\n      <td>67.225123</td>\n      <td>173.322839</td>\n      <td>coffee</td>\n    </tr>\n    <tr>\n      <th>1198</th>\n      <td>1198</td>\n      <td>26.272418</td>\n      <td>52.127394</td>\n      <td>127.175293</td>\n      <td>coffee</td>\n    </tr>\n    <tr>\n      <th>1199</th>\n      <td>1199</td>\n      <td>23.603016</td>\n      <td>60.396475</td>\n      <td>140.937041</td>\n      <td>coffee</td>\n    </tr>\n  </tbody>\n</table>\n<p>1200 rows × 5 columns</p>\n</div>"
     },
     "metadata": {},
     "execution_count": 2
    }
   ],
   "source": [
    "cropRecommendationA1=pd.read_csv(\"../../../../../preprocessedData/CropRecommentationApproach1.csv\")\n",
    "cropRecommendationA1"
   ]
  },
  {
   "cell_type": "code",
   "execution_count": 3,
   "metadata": {},
   "outputs": [
    {
     "output_type": "execute_result",
     "data": {
      "text/plain": [
       "      temperature   humidity    rainfall   label\n",
       "0       20.879744  82.002744  202.935536    rice\n",
       "1       21.770462  80.319644  226.655537    rice\n",
       "2       23.004459  82.320763  263.964248    rice\n",
       "3       26.491096  80.158363  242.864034    rice\n",
       "4       20.130175  81.604873  262.717340    rice\n",
       "...           ...        ...         ...     ...\n",
       "1195    26.774637  66.413269  177.774507  coffee\n",
       "1196    27.417112  56.636362  127.924610  coffee\n",
       "1197    24.131797  67.225123  173.322839  coffee\n",
       "1198    26.272418  52.127394  127.175293  coffee\n",
       "1199    23.603016  60.396475  140.937041  coffee\n",
       "\n",
       "[1200 rows x 4 columns]"
      ],
      "text/html": "<div>\n<style scoped>\n    .dataframe tbody tr th:only-of-type {\n        vertical-align: middle;\n    }\n\n    .dataframe tbody tr th {\n        vertical-align: top;\n    }\n\n    .dataframe thead th {\n        text-align: right;\n    }\n</style>\n<table border=\"1\" class=\"dataframe\">\n  <thead>\n    <tr style=\"text-align: right;\">\n      <th></th>\n      <th>temperature</th>\n      <th>humidity</th>\n      <th>rainfall</th>\n      <th>label</th>\n    </tr>\n  </thead>\n  <tbody>\n    <tr>\n      <th>0</th>\n      <td>20.879744</td>\n      <td>82.002744</td>\n      <td>202.935536</td>\n      <td>rice</td>\n    </tr>\n    <tr>\n      <th>1</th>\n      <td>21.770462</td>\n      <td>80.319644</td>\n      <td>226.655537</td>\n      <td>rice</td>\n    </tr>\n    <tr>\n      <th>2</th>\n      <td>23.004459</td>\n      <td>82.320763</td>\n      <td>263.964248</td>\n      <td>rice</td>\n    </tr>\n    <tr>\n      <th>3</th>\n      <td>26.491096</td>\n      <td>80.158363</td>\n      <td>242.864034</td>\n      <td>rice</td>\n    </tr>\n    <tr>\n      <th>4</th>\n      <td>20.130175</td>\n      <td>81.604873</td>\n      <td>262.717340</td>\n      <td>rice</td>\n    </tr>\n    <tr>\n      <th>...</th>\n      <td>...</td>\n      <td>...</td>\n      <td>...</td>\n      <td>...</td>\n    </tr>\n    <tr>\n      <th>1195</th>\n      <td>26.774637</td>\n      <td>66.413269</td>\n      <td>177.774507</td>\n      <td>coffee</td>\n    </tr>\n    <tr>\n      <th>1196</th>\n      <td>27.417112</td>\n      <td>56.636362</td>\n      <td>127.924610</td>\n      <td>coffee</td>\n    </tr>\n    <tr>\n      <th>1197</th>\n      <td>24.131797</td>\n      <td>67.225123</td>\n      <td>173.322839</td>\n      <td>coffee</td>\n    </tr>\n    <tr>\n      <th>1198</th>\n      <td>26.272418</td>\n      <td>52.127394</td>\n      <td>127.175293</td>\n      <td>coffee</td>\n    </tr>\n    <tr>\n      <th>1199</th>\n      <td>23.603016</td>\n      <td>60.396475</td>\n      <td>140.937041</td>\n      <td>coffee</td>\n    </tr>\n  </tbody>\n</table>\n<p>1200 rows × 4 columns</p>\n</div>"
     },
     "metadata": {},
     "execution_count": 3
    }
   ],
   "source": [
    "cropRecommendationA1=cropRecommendationA1.drop(columns=[\"Unnamed: 0\"])\n",
    "cropRecommendationA1"
   ]
  },
  {
   "cell_type": "code",
   "execution_count": 4,
   "metadata": {},
   "outputs": [],
   "source": [
    "from sklearn.model_selection import train_test_split\n",
    "X=cropRecommendationA1.drop(columns=[\"label\"])\n",
    "y=cropRecommendationA1[\"label\"]"
   ]
  },
  {
   "cell_type": "code",
   "execution_count": 5,
   "metadata": {},
   "outputs": [
    {
     "output_type": "execute_result",
     "data": {
      "text/plain": [
       "array([[0.34588614, 0.740469  , 0.63713316],\n",
       "       [0.37144489, 0.70676779, 0.72714351],\n",
       "       [0.4068539 , 0.74683678, 0.86871897],\n",
       "       ...,\n",
       "       [0.43920235, 0.44457236, 0.52476178],\n",
       "       [0.50062653, 0.14226611, 0.34964558],\n",
       "       [0.42402921, 0.30784033, 0.40186732]])"
      ]
     },
     "metadata": {},
     "execution_count": 5
    }
   ],
   "source": [
    "from sklearn.preprocessing import MinMaxScaler\n",
    "scaler=MinMaxScaler()\n",
    "X=scaler.fit_transform(X)\n",
    "X"
   ]
  },
  {
   "cell_type": "code",
   "execution_count": 6,
   "metadata": {},
   "outputs": [
    {
     "output_type": "execute_result",
     "data": {
      "text/plain": [
       "0         rice\n",
       "1         rice\n",
       "2         rice\n",
       "3         rice\n",
       "4         rice\n",
       "         ...  \n",
       "1195    coffee\n",
       "1196    coffee\n",
       "1197    coffee\n",
       "1198    coffee\n",
       "1199    coffee\n",
       "Name: label, Length: 1200, dtype: object"
      ]
     },
     "metadata": {},
     "execution_count": 6
    }
   ],
   "source": [
    "y"
   ]
  },
  {
   "cell_type": "code",
   "execution_count": 7,
   "metadata": {},
   "outputs": [],
   "source": [
    "X_Train,X_Test,y_Train,y_Test=train_test_split(X,y,test_size=0.1,random_state=2)"
   ]
  },
  {
   "cell_type": "code",
   "execution_count": 11,
   "metadata": {},
   "outputs": [
    {
     "output_type": "execute_result",
     "data": {
      "text/plain": [
       "9"
      ]
     },
     "metadata": {},
     "execution_count": 11
    }
   ],
   "source": [
    "from sklearn.neighbors import KNeighborsClassifier\n",
    "import math\n",
    "neighbors=int(math.sqrt(len(y_Test)))\n",
    "if(neighbors%2==0):neighbors-=1\n",
    "neighbors"
   ]
  },
  {
   "cell_type": "code",
   "execution_count": 13,
   "metadata": {},
   "outputs": [],
   "source": [
    "model=KNeighborsClassifier(n_neighbors=neighbors,p=2,metric=\"euclidean\")"
   ]
  },
  {
   "cell_type": "code",
   "execution_count": 14,
   "metadata": {},
   "outputs": [
    {
     "output_type": "execute_result",
     "data": {
      "text/plain": [
       "KNeighborsClassifier(metric='euclidean', n_neighbors=9)"
      ]
     },
     "metadata": {},
     "execution_count": 14
    }
   ],
   "source": [
    "model.fit(X_Train,y_Train)"
   ]
  },
  {
   "cell_type": "code",
   "execution_count": 15,
   "metadata": {},
   "outputs": [
    {
     "output_type": "execute_result",
     "data": {
      "text/plain": [
       "array(['jute', 'banana', 'rice', 'papaya', 'rice', 'coffee', 'grapes',\n",
       "       'jute', 'apple', 'papaya', 'maize', 'blackgram', 'orange',\n",
       "       'papaya', 'apple', 'blackgram', 'blackgram', 'papaya', 'apple',\n",
       "       'lentil', 'jute', 'banana', 'grapes', 'papaya', 'maize', 'rice',\n",
       "       'banana', 'lentil', 'blackgram', 'rice', 'apple', 'apple',\n",
       "       'coffee', 'mango', 'grapes', 'jute', 'banana', 'coffee', 'papaya',\n",
       "       'mango', 'papaya', 'lentil', 'grapes', 'lentil', 'jute', 'grapes',\n",
       "       'papaya', 'banana', 'lentil', 'banana', 'lentil', 'apple', 'jute',\n",
       "       'grapes', 'blackgram', 'lentil', 'apple', 'maize', 'banana',\n",
       "       'jute', 'orange', 'banana', 'jute', 'blackgram', 'coffee', 'jute',\n",
       "       'mango', 'apple', 'banana', 'papaya', 'lentil', 'mango', 'mango',\n",
       "       'jute', 'banana', 'banana', 'rice', 'mango', 'papaya', 'lentil',\n",
       "       'apple', 'papaya', 'coffee', 'rice', 'rice', 'mango', 'orange',\n",
       "       'papaya', 'grapes', 'rice', 'mango', 'lentil', 'papaya', 'mango',\n",
       "       'rice', 'coffee', 'blackgram', 'orange', 'jute', 'mango', 'mango',\n",
       "       'apple', 'papaya', 'blackgram', 'grapes', 'lentil', 'rice', 'rice',\n",
       "       'maize', 'maize', 'lentil', 'blackgram', 'blackgram', 'papaya',\n",
       "       'blackgram', 'orange', 'apple', 'maize', 'maize', 'blackgram'],\n",
       "      dtype=object)"
      ]
     },
     "metadata": {},
     "execution_count": 15
    }
   ],
   "source": [
    "predict_val=model.predict(X_Test)\n",
    "predict_val"
   ]
  },
  {
   "cell_type": "code",
   "execution_count": 16,
   "metadata": {},
   "outputs": [
    {
     "output_type": "execute_result",
     "data": {
      "text/plain": [
       "1049         jute\n",
       "476        banana\n",
       "61           rice\n",
       "910        papaya\n",
       "68           rice\n",
       "          ...    \n",
       "869        orange\n",
       "835        orange\n",
       "137         maize\n",
       "101         maize\n",
       "272     blackgram\n",
       "Name: label, Length: 120, dtype: object"
      ]
     },
     "metadata": {},
     "execution_count": 16
    }
   ],
   "source": [
    "y_Test"
   ]
  },
  {
   "cell_type": "code",
   "execution_count": 17,
   "metadata": {},
   "outputs": [
    {
     "output_type": "execute_result",
     "data": {
      "text/plain": [
       "0.9583333333333334"
      ]
     },
     "metadata": {},
     "execution_count": 17
    }
   ],
   "source": [
    "from sklearn.metrics import classification_report,accuracy_score\n",
    "accuracy_score(predict_val,y_Test)"
   ]
  },
  {
   "cell_type": "code",
   "execution_count": 19,
   "metadata": {},
   "outputs": [
    {
     "output_type": "stream",
     "name": "stdout",
     "text": [
      "              precision    recall  f1-score   support\n\n       apple       1.00      0.64      0.78        11\n      banana       1.00      1.00      1.00        11\n   blackgram       1.00      1.00      1.00        12\n      coffee       0.86      1.00      0.92         6\n      grapes       1.00      1.00      1.00         8\n        jute       1.00      0.91      0.95        11\n      lentil       1.00      1.00      1.00        12\n       maize       1.00      1.00      1.00         7\n       mango       1.00      1.00      1.00        11\n      orange       0.56      1.00      0.71         5\n      papaya       1.00      1.00      1.00        15\n        rice       1.00      1.00      1.00        11\n\n    accuracy                           0.96       120\n   macro avg       0.95      0.96      0.95       120\nweighted avg       0.97      0.96      0.96       120\n\n"
     ]
    }
   ],
   "source": [
    "print(classification_report(predict_val,y_Test))"
   ]
  }
 ]
}