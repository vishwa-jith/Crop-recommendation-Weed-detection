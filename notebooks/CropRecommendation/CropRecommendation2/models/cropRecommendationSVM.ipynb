{
 "metadata": {
  "language_info": {
   "codemirror_mode": {
    "name": "ipython",
    "version": 3
   },
   "file_extension": ".py",
   "mimetype": "text/x-python",
   "name": "python",
   "nbconvert_exporter": "python",
   "pygments_lexer": "ipython3",
   "version": "3.8.7-final"
  },
  "orig_nbformat": 2,
  "kernelspec": {
   "name": "python3",
   "display_name": "Python 3",
   "language": "python"
  }
 },
 "nbformat": 4,
 "nbformat_minor": 2,
 "cells": [
  {
   "cell_type": "code",
   "execution_count": 1,
   "metadata": {},
   "outputs": [],
   "source": [
    "# Import Libraries\n",
    "import pandas as pd\n",
    "from sklearn.model_selection import train_test_split\n",
    "from sklearn import metrics\n",
    "from sklearn.model_selection import cross_val_score\n",
    "from sklearn.metrics import classification_report\n",
    "# Models\n",
    "from sklearn.svm import SVC"
   ]
  },
  {
   "cell_type": "code",
   "execution_count": 2,
   "metadata": {},
   "outputs": [],
   "source": [
    "# Define DataFrame\n",
    "cropRecommendationA2=pd.read_csv(\"../../../../preprocessedData/CropRecommentationApproach2.csv\")"
   ]
  },
  {
   "cell_type": "code",
   "execution_count": 3,
   "metadata": {},
   "outputs": [],
   "source": [
    "features=cropRecommendationA2[[\"N\",\"P\",\"K\",\"temperature\",\"humidity\",\"rainfall\"]]\n",
    "target=cropRecommendationA2[\"label\"]"
   ]
  },
  {
   "cell_type": "code",
   "execution_count": 4,
   "metadata": {},
   "outputs": [],
   "source": [
    "X_train,X_test,Y_train,Y_test=train_test_split(features,target,test_size=0.1,random_state=2)"
   ]
  },
  {
   "cell_type": "code",
   "execution_count": 5,
   "metadata": {},
   "outputs": [
    {
     "output_type": "execute_result",
     "data": {
      "text/plain": [
       "array(['maize', 'banana', 'maize', 'maize', 'maize', 'maize', 'maize',\n",
       "       'maize', 'apple', 'maize', 'maize', 'blackgram', 'maize', 'maize',\n",
       "       'apple', 'maize', 'maize', 'maize', 'maize', 'maize', 'maize',\n",
       "       'maize', 'maize', 'maize', 'maize', 'maize', 'maize', 'maize',\n",
       "       'maize', 'maize', 'maize', 'apple', 'maize', 'maize', 'maize',\n",
       "       'maize', 'maize', 'maize', 'maize', 'maize', 'maize', 'maize',\n",
       "       'maize', 'maize', 'maize', 'maize', 'maize', 'banana', 'maize',\n",
       "       'maize', 'maize', 'maize', 'maize', 'maize', 'maize', 'maize',\n",
       "       'maize', 'maize', 'maize', 'maize', 'maize', 'maize', 'maize',\n",
       "       'maize', 'coffee', 'jute', 'maize', 'maize', 'maize', 'maize',\n",
       "       'maize', 'maize', 'maize', 'maize', 'maize', 'maize', 'maize',\n",
       "       'maize', 'maize', 'maize', 'maize', 'maize', 'maize', 'maize',\n",
       "       'maize', 'maize', 'maize', 'maize', 'maize', 'maize', 'maize',\n",
       "       'maize', 'maize', 'maize', 'maize', 'maize', 'maize', 'maize',\n",
       "       'maize', 'maize', 'maize', 'maize', 'maize', 'maize', 'maize',\n",
       "       'maize', 'maize', 'maize', 'maize', 'maize', 'maize', 'maize',\n",
       "       'maize', 'maize', 'maize', 'maize', 'maize', 'maize', 'maize',\n",
       "       'blackgram'], dtype=object)"
      ]
     },
     "metadata": {},
     "execution_count": 5
    }
   ],
   "source": [
    "SVM = SVC(gamma='auto')\n",
    "SVM.fit(X_train,Y_train)\n",
    "predicted_values=SVM.predict(X_test)\n",
    "predicted_values"
   ]
  },
  {
   "cell_type": "code",
   "execution_count": 6,
   "metadata": {},
   "outputs": [
    {
     "output_type": "stream",
     "name": "stdout",
     "text": [
      "Crop Recommendation Accuracy: 0.13333333333333333\n"
     ]
    }
   ],
   "source": [
    "# Accuracy\n",
    "accuracy_score=metrics.accuracy_score(Y_test,predicted_values)\n",
    "print(\"Crop Recommendation Accuracy:\",accuracy_score)"
   ]
  },
  {
   "cell_type": "code",
   "execution_count": 7,
   "metadata": {},
   "outputs": [
    {
     "output_type": "stream",
     "name": "stdout",
     "text": [
      "              precision    recall  f1-score   support\n\n       apple       1.00      0.43      0.60         7\n      banana       1.00      0.18      0.31        11\n   blackgram       1.00      0.17      0.29        12\n      coffee       1.00      0.14      0.25         7\n      grapes       0.00      0.00      0.00         8\n        jute       1.00      0.10      0.18        10\n      lentil       0.00      0.00      0.00        12\n       maize       0.06      1.00      0.12         7\n       mango       0.00      0.00      0.00        11\n      orange       0.00      0.00      0.00         9\n      papaya       0.00      0.00      0.00        15\n        rice       0.00      0.00      0.00        11\n\n    accuracy                           0.13       120\n   macro avg       0.42      0.17      0.15       120\nweighted avg       0.40      0.13      0.13       120\n\n"
     ]
    }
   ],
   "source": [
    "# Classofication Report\n",
    "print(classification_report(Y_test,predicted_values))"
   ]
  }
 ]
}