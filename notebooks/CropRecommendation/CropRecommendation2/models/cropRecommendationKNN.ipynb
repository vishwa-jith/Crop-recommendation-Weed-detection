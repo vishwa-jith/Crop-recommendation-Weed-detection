{
 "metadata": {
  "language_info": {
   "codemirror_mode": {
    "name": "ipython",
    "version": 3
   },
   "file_extension": ".py",
   "mimetype": "text/x-python",
   "name": "python",
   "nbconvert_exporter": "python",
   "pygments_lexer": "ipython3",
   "version": "3.8.7-final"
  },
  "orig_nbformat": 2,
  "kernelspec": {
   "name": "python3",
   "display_name": "Python 3",
   "language": "python"
  }
 },
 "nbformat": 4,
 "nbformat_minor": 2,
 "cells": [
  {
   "cell_type": "code",
   "execution_count": 1,
   "metadata": {},
   "outputs": [],
   "source": [
    "# Import Libraries\n",
    "import pandas as pd\n",
    "from sklearn.model_selection import train_test_split\n",
    "from sklearn import metrics\n",
    "from sklearn.model_selection import cross_val_score\n",
    "from sklearn.metrics import classification_report\n",
    "import seaborn as sns\n",
    "# Models\n",
    "from sklearn.naive_bayes import GaussianNB"
   ]
  },
  {
   "cell_type": "code",
   "execution_count": 2,
   "metadata": {},
   "outputs": [],
   "source": [
    "# Define DataFrame\n",
    "cropRecommendationA2=pd.read_csv(\"../../../../preprocessedData/CropRecommentationApproach2.csv\")"
   ]
  },
  {
   "cell_type": "code",
   "execution_count": 3,
   "metadata": {},
   "outputs": [],
   "source": [
    "features=cropRecommendationA2[[\"N\",\"P\",\"K\",\"temperature\",\"humidity\",\"rainfall\"]]\n",
    "target=cropRecommendationA2[\"label\"]"
   ]
  },
  {
   "cell_type": "code",
   "execution_count": 4,
   "metadata": {},
   "outputs": [],
   "source": [
    "X_train,X_test,Y_train,Y_test=train_test_split(features,target,test_size = 0.1,random_state=2)"
   ]
  },
  {
   "cell_type": "code",
   "execution_count": 5,
   "metadata": {},
   "outputs": [
    {
     "output_type": "execute_result",
     "data": {
      "text/plain": [
       "array(['jute', 'banana', 'rice', 'papaya', 'rice', 'coffee', 'grapes',\n",
       "       'jute', 'apple', 'papaya', 'maize', 'blackgram', 'orange',\n",
       "       'papaya', 'apple', 'blackgram', 'blackgram', 'papaya', 'apple',\n",
       "       'lentil', 'coffee', 'banana', 'grapes', 'papaya', 'maize', 'jute',\n",
       "       'banana', 'lentil', 'blackgram', 'rice', 'orange', 'apple',\n",
       "       'coffee', 'mango', 'grapes', 'jute', 'banana', 'coffee', 'papaya',\n",
       "       'mango', 'papaya', 'lentil', 'grapes', 'lentil', 'jute', 'grapes',\n",
       "       'papaya', 'banana', 'lentil', 'banana', 'lentil', 'orange', 'jute',\n",
       "       'grapes', 'blackgram', 'lentil', 'apple', 'maize', 'banana',\n",
       "       'jute', 'orange', 'banana', 'jute', 'blackgram', 'coffee', 'jute',\n",
       "       'mango', 'apple', 'banana', 'papaya', 'lentil', 'mango', 'mango',\n",
       "       'jute', 'banana', 'banana', 'rice', 'mango', 'papaya', 'lentil',\n",
       "       'orange', 'papaya', 'coffee', 'rice', 'rice', 'mango', 'orange',\n",
       "       'papaya', 'grapes', 'jute', 'mango', 'lentil', 'papaya', 'mango',\n",
       "       'rice', 'coffee', 'blackgram', 'orange', 'jute', 'mango', 'mango',\n",
       "       'apple', 'papaya', 'blackgram', 'grapes', 'lentil', 'rice', 'rice',\n",
       "       'maize', 'maize', 'lentil', 'blackgram', 'blackgram', 'papaya',\n",
       "       'blackgram', 'orange', 'orange', 'maize', 'maize', 'blackgram'],\n",
       "      dtype='<U9')"
      ]
     },
     "metadata": {},
     "execution_count": 5
    }
   ],
   "source": [
    "NaiveBayes=GaussianNB()\n",
    "NaiveBayes.fit(X_train,Y_train)\n",
    "predicted_values=NaiveBayes.predict(X_test)\n",
    "predicted_values"
   ]
  },
  {
   "cell_type": "code",
   "execution_count": 6,
   "metadata": {},
   "outputs": [
    {
     "output_type": "stream",
     "name": "stdout",
     "text": [
      "Crop Recommendation Accuracy: 0.9833333333333333\n"
     ]
    }
   ],
   "source": [
    "# Accuracy\n",
    "accuracy_score=metrics.accuracy_score(Y_test, predicted_values)\n",
    "print(\"Crop Recommendation Accuracy:\",accuracy_score)"
   ]
  },
  {
   "cell_type": "code",
   "execution_count": 7,
   "metadata": {},
   "outputs": [
    {
     "output_type": "stream",
     "name": "stdout",
     "text": [
      "Crop Validation Score:  0.9958333333333333 0.9958333333333333 0.9875 0.9875 0.975\n"
     ]
    }
   ],
   "source": [
    "# Cross Validation Score\n",
    "cross_val_score=cross_val_score(NaiveBayes,features,target,cv=5)\n",
    "print(\"Crop Validation Score: \",*cross_val_score)"
   ]
  },
  {
   "cell_type": "code",
   "execution_count": 8,
   "metadata": {},
   "outputs": [
    {
     "output_type": "stream",
     "name": "stdout",
     "text": [
      "              precision    recall  f1-score   support\n\n       apple       1.00      1.00      1.00         7\n      banana       1.00      1.00      1.00        11\n   blackgram       1.00      1.00      1.00        12\n      coffee       1.00      1.00      1.00         7\n      grapes       1.00      1.00      1.00         8\n        jute       0.83      1.00      0.91        10\n      lentil       1.00      1.00      1.00        12\n       maize       1.00      1.00      1.00         7\n       mango       1.00      1.00      1.00        11\n      orange       1.00      1.00      1.00         9\n      papaya       1.00      1.00      1.00        15\n        rice       1.00      0.82      0.90        11\n\n    accuracy                           0.98       120\n   macro avg       0.99      0.98      0.98       120\nweighted avg       0.99      0.98      0.98       120\n\n"
     ]
    }
   ],
   "source": [
    "# Classofication Report\n",
    "print(classification_report(Y_test,predicted_values))"
   ]
  }
 ]
}